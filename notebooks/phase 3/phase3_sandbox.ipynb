{
 "cells": [
  {
   "cell_type": "code",
   "execution_count": 1,
   "metadata": {},
   "outputs": [],
   "source": [
    "import pandas as pd\n",
    "import numpy as np\n",
    "from langchain_community.embeddings import HuggingFaceEmbeddings\n",
    "from langchain_community.vectorstores.faiss import FAISS"
   ]
  },
  {
   "cell_type": "code",
   "execution_count": 2,
   "metadata": {},
   "outputs": [
    {
     "name": "stderr",
     "output_type": "stream",
     "text": [
      "c:\\Users\\bpadmin\\anaconda3\\envs\\tf_tr_recommender\\lib\\site-packages\\tqdm\\auto.py:21: TqdmWarning: IProgress not found. Please update jupyter and ipywidgets. See https://ipywidgets.readthedocs.io/en/stable/user_install.html\n",
      "  from .autonotebook import tqdm as notebook_tqdm\n"
     ]
    }
   ],
   "source": [
    "embeddings = HuggingFaceEmbeddings()"
   ]
  },
  {
   "cell_type": "code",
   "execution_count": 3,
   "metadata": {},
   "outputs": [],
   "source": [
    "new_db = FAISS.load_local(\"../../vector_db/phase2_symbols\", embeddings)"
   ]
  },
  {
   "cell_type": "code",
   "execution_count": 7,
   "metadata": {},
   "outputs": [],
   "source": [
    "def get_recommendations(query, top_k):\n",
    "  relevant_stocks = new_db.similarity_search_with_relevance_scores(query= query, k = top_k)\n",
    "  recommendations = [(relevant_stocks[idx][0].metadata.get('symbol'), relevant_stocks[idx][0].metadata.get('name'), relevant_stocks[idx][1]) for idx in range(len(relevant_stocks))]\n",
    "  for idx, data in enumerate(recommendations):\n",
    "    # if data[2]>=0:\n",
    "      print('{}. {} : {} |score : {}'.format(idx+1, data[0], data[1], data[2]))\n"
   ]
  },
  {
   "cell_type": "code",
   "execution_count": 11,
   "metadata": {},
   "outputs": [
    {
     "name": "stdout",
     "output_type": "stream",
     "text": [
      "1. SLTL : SRI LANKA TELECOM PLC |score : 0.15695842130411541\n",
      "2. ECL : E - CHANNELLING PLC |score : 0.1401371925949325\n",
      "3. COMB : COMMERCIAL BANK OF CEYLON PLC |score : 0.1106094477029882\n",
      "4. HBS : hSenid Business Solutions PLC |score : 0.09314092769437499\n",
      "5. SAMP : SAMPATH BANK PLC |score : 0.08918603601750674\n",
      "6. TAJ : TAL LANKA HOTELS PLC |score : 0.08549818677280352\n",
      "7. HNB : HATTON NATIONAL BANK PLC |score : 0.07454877270446136\n",
      "8. LHCL : THE LANKA HOSPITALS CORPORATION PLC |score : 0.06749625624943634\n",
      "9. SINH : SINGHE HOSPITALS PLC |score : 0.0653690205113946\n",
      "10. JKH : JOHN KEELLS HOLDINGS PLC |score : 0.06355426150821242\n"
     ]
    }
   ],
   "source": [
    "stock_pref = 'software and Inforamation technology, healthcare, banking'\n",
    "\n",
    "get_recommendations(stock_pref, top_k = 10)"
   ]
  },
  {
   "cell_type": "code",
   "execution_count": 17,
   "metadata": {},
   "outputs": [
    {
     "data": {
      "text/plain": [
       "2"
      ]
     },
     "execution_count": 17,
     "metadata": {},
     "output_type": "execute_result"
    }
   ],
   "source": [
    "10%4"
   ]
  },
  {
   "cell_type": "code",
   "execution_count": 18,
   "metadata": {},
   "outputs": [
    {
     "name": "stdout",
     "output_type": "stream",
     "text": [
      "1. SLTL : SRI LANKA TELECOM PLC |score : 0.14880056160004373\n",
      "2. ECL : E - CHANNELLING PLC |score : 0.08778381036754923\n",
      "3. GEST : GESTETNER OF CEYLON PLC |score : 0.05392454956044346\n",
      "4. HHL : HEMAS HOLDINGS PLC |score : 0.1986887746580247\n",
      "5. LHCL : THE LANKA HOSPITALS CORPORATION PLC |score : 0.12981424928285623\n",
      "6. ASIR : ASIRI HOSPITAL HOLDINGS PLC |score : 0.08637467263443599\n",
      "7. NTB : NATIONS TRUST BANK PLC |score : 0.44205437173508444\n",
      "8. COMB : COMMERCIAL BANK OF CEYLON PLC |score : 0.3876845578343945\n",
      "9. SAMP : SAMPATH BANK PLC |score : 0.3758530523735678\n",
      "10. NTB : NATIONS TRUST BANK PLC |score : 0.44205437173508444\n"
     ]
    }
   ],
   "source": [
    "top_k = 10\n",
    "domains = ['software and Inforamation technology','healthcare','banking']\n",
    "\n",
    "num_domains = len(domains)\n",
    "symbol_per_domain = top_k//num_domains\n",
    "remain = top_k % num_domains\n",
    "recommendations = []\n",
    "\n",
    "for domain in domains:\n",
    "    relevant_stocks = new_db.similarity_search_with_relevance_scores(query= domain, k = symbol_per_domain)\n",
    "    domain_recommendations = [(relevant_stocks[idx][0].metadata.get('symbol'), relevant_stocks[idx][0].metadata.get('name'), relevant_stocks[idx][1]) for idx in range(len(relevant_stocks))]\n",
    "    recommendations = recommendations + domain_recommendations\n",
    "\n",
    "query = ','.join(domains)\n",
    "\n",
    "relevant_stocks = new_db.similarity_search_with_relevance_scores(query= domain, k = remain)\n",
    "domain_recommendations = [(relevant_stocks[idx][0].metadata.get('symbol'), relevant_stocks[idx][0].metadata.get('name'), relevant_stocks[idx][1]) for idx in range(len(relevant_stocks))]\n",
    "recommendations = recommendations + domain_recommendations\n",
    "\n",
    "for idx, data in enumerate(recommendations):\n",
    "    # if data[2]>=0:\n",
    "      print('{}. {} : {} |score : {}'.format(idx+1, data[0], data[1], data[2]))\n"
   ]
  },
  {
   "cell_type": "markdown",
   "metadata": {},
   "source": [
    "1. SLTL : SRI LANKA TELECOM PLC |score : 0.15695842130411541\n",
    "2. ECL : E - CHANNELLING PLC |score : 0.1401371925949325\n",
    "3. COMB : COMMERCIAL BANK OF CEYLON PLC |score : 0.1106094477029882\n",
    "4. HBS : hSenid Business Solutions PLC |score : 0.09314092769437499\n",
    "5. SAMP : SAMPATH BANK PLC |score : 0.08918603601750674\n",
    "6. TAJ : TAL LANKA HOTELS PLC |score : 0.08549818677280352\n",
    "7. HNB : HATTON NATIONAL BANK PLC |score : 0.07454877270446136\n",
    "8. LHCL : THE LANKA HOSPITALS CORPORATION PLC |score : 0.06749625624943634\n",
    "9. SINH : SINGHE HOSPITALS PLC |score : 0.0653690205113946\n",
    "10. JKH : JOHN KEELLS HOLDINGS PLC |score : 0.06355426150821242"
   ]
  },
  {
   "cell_type": "code",
   "execution_count": 13,
   "metadata": {},
   "outputs": [
    {
     "data": {
      "text/plain": [
       "3"
      ]
     },
     "execution_count": 13,
     "metadata": {},
     "output_type": "execute_result"
    }
   ],
   "source": [
    "symbol_per_domain"
   ]
  }
 ],
 "metadata": {
  "kernelspec": {
   "display_name": "tf_tr_recommender",
   "language": "python",
   "name": "python3"
  },
  "language_info": {
   "codemirror_mode": {
    "name": "ipython",
    "version": 3
   },
   "file_extension": ".py",
   "mimetype": "text/x-python",
   "name": "python",
   "nbconvert_exporter": "python",
   "pygments_lexer": "ipython3",
   "version": "3.9.18"
  }
 },
 "nbformat": 4,
 "nbformat_minor": 2
}
