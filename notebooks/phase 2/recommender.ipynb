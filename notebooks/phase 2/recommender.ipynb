{
 "cells": [
  {
   "cell_type": "code",
   "execution_count": 1,
   "metadata": {},
   "outputs": [
    {
     "name": "stderr",
     "output_type": "stream",
     "text": [
      "c:\\Users\\bpadmin\\anaconda3\\envs\\tf_tr_recommender\\lib\\site-packages\\tqdm\\auto.py:21: TqdmWarning: IProgress not found. Please update jupyter and ipywidgets. See https://ipywidgets.readthedocs.io/en/stable/user_install.html\n",
      "  from .autonotebook import tqdm as notebook_tqdm\n"
     ]
    }
   ],
   "source": [
    "import gradio as gr\n",
    "import pandas as pd\n",
    "import numpy as np\n",
    "import json\n",
    "import io \n",
    "import sys\n",
    "from PIL import Image\n",
    "from langchain_community.embeddings import HuggingFaceEmbeddings\n",
    "from langchain_community.vectorstores.faiss import FAISS"
   ]
  },
  {
   "cell_type": "markdown",
   "metadata": {},
   "source": [
    "# Recommendation generation"
   ]
  },
  {
   "cell_type": "code",
   "execution_count": 2,
   "metadata": {},
   "outputs": [
    {
     "name": "stderr",
     "output_type": "stream",
     "text": [
      "modules.json: 100%|██████████| 349/349 [00:00<00:00, 187kB/s]\n",
      "c:\\Users\\bpadmin\\anaconda3\\envs\\tf_tr_recommender\\lib\\site-packages\\huggingface_hub\\file_download.py:149: UserWarning: `huggingface_hub` cache-system uses symlinks by default to efficiently store duplicated files but your machine does not support them in C:\\Users\\naradaw\\.cache\\huggingface\\hub\\models--sentence-transformers--all-mpnet-base-v2. Caching files will still work but in a degraded version that might require more space on your disk. This warning can be disabled by setting the `HF_HUB_DISABLE_SYMLINKS_WARNING` environment variable. For more details, see https://huggingface.co/docs/huggingface_hub/how-to-cache#limitations.\n",
      "To support symlinks on Windows, you either need to activate Developer Mode or to run Python as an administrator. In order to see activate developer mode, see this article: https://docs.microsoft.com/en-us/windows/apps/get-started/enable-your-device-for-development\n",
      "  warnings.warn(message)\n",
      "config_sentence_transformers.json: 100%|██████████| 116/116 [00:00<00:00, 23.5kB/s]\n",
      "README.md: 100%|██████████| 10.6k/10.6k [00:00<?, ?B/s]\n",
      "sentence_bert_config.json: 100%|██████████| 53.0/53.0 [00:00<?, ?B/s]\n",
      "config.json: 100%|██████████| 571/571 [00:00<?, ?B/s] \n",
      "pytorch_model.bin: 100%|██████████| 438M/438M [01:03<00:00, 6.90MB/s] \n",
      "tokenizer_config.json: 100%|██████████| 363/363 [00:00<?, ?B/s] \n",
      "vocab.txt: 100%|██████████| 232k/232k [00:00<00:00, 2.16MB/s]\n",
      "tokenizer.json: 100%|██████████| 466k/466k [00:00<00:00, 912kB/s]\n",
      "special_tokens_map.json: 100%|██████████| 239/239 [00:00<?, ?B/s] \n",
      "1_Pooling/config.json: 100%|██████████| 190/190 [00:00<00:00, 13.9kB/s]\n"
     ]
    }
   ],
   "source": [
    "embeddings = HuggingFaceEmbeddings()"
   ]
  },
  {
   "cell_type": "code",
   "execution_count": 3,
   "metadata": {},
   "outputs": [],
   "source": [
    "new_db = FAISS.load_local(\"../../vector_db/phase2_symbols\", embeddings)"
   ]
  },
  {
   "cell_type": "code",
   "execution_count": 4,
   "metadata": {},
   "outputs": [],
   "source": [
    "def get_recommendations(query, top_k):\n",
    "  relevant_stocks = new_db.similarity_search_with_relevance_scores(query= query, k = top_k)\n",
    "  recommendations = [(relevant_stocks[idx][0].metadata.get('symbol'), relevant_stocks[idx][0].metadata.get('name'), relevant_stocks[idx][1]) for idx in range(len(relevant_stocks))]\n",
    "  for idx, data in enumerate(recommendations):\n",
    "    if data[2]>=0:\n",
    "      print('{}. {} : {} |score : {}'.format(idx+1, data[0], data[1], data[2]))\n"
   ]
  },
  {
   "cell_type": "code",
   "execution_count": 5,
   "metadata": {},
   "outputs": [
    {
     "name": "stdout",
     "output_type": "stream",
     "text": [
      "1. ECL : E - CHANNELLING PLC |score : 0.15225744611490732\n",
      "2. SLTL : SRI LANKA TELECOM PLC |score : 0.1514007692720748\n",
      "3. GEST : GESTETNER OF CEYLON PLC |score : 0.09990819427867814\n",
      "4. HAYL : HAYLEYS PLC |score : 0.0751765921598796\n",
      "5. DIAL : DIALOG AXIATA PLC |score : 0.07034462456549961\n",
      "6. LPL : LAUGFS POWER PLC |score : 0.06791991637066785\n",
      "7. DIMO : DIESEL & MOTOR ENGINEERING PLC |score : 0.06789513402374348\n",
      "8. HBS : hSenid Business Solutions PLC |score : 0.06200249883973841\n",
      "9. MELS : MELSTACORP PLC |score : 0.060525841855310736\n",
      "10. MDL : MYLAND DEVELOPMENTS PLC |score : 0.05051326793566868\n"
     ]
    }
   ],
   "source": [
    "stock_pref = 'businesses in the domain of software and Inforamation technology'\n",
    "\n",
    "get_recommendations(stock_pref, top_k = 10)"
   ]
  },
  {
   "cell_type": "markdown",
   "metadata": {},
   "source": [
    "# Insight generation"
   ]
  },
  {
   "cell_type": "code",
   "execution_count": 6,
   "metadata": {},
   "outputs": [],
   "source": [
    "from datetime import datetime\n",
    "\n",
    "import plotly.graph_objects as go\n",
    "from plotly.subplots import make_subplots\n",
    "import plotly.express as px"
   ]
  },
  {
   "cell_type": "code",
   "execution_count": 7,
   "metadata": {},
   "outputs": [],
   "source": [
    "data_path = '../../data/phase_2/price_data_v2.xlsx'\n",
    "\n",
    "data = pd.read_excel(data_path, index_col= False)"
   ]
  },
  {
   "cell_type": "code",
   "execution_count": 8,
   "metadata": {},
   "outputs": [
    {
     "data": {
      "text/html": [
       "<div>\n",
       "<style scoped>\n",
       "    .dataframe tbody tr th:only-of-type {\n",
       "        vertical-align: middle;\n",
       "    }\n",
       "\n",
       "    .dataframe tbody tr th {\n",
       "        vertical-align: top;\n",
       "    }\n",
       "\n",
       "    .dataframe thead th {\n",
       "        text-align: right;\n",
       "    }\n",
       "</style>\n",
       "<table border=\"1\" class=\"dataframe\">\n",
       "  <thead>\n",
       "    <tr style=\"text-align: right;\">\n",
       "      <th></th>\n",
       "      <th>SECURITYCODE</th>\n",
       "      <th>OPENINGPRICE</th>\n",
       "      <th>HIGHPX</th>\n",
       "      <th>LOWPX</th>\n",
       "      <th>CLOSINGPRICE</th>\n",
       "      <th>TRADEDATE</th>\n",
       "      <th>UNIX_TS</th>\n",
       "    </tr>\n",
       "  </thead>\n",
       "  <tbody>\n",
       "    <tr>\n",
       "      <th>0</th>\n",
       "      <td>EXT</td>\n",
       "      <td>7.3</td>\n",
       "      <td>7.5</td>\n",
       "      <td>7.3</td>\n",
       "      <td>7.5</td>\n",
       "      <td>2024-02-07</td>\n",
       "      <td>1707264000</td>\n",
       "    </tr>\n",
       "    <tr>\n",
       "      <th>1</th>\n",
       "      <td>COOP</td>\n",
       "      <td>2.3</td>\n",
       "      <td>2.3</td>\n",
       "      <td>2.2</td>\n",
       "      <td>2.2</td>\n",
       "      <td>2024-02-07</td>\n",
       "      <td>1707264000</td>\n",
       "    </tr>\n",
       "    <tr>\n",
       "      <th>2</th>\n",
       "      <td>MDL</td>\n",
       "      <td>8.3</td>\n",
       "      <td>8.6</td>\n",
       "      <td>8.3</td>\n",
       "      <td>8.6</td>\n",
       "      <td>2024-02-07</td>\n",
       "      <td>1707264000</td>\n",
       "    </tr>\n",
       "    <tr>\n",
       "      <th>3</th>\n",
       "      <td>FCT</td>\n",
       "      <td>24.9</td>\n",
       "      <td>26.4</td>\n",
       "      <td>24.8</td>\n",
       "      <td>26.2</td>\n",
       "      <td>2024-02-07</td>\n",
       "      <td>1707264000</td>\n",
       "    </tr>\n",
       "    <tr>\n",
       "      <th>4</th>\n",
       "      <td>HBS</td>\n",
       "      <td>11.5</td>\n",
       "      <td>11.6</td>\n",
       "      <td>11.5</td>\n",
       "      <td>11.5</td>\n",
       "      <td>2024-02-07</td>\n",
       "      <td>1707264000</td>\n",
       "    </tr>\n",
       "  </tbody>\n",
       "</table>\n",
       "</div>"
      ],
      "text/plain": [
       "  SECURITYCODE  OPENINGPRICE  HIGHPX  LOWPX  CLOSINGPRICE  TRADEDATE  \\\n",
       "0          EXT           7.3     7.5    7.3           7.5 2024-02-07   \n",
       "1         COOP           2.3     2.3    2.2           2.2 2024-02-07   \n",
       "2          MDL           8.3     8.6    8.3           8.6 2024-02-07   \n",
       "3          FCT          24.9    26.4   24.8          26.2 2024-02-07   \n",
       "4          HBS          11.5    11.6   11.5          11.5 2024-02-07   \n",
       "\n",
       "      UNIX_TS  \n",
       "0  1707264000  \n",
       "1  1707264000  \n",
       "2  1707264000  \n",
       "3  1707264000  \n",
       "4  1707264000  "
      ]
     },
     "execution_count": 8,
     "metadata": {},
     "output_type": "execute_result"
    }
   ],
   "source": [
    "data.head()\n"
   ]
  },
  {
   "cell_type": "code",
   "execution_count": 9,
   "metadata": {},
   "outputs": [],
   "source": [
    "# def split_(stock_name):\n",
    "#     return stock_name.split('.')[0]\n",
    "# data['SECURITYCODE'] = data['SECURITYCODE'].apply(lambda x : split_(x))\n",
    "# data = data[['SECURITYCODE','OPENINGPRICE','HIGHPX', 'LOWPX', 'CLOSINGPRICE', 'TRADEDATE', 'UNIX_TS']].dropna(axis= 0, how = 'any')\n",
    "# data"
   ]
  },
  {
   "cell_type": "markdown",
   "metadata": {},
   "source": [
    "# Plot OHLC"
   ]
  },
  {
   "cell_type": "code",
   "execution_count": 10,
   "metadata": {},
   "outputs": [],
   "source": [
    "def plot_ohlc(data, title):\n",
    "    x_vals = data.TRADEDATE\n",
    "\n",
    "    fig = make_subplots(rows=1, cols=1, vertical_spacing=0.01 , specs=[[{'rowspan':1, 'type':'Candlestick'}]],shared_xaxes=True)\n",
    "    ohlc_obj = go.Candlestick(x=x_vals, open = data.OPENINGPRICE, high=data.HIGHPX, low=data.LOWPX, close=data.CLOSINGPRICE, name= title)\n",
    "    fig.add_trace(ohlc_obj, row = 1, col = 1)\n",
    "    fig.update_layout(title = title)\n",
    "    fig.show(config={\n",
    "        'modeBarButtonsToRemove': ['zoom', 'pan']\n",
    "    })"
   ]
  },
  {
   "cell_type": "code",
   "execution_count": 11,
   "metadata": {},
   "outputs": [],
   "source": [
    "# from turtle import bgcolor\n",
    "# from matplotlib.axis import XAxis\n",
    "\n",
    "\n",
    "def plot_ohlc_w_des(data, titile, des):\n",
    "    x_vals = data.TRADEDATE\n",
    "\n",
    "    fig = make_subplots(rows=1, cols=2, vertical_spacing=0.01, column_widths=[0.15, 0.85], subplot_titles=[\"\", \"Chart\"]) #,shared_xaxes=True\n",
    "    ohlc_obj = go.Candlestick(x=x_vals, open = data.OPENINGPRICE, high=data.HIGHPX, low=data.LOWPX, close=data.CLOSINGPRICE, name= 'OHLC')\n",
    "    fig.add_trace(ohlc_obj, row = 1, col = 2)\n",
    "    fig.add_trace(go.Scatter(x=[], y=[]), row=1, col=1)\n",
    "\n",
    "    fig.add_annotation(x=10, y=10, xref=\"paper\", yref=\"paper\",\n",
    "                   text=des, showarrow=False,\n",
    "                   align = 'left',\n",
    "                   font=dict(size=10, color=\"black\"),\n",
    "                   row=1, col=1)\n",
    "\n",
    "    fig.update_layout(xaxis=dict(visible=False), yaxis=dict(visible=False))\n",
    "    fig.update_yaxes(showgrid=False, zeroline=False, showticklabels=False, row=1, col=1)\n",
    "    fig.update_annotations(selector=dict(row=1, col=1), paper_bgcolor='rgba(0,0,0,0)',plot_bgcolor='rgba(0,0,0,0)')\n",
    "    fig.update_layout(height=500, width=1500, title_text=titile)\n",
    "\n",
    "    return fig"
   ]
  },
  {
   "cell_type": "markdown",
   "metadata": {},
   "source": [
    "## OHLC candles"
   ]
  },
  {
   "cell_type": "markdown",
   "metadata": {},
   "source": [
    "## Volatility calculations"
   ]
  },
  {
   "cell_type": "code",
   "execution_count": 12,
   "metadata": {},
   "outputs": [],
   "source": [
    "def get_log_returns_v2(df ,close_col , horizon):\n",
    "  data1 = df[close_col][horizon:].to_numpy()\n",
    "  data2 = df[close_col][:-horizon].to_numpy()\n",
    "  df = df.reset_index(drop = True)\n",
    "  df.loc[horizon:, 'returns'] = data1/data2\n",
    "  df['log_returns'] = np.log(df['returns'])\n",
    "  df = df.dropna(axis = 0, how = 'any').reset_index(drop = True)\n",
    "  return df"
   ]
  },
  {
   "cell_type": "code",
   "execution_count": 13,
   "metadata": {},
   "outputs": [],
   "source": [
    "def get_std_volatility(df, close_col = 'CLOSINGPRICE', horizon = 5):\n",
    "\n",
    "    df_out = get_log_returns_v2(df, 'CLOSINGPRICE', 5)\n",
    "    return_mean = df_out.log_returns.mean()\n",
    "    return_std = df_out.log_returns.std()\n",
    "\n",
    "    return return_mean, return_std"
   ]
  },
  {
   "cell_type": "markdown",
   "metadata": {},
   "source": [
    "### Garman Klass volatility\n",
    "![image.png](attachment:image.png)"
   ]
  },
  {
   "cell_type": "code",
   "execution_count": 14,
   "metadata": {},
   "outputs": [],
   "source": [
    "def GKHV(o,h,l,c):\n",
    "\n",
    "    volatility = (1/2)*((np.log(h/l))**2) + (2*(np.log(2))-1)*((np.log(c/o))**2)\n",
    "\n",
    "    return volatility"
   ]
  },
  {
   "cell_type": "markdown",
   "metadata": {},
   "source": [
    "### Rogers and Satchell\n",
    "\n",
    "![image.png](attachment:image.png)"
   ]
  },
  {
   "cell_type": "code",
   "execution_count": 15,
   "metadata": {},
   "outputs": [],
   "source": [
    "def RS(o,h,l,c,prev_c):\n",
    "\n",
    "    u = np.log(h/o)\n",
    "    c = np.log(c/o)\n",
    "    d = np.log(l/o)\n",
    "\n",
    "\n",
    "    volatility = u*(u-c) + d*(d-c)\n",
    "\n",
    "    return volatility\n"
   ]
  },
  {
   "cell_type": "markdown",
   "metadata": {},
   "source": [
    "### Yand and Zhang\n",
    "![image.png](attachment:image.png)"
   ]
  },
  {
   "cell_type": "code",
   "execution_count": 16,
   "metadata": {},
   "outputs": [],
   "source": [
    "symbol_volatilities = pd.DataFrame()\n",
    "v_dict = {}\n",
    "symbols = data\n",
    "for symbol in symbols:\n",
    "    # print(symbol)\n",
    "    v_dict['symbol'] = symbol\n",
    "\n",
    "    symbol_df = data.loc[data.SECURITYCODE == symbol].sort_values(by = 'UNIX_TS').reset_index(drop = True)\n",
    "    \n",
    "    symbol_df['gkhv'] = symbol_df.apply(lambda row: GKHV(row['OPENINGPRICE'],row['HIGHPX'],row['LOWPX'],row['CLOSINGPRICE']), axis = 1)\n",
    "    gkhv = np.sqrt(symbol_df.gkhv.mean())\n",
    "    v_dict['gkhv'] = gkhv\n",
    "\n",
    "    symbol_df['prev_c'] = symbol_df['CLOSINGPRICE'].shift(1)\n",
    "    symbol_df['rs'] = symbol_df.apply(lambda row: RS(row['OPENINGPRICE'],row['HIGHPX'],row['LOWPX'],row['CLOSINGPRICE'], row['prev_c']), axis = 1)\n",
    "    rs = np.sqrt(symbol_df.rs.mean())\n",
    "    v_dict['rs'] = rs\n",
    "\n",
    "    symbol_df['norm_o'] = symbol_df['OPENINGPRICE']/symbol_df['CLOSINGPRICE'].shift(1)\n",
    "    symbol_df['norm_c'] = symbol_df['CLOSINGPRICE']/symbol_df['OPENINGPRICE']\n",
    "    k = (0.34/(1.34 + ((len(symbol_df)+1)/(len(symbol_df)-1))))\n",
    "    yangzhang = np.sqrt((symbol_df['norm_o'].std()**2) + (k*symbol_df['norm_c'].std()**2) + (1-k)*symbol_df['rs'].mean())\n",
    "    v_dict['yangzhang'] = yangzhang\n",
    "\n",
    "    symbol_volatilities = pd.concat([symbol_volatilities, pd.DataFrame([v_dict])], ignore_index = True)"
   ]
  },
  {
   "cell_type": "markdown",
   "metadata": {},
   "source": [
    "### get_volatlity_insights"
   ]
  },
  {
   "cell_type": "code",
   "execution_count": 17,
   "metadata": {},
   "outputs": [],
   "source": [
    "def get_volatility_insights(symbol_df):\n",
    "\n",
    "    symbol_df['gkhv'] = symbol_df.apply(lambda row: GKHV(row['OPENINGPRICE'],row['HIGHPX'],row['LOWPX'],row['CLOSINGPRICE']), axis = 1)\n",
    "    gkhv = (np.sqrt(symbol_df.gkhv.mean()))*100\n",
    "\n",
    "    symbol_df['prev_c'] = symbol_df['CLOSINGPRICE'].shift(1)\n",
    "    symbol_df['rs'] = symbol_df.apply(lambda row: RS(row['OPENINGPRICE'],row['HIGHPX'],row['LOWPX'],row['CLOSINGPRICE'], row['prev_c']), axis = 1)\n",
    "    rs = (np.sqrt(symbol_df.rs.mean()))*100\n",
    "\n",
    "    symbol_df['norm_o'] = symbol_df['OPENINGPRICE']/symbol_df['CLOSINGPRICE'].shift(1)\n",
    "    symbol_df['norm_c'] = symbol_df['CLOSINGPRICE']/symbol_df['OPENINGPRICE']\n",
    "    k = (0.34/(1.34 + ((len(symbol_df)+1)/(len(symbol_df)-1))))\n",
    "    \n",
    "    yangzhang = np.sqrt((symbol_df['norm_o'].std()**2) + (k*symbol_df['norm_c'].std()**2) + (1-k)*symbol_df['rs'].mean())*100\n",
    "    \n",
    "    return gkhv, rs, yangzhang"
   ]
  },
  {
   "cell_type": "markdown",
   "metadata": {},
   "source": [
    "## Drowdown"
   ]
  },
  {
   "cell_type": "code",
   "execution_count": 18,
   "metadata": {},
   "outputs": [],
   "source": [
    "# returns percentage\n",
    "def max_drowdown(symb_df,close):\n",
    "    max_prs = close.rolling(window = len(symb_df), min_periods = 1).max()\n",
    "    dd = (close/max_prs) - 1\n",
    "    max_dd = dd.rolling(window = len(dd), min_periods=1).min()\n",
    "    return max_dd.min()*100\n"
   ]
  },
  {
   "cell_type": "markdown",
   "metadata": {},
   "source": [
    "## Returns"
   ]
  },
  {
   "cell_type": "code",
   "execution_count": 19,
   "metadata": {},
   "outputs": [],
   "source": [
    "def find_act_fday(symbol_df ,possible_dates):\n",
    "\n",
    "    for pos_date in possible_dates:\n",
    "    # print(pos_date)\n",
    "        if pos_date in symbol_df.TRADEDATE.values:\n",
    "            return pos_date\n",
    "            # break\n",
    "    \n",
    "    # return pos_date"
   ]
  },
  {
   "cell_type": "markdown",
   "metadata": {},
   "source": [
    "### get_yr_2_date"
   ]
  },
  {
   "cell_type": "code",
   "execution_count": 20,
   "metadata": {},
   "outputs": [],
   "source": [
    "#returns the percentage value\n",
    "def get_yr_2_date(symbol_df):\n",
    "    # fday = pd.Timestamp(datetime((pd.Timestamp.today().year),1,1).date())\n",
    "\n",
    "    # fixing current date as per the dataset. ideally should be the actual current date\n",
    "    fday = pd.Timestamp(datetime((symbol_df.TRADEDATE.max().year),1,1).date())\n",
    "\n",
    "    possible_dates = pd.bdate_range(fday, fday+pd.offsets.BusinessDay(n=5))\n",
    "\n",
    "    act_fday = find_act_fday(symbol_df,possible_dates)\n",
    "    \n",
    "    fday_value = symbol_df.loc[symbol_df.TRADEDATE == act_fday].CLOSINGPRICE.iloc[0]\n",
    "    today_value = symbol_df.iloc[-1].CLOSINGPRICE\n",
    "\n",
    "    yr_2_dt_return = (today_value - fday_value)/fday_value\n",
    "\n",
    "    yr_2_date_df = symbol_df[symbol_df.TRADEDATE >= act_fday].sort_values(by = 'UNIX_TS')\n",
    "    gkhv, rs, yangzhang = get_volatility_insights(yr_2_date_df)\n",
    "\n",
    "    max_dd = max_drowdown(yr_2_date_df, yr_2_date_df['CLOSINGPRICE'])\n",
    "\n",
    "    # return yr_2_dt_return*100, max_dd, gkhv, rs, yangzhang\n",
    "    return round(yr_2_dt_return*100, 2), round(max_dd, 2) , round(gkhv, 2), round(rs, 2), round(yangzhang, 2)"
   ]
  },
  {
   "cell_type": "markdown",
   "metadata": {},
   "source": [
    "### get_yr"
   ]
  },
  {
   "cell_type": "code",
   "execution_count": 21,
   "metadata": {},
   "outputs": [],
   "source": [
    "# returns the percentage value\n",
    "def get_yr(symbol_df):\n",
    "\n",
    "    fday = symbol_df.TRADEDATE.iloc[-1] - pd.DateOffset(years=1)\n",
    "    possible_dates = pd.bdate_range(fday, fday+pd.offsets.BusinessDay(n=20))\n",
    "    \n",
    "    act_fday = find_act_fday(symbol_df,possible_dates)\n",
    "    \n",
    "    fday_value = symbol_df.loc[symbol_df.TRADEDATE == act_fday].CLOSINGPRICE.iloc[0]\n",
    "    today_value = symbol_df.iloc[-1].CLOSINGPRICE\n",
    "\n",
    "    yr_return = (today_value - fday_value)/fday_value\n",
    "\n",
    "    yr_df = symbol_df[symbol_df.TRADEDATE >= act_fday].sort_values(by = 'UNIX_TS')\n",
    "    gkhv, rs, yangzhang = get_volatility_insights(yr_df)\n",
    "\n",
    "    max_dd = max_drowdown(yr_df, yr_df['CLOSINGPRICE'])\n",
    "\n",
    "    # return yr_return*100, max_dd, gkhv, rs, yangzhang\n",
    "    return round(yr_return*100, 2), round(max_dd, 2) , round(gkhv, 2), round(rs, 2), round(yangzhang, 2)"
   ]
  },
  {
   "cell_type": "markdown",
   "metadata": {},
   "source": [
    "### get_mn"
   ]
  },
  {
   "cell_type": "code",
   "execution_count": 22,
   "metadata": {},
   "outputs": [],
   "source": [
    "# returns the percentage value\n",
    "def get_mn(symbol_df):\n",
    "\n",
    "    fday = symbol_df.TRADEDATE.iloc[-1] - pd.DateOffset(months=1)\n",
    "    possible_dates = pd.bdate_range(fday, fday+pd.offsets.BusinessDay(n=5))\n",
    "\n",
    "    act_fday = find_act_fday(symbol_df,possible_dates)\n",
    "    \n",
    "    fday_value = symbol_df.loc[symbol_df.TRADEDATE == act_fday].CLOSINGPRICE.iloc[0]\n",
    "    today_value = symbol_df.iloc[-1].CLOSINGPRICE\n",
    "\n",
    "    mn_return = (today_value - fday_value)/fday_value\n",
    "\n",
    "    mn_df = symbol_df[symbol_df.TRADEDATE >= act_fday].sort_values(by = 'UNIX_TS')\n",
    "    gkhv, rs, yangzhang = get_volatility_insights(mn_df)\n",
    "\n",
    "    max_dd = max_drowdown(mn_df, mn_df['CLOSINGPRICE'])\n",
    "\n",
    "    return round(mn_return*100, 2), round(max_dd, 2) , round(gkhv, 2), round(rs, 2), round(yangzhang, 2)"
   ]
  },
  {
   "cell_type": "code",
   "execution_count": 23,
   "metadata": {},
   "outputs": [],
   "source": [
    "def get_insights(symbol):\n",
    "    insight_dict = {'year_to_date':{}, 'last_year':{}, 'last_month' : {}}\n",
    "    symbol_df = data.loc[data.SECURITYCODE == symbol].sort_values(by = 'UNIX_TS')\n",
    "\n",
    "    insight_dict['year_to_date']['yr_2_dt_return'], insight_dict['year_to_date']['yr_2_dt_mx_dd'], insight_dict['year_to_date']['gkhv'], insight_dict['year_to_date']['rs'], insight_dict['year_to_date']['yangzhang'] = get_yr_2_date(symbol_df)\n",
    "    insight_dict['last_year']['yr_2_dt_return'], insight_dict['last_year']['yr_2_dt_mx_dd'], insight_dict['last_year']['gkhv'], insight_dict['last_year']['rs'], insight_dict['last_year']['yangzhang'] = get_yr(symbol_df)\n",
    "    insight_dict['last_month']['yr_2_dt_return'], insight_dict['last_month']['yr_2_dt_mx_dd'], insight_dict['last_month']['gkhv'], insight_dict['last_month']['rs'], insight_dict['last_month']['yangzhang'] = get_mn(symbol_df)\n",
    "\n",
    "    return insight_dict"
   ]
  },
  {
   "cell_type": "code",
   "execution_count": 24,
   "metadata": {},
   "outputs": [],
   "source": [
    "def get_insights_html(symbol):\n",
    "    insight_dict = {'year_to_date':{}, 'last_year':{}, 'last_month' : {}}\n",
    "    symbol_df = data.loc[data.SECURITYCODE == symbol].sort_values(by = 'UNIX_TS')\n",
    "\n",
    "    y2d = get_yr_2_date(symbol_df)\n",
    "    yr = get_yr(symbol_df)\n",
    "    mn = get_mn(symbol_df)\n",
    "\n",
    "    desc = 'year to date : <br>'\\\n",
    "    '   return : {}%<br>'\\\n",
    "    '   max drow down : {}%<br>'\\\n",
    "    '   gkhv : {}%<br>'\\\n",
    "    '   rs : {}%<br>'\\\n",
    "    '   yangzhang : {}%<br>'\\\n",
    "    ' <br>'\\\n",
    "    'last year : <br>'\\\n",
    "    '   return : {}%<br>'\\\n",
    "    '   max drow down : {}%<br>'\\\n",
    "    '   gkhv : {}%<br>'\\\n",
    "    '   rs : {}%<br>'\\\n",
    "    '   yangzhang : {}%<br>'\\\n",
    "    ' <br>'\\\n",
    "    'last month : <br>'\\\n",
    "    '   return : {}%<br>'\\\n",
    "    '   max drow down : {}%<br>'\\\n",
    "    '   gkhv : {}%<br>'\\\n",
    "    '   rs : {}%<br>'\\\n",
    "    '   yangzhang : {}%<br>'.format(y2d[0],y2d[1],y2d[2],y2d[3],y2d[4],\n",
    "                        yr[0],yr[1],yr[2],yr[3],yr[4],\n",
    "                        mn[0],mn[1],mn[2],mn[3],mn[4])\n",
    "    return desc"
   ]
  },
  {
   "cell_type": "markdown",
   "metadata": {},
   "source": [
    "# Combined Recommender"
   ]
  },
  {
   "cell_type": "code",
   "execution_count": 25,
   "metadata": {},
   "outputs": [
    {
     "data": {
      "text/html": [
       "<div>\n",
       "<style scoped>\n",
       "    .dataframe tbody tr th:only-of-type {\n",
       "        vertical-align: middle;\n",
       "    }\n",
       "\n",
       "    .dataframe tbody tr th {\n",
       "        vertical-align: top;\n",
       "    }\n",
       "\n",
       "    .dataframe thead th {\n",
       "        text-align: right;\n",
       "    }\n",
       "</style>\n",
       "<table border=\"1\" class=\"dataframe\">\n",
       "  <thead>\n",
       "    <tr style=\"text-align: right;\">\n",
       "      <th></th>\n",
       "      <th>SECURITYCODE</th>\n",
       "      <th>OPENINGPRICE</th>\n",
       "      <th>HIGHPX</th>\n",
       "      <th>LOWPX</th>\n",
       "      <th>CLOSINGPRICE</th>\n",
       "      <th>TRADEDATE</th>\n",
       "      <th>UNIX_TS</th>\n",
       "    </tr>\n",
       "  </thead>\n",
       "  <tbody>\n",
       "    <tr>\n",
       "      <th>0</th>\n",
       "      <td>EXT</td>\n",
       "      <td>7.3</td>\n",
       "      <td>7.5</td>\n",
       "      <td>7.3</td>\n",
       "      <td>7.5</td>\n",
       "      <td>2024-02-07</td>\n",
       "      <td>1707264000</td>\n",
       "    </tr>\n",
       "    <tr>\n",
       "      <th>1</th>\n",
       "      <td>COOP</td>\n",
       "      <td>2.3</td>\n",
       "      <td>2.3</td>\n",
       "      <td>2.2</td>\n",
       "      <td>2.2</td>\n",
       "      <td>2024-02-07</td>\n",
       "      <td>1707264000</td>\n",
       "    </tr>\n",
       "  </tbody>\n",
       "</table>\n",
       "</div>"
      ],
      "text/plain": [
       "  SECURITYCODE  OPENINGPRICE  HIGHPX  LOWPX  CLOSINGPRICE  TRADEDATE  \\\n",
       "0          EXT           7.3     7.5    7.3           7.5 2024-02-07   \n",
       "1         COOP           2.3     2.3    2.2           2.2 2024-02-07   \n",
       "\n",
       "      UNIX_TS  \n",
       "0  1707264000  \n",
       "1  1707264000  "
      ]
     },
     "execution_count": 25,
     "metadata": {},
     "output_type": "execute_result"
    }
   ],
   "source": [
    "price_data = data.copy()\n",
    "price_data.head(2)\n"
   ]
  },
  {
   "cell_type": "code",
   "execution_count": 26,
   "metadata": {},
   "outputs": [
    {
     "data": {
      "text/plain": [
       "(32745, 7)"
      ]
     },
     "execution_count": 26,
     "metadata": {},
     "output_type": "execute_result"
    }
   ],
   "source": [
    "price_data.shape"
   ]
  },
  {
   "cell_type": "code",
   "execution_count": 27,
   "metadata": {},
   "outputs": [
    {
     "name": "stdout",
     "output_type": "stream",
     "text": [
      "Running on local URL:  http://127.0.0.1:7860\n",
      "\n",
      "Could not create share link. Please check your internet connection or our status page: https://status.gradio.app.\n"
     ]
    },
    {
     "data": {
      "text/html": [
       "<div><iframe src=\"http://127.0.0.1:7860/\" width=\"100%\" height=\"500\" allow=\"autoplay; camera; microphone; clipboard-read; clipboard-write;\" frameborder=\"0\" allowfullscreen></iframe></div>"
      ],
      "text/plain": [
       "<IPython.core.display.HTML object>"
      ]
     },
     "metadata": {},
     "output_type": "display_data"
    }
   ],
   "source": [
    "def quey_generator(domains):\n",
    "    # query = 'busines in the domain of '+','.join(domains)\n",
    "    query = ','.join(domains)\n",
    "    return query\n",
    "\n",
    "def get_recommendations_gradio(domains, top_k = 5):\n",
    "  query = quey_generator(domains)\n",
    "  relevant_stocks = new_db.similarity_search_with_relevance_scores(query= query, k = top_k)\n",
    "  recommendations = [(relevant_stocks[idx][0].metadata.get('symbol'), relevant_stocks[idx][0].metadata.get('name'), relevant_stocks[idx][1]) for idx in range(len(relevant_stocks))]\n",
    "\n",
    "  recommended_symbols = []\n",
    "  reco_images = []\n",
    "  for idx, data in enumerate(recommendations):\n",
    "    # if data[2] > 0:\n",
    "    #     recommended_symbols.append(data[0])\n",
    "    #     symbol_df = price_data[price_data.SECURITYCODE == data[0]].sort_values(by = 'UNIX_TS').reset_index(drop = True)\n",
    "    #     reco_img = plot_ohlc_w_des(symbol_df, '{} : {}'.format(data[0], data[1]) ,get_insights_html(data[0]))\n",
    "    #     reco_images.append(reco_img)\n",
    "    recommended_symbols.append(data[0])\n",
    "    symbol_df = price_data[price_data.SECURITYCODE == data[0]].sort_values(by = 'UNIX_TS').reset_index(drop = True)\n",
    "    reco_img = plot_ohlc_w_des(symbol_df, '{} : {} | {}'.format(data[0], data[1], data[2]) ,get_insights_html(data[0]))\n",
    "    reco_images.append(reco_img)\n",
    "  return reco_images\n",
    "\n",
    "\n",
    "\n",
    "with gr.Blocks() as demo:\n",
    "    inputs = gr.Dropdown(\n",
    "        [\"finance\", \"transport\", \"technology\", \"agriculture\"],\n",
    "        multiselect=True,\n",
    "        label=\"Domains\",\n",
    "        allow_custom_value=True,\n",
    "        scale=5\n",
    "    )\n",
    "    # reco_images = get_recommendations_gradio(inputs)\n",
    "    # print(inputs)\n",
    "    # plot_objects = [gr.Plot() for _ in range(len(reco_images))]\n",
    "    # inputs.change(get_recommendations_gradio, inputs=inputs, outputs=plot_objects)\n",
    "    # demo.load(get_recommendations_gradio, inputs=[inputs], outputs=plot_objects)\n",
    "    button = gr.Button(\"Generate Recommendations\")\n",
    "\n",
    "    # rec1, rec2, rec3, rec4, rec5 = [gr.Plot(), gr.Plot(),gr.Plot(),gr.Plot(),gr.Plot()]\n",
    "    outputs = [gr.Plot(), gr.Plot(),gr.Plot(),gr.Plot(),gr.Plot()]\n",
    "    # inputs.change(get_recommendations_gradio, inputs=inputs, outputs=outputs)\n",
    "    # demo.load(get_recommendations_gradio, inputs=[inputs], outputs=outputs)\n",
    "\n",
    "    button.click(get_recommendations_gradio, inputs=inputs, outputs=outputs)\n",
    "    \n",
    "\n",
    "    demo.launch(share = True)"
   ]
  },
  {
   "cell_type": "code",
   "execution_count": 28,
   "metadata": {},
   "outputs": [
    {
     "name": "stdout",
     "output_type": "stream",
     "text": [
      "Running on local URL:  http://127.0.0.1:7861\n",
      "\n",
      "Could not create share link. Please check your internet connection or our status page: https://status.gradio.app.\n"
     ]
    },
    {
     "data": {
      "text/html": [
       "<div><iframe src=\"http://127.0.0.1:7861/\" width=\"100%\" height=\"500\" allow=\"autoplay; camera; microphone; clipboard-read; clipboard-write;\" frameborder=\"0\" allowfullscreen></iframe></div>"
      ],
      "text/plain": [
       "<IPython.core.display.HTML object>"
      ]
     },
     "metadata": {},
     "output_type": "display_data"
    }
   ],
   "source": [
    "def quey_generator(domains):\n",
    "    # query = 'busines in the domain of '+','.join(domains)\n",
    "    query = ','.join(domains)\n",
    "    return query\n",
    "\n",
    "def get_recommendations_gradio(domains, top_k = 5):\n",
    "  query = quey_generator(domains)\n",
    "  relevant_stocks = new_db.similarity_search_with_relevance_scores(query= query, k = top_k)\n",
    "  recommendations = [(relevant_stocks[idx][0].metadata.get('symbol'), relevant_stocks[idx][0].metadata.get('name'), relevant_stocks[idx][1]) for idx in range(len(relevant_stocks))]\n",
    "\n",
    "  recommended_symbols = []\n",
    "  reco_images = []\n",
    "  for idx, data in enumerate(recommendations):\n",
    "    if data[2] > 0:\n",
    "        recommended_symbols.append(data[0])\n",
    "        symbol_df = price_data[price_data.SECURITYCODE == data[0]].sort_values(by = 'UNIX_TS').reset_index(drop = True)\n",
    "        reco_img = plot_ohlc_w_des(symbol_df, '{} : {}'.format(data[0], data[1]) ,get_insights_html(data[0]))\n",
    "        reco_images.append(reco_img)\n",
    "  return reco_images\n",
    "\n",
    "\n",
    "with gr.Blocks() as demo:\n",
    "    inputs = gr.Dropdown(\n",
    "        [\"finance\", \"transport\", \"technology\", \"agriculture\"],\n",
    "        multiselect=True,\n",
    "        label=\"Domains\",\n",
    "        allow_custom_value=True,\n",
    "        scale=5\n",
    "    )\n",
    "\n",
    "    button = gr.Button(\"Generate Recommendations\")\n",
    "    outputs = gr.Blocks()  # Container for variable number of plots\n",
    "\n",
    "    def handle_button_click(domains):\n",
    "        reco_images = get_recommendations_gradio(domains)\n",
    "        outputs = gr.Blocks()\n",
    "        outputs.clear()  # Clear existing plots\n",
    "        outputs = gr.Blocks()  # Create a new empty Blocks container\n",
    "        for i, image in enumerate(reco_images):\n",
    "            outputs.append(gr.Plot(label=f\"Recommendation {i+1}\", value=image))  # Use append\n",
    "\n",
    "\n",
    "    button.click(handle_button_click, inputs=inputs, outputs=outputs)\n",
    "\n",
    "    # Initial load (optional for pre-populating outputs)\n",
    "    # demo.load(get_recommendations_gradio, inputs=[inputs], outputs=outputs)\n",
    "\n",
    "    demo.launch(share=True)"
   ]
  },
  {
   "cell_type": "code",
   "execution_count": 29,
   "metadata": {},
   "outputs": [
    {
     "ename": "SystemExit",
     "evalue": "",
     "output_type": "error",
     "traceback": [
      "An exception has occurred, use %tb to see the full traceback.\n",
      "\u001b[1;31mSystemExit\u001b[0m\n"
     ]
    },
    {
     "name": "stderr",
     "output_type": "stream",
     "text": [
      "c:\\Users\\bpadmin\\anaconda3\\envs\\tf_tr_recommender\\lib\\site-packages\\IPython\\core\\interactiveshell.py:3513: UserWarning: To exit: use 'exit', 'quit', or Ctrl-D.\n",
      "  warn(\"To exit: use 'exit', 'quit', or Ctrl-D.\", stacklevel=1)\n"
     ]
    },
    {
     "name": "stderr",
     "output_type": "stream",
     "text": [
      "c:\\Users\\bpadmin\\anaconda3\\envs\\tf_tr_recommender\\lib\\site-packages\\langchain_core\\vectorstores.py:311: UserWarning:\n",
      "\n",
      "Relevance scores must be between 0 and 1, got [(Document(page_content=\"E - CHANNELLING PLC digital lifestyle solutions for healthcare and other industries of Sri Lanka. The Company's main product is a software system, which provides channeling of medical practitioners.\\xa0\", metadata={'symbol': 'ECL', 'name': 'E - CHANNELLING PLC'}), 0.1030208233349047), (Document(page_content='SRI LANKA TELECOM PLC \\xa0information and communications technology (ICT) solutions provider. The Company is primarily involved in providing a portfolio of telecommunication services across Sri Lanka. In addition, the range of services provided by the Company include, inter-alia, Internet services, data services, domestic and international leased circuits, broadband, satellite uplink, maritime transmission, IPTV service and directory publishing service.', metadata={'symbol': 'SLTL', 'name': 'SRI LANKA TELECOM PLC'}), 0.005522012912471452), (Document(page_content='GESTETNER OF CEYLON PLC importing and selling of digital copiers, digital duplicators, duplicators, laser printers, laptops and air conditioners.', metadata={'symbol': 'GEST', 'name': 'GESTETNER OF CEYLON PLC'}), -0.005805374093316384), (Document(page_content=\"hSenid Business Solutions PLC \\xa0development of human capital management (HCM) software products and related services. The Company's offerings include a comprehensive human resource information system (HRIS) solution known as the PeoplesHR platform as well as additional solutions such as PeoplesHR Outsourcing and Tracking Solutions.\", metadata={'symbol': 'HBS', 'name': 'hSenid Business Solutions PLC'}), -0.06668666535469692), (Document(page_content='DIALOG AXIATA PLC provide communication services, such as mobile, fixed, broadband, international gateway services; telecommunication infrastructure services, such as tower infrastructure and transmission services; media, such as digital television services based on multiple media- satellite, cable, terrestrial; digital services, including but not limited to digital commerce mobile and eCommerce; electronic payments, including mobile payment; digital health, education, navigation and enterprise services and financial services; software solutions, data center services, manpower services, provision of Information Technology and venture capital investment activities.', metadata={'symbol': 'DIAL', 'name': 'DIALOG AXIATA PLC'}), -0.09452010693650337)]\n",
      "\n"
     ]
    }
   ],
   "source": [
    "sys.exit()"
   ]
  },
  {
   "cell_type": "markdown",
   "metadata": {},
   "source": [
    "# Sandbox"
   ]
  },
  {
   "cell_type": "code",
   "execution_count": null,
   "metadata": {},
   "outputs": [
    {
     "data": {
      "text/html": [
       "<div>\n",
       "<style scoped>\n",
       "    .dataframe tbody tr th:only-of-type {\n",
       "        vertical-align: middle;\n",
       "    }\n",
       "\n",
       "    .dataframe tbody tr th {\n",
       "        vertical-align: top;\n",
       "    }\n",
       "\n",
       "    .dataframe thead th {\n",
       "        text-align: right;\n",
       "    }\n",
       "</style>\n",
       "<table border=\"1\" class=\"dataframe\">\n",
       "  <thead>\n",
       "    <tr style=\"text-align: right;\">\n",
       "      <th></th>\n",
       "      <th>SECURITYCODE</th>\n",
       "      <th>OPENINGPRICE</th>\n",
       "      <th>HIGHPX</th>\n",
       "      <th>LOWPX</th>\n",
       "      <th>CLOSINGPRICE</th>\n",
       "      <th>TRADEDATE</th>\n",
       "      <th>UNIX_TS</th>\n",
       "    </tr>\n",
       "  </thead>\n",
       "  <tbody>\n",
       "    <tr>\n",
       "      <th>0</th>\n",
       "      <td>NDB</td>\n",
       "      <td>64.9</td>\n",
       "      <td>64.9</td>\n",
       "      <td>63.9</td>\n",
       "      <td>63.9</td>\n",
       "      <td>2024-02-07</td>\n",
       "      <td>1707264000</td>\n",
       "    </tr>\n",
       "    <tr>\n",
       "      <th>1</th>\n",
       "      <td>LLUB</td>\n",
       "      <td>95.0</td>\n",
       "      <td>96.0</td>\n",
       "      <td>92.1</td>\n",
       "      <td>94.4</td>\n",
       "      <td>2024-02-07</td>\n",
       "      <td>1707264000</td>\n",
       "    </tr>\n",
       "    <tr>\n",
       "      <th>2</th>\n",
       "      <td>COMB</td>\n",
       "      <td>88.0</td>\n",
       "      <td>89.0</td>\n",
       "      <td>88.0</td>\n",
       "      <td>89.0</td>\n",
       "      <td>2024-02-07</td>\n",
       "      <td>1707264000</td>\n",
       "    </tr>\n",
       "    <tr>\n",
       "      <th>3</th>\n",
       "      <td>DFCC</td>\n",
       "      <td>78.0</td>\n",
       "      <td>78.0</td>\n",
       "      <td>76.0</td>\n",
       "      <td>77.1</td>\n",
       "      <td>2024-02-07</td>\n",
       "      <td>1707264000</td>\n",
       "    </tr>\n",
       "    <tr>\n",
       "      <th>4</th>\n",
       "      <td>HAYL</td>\n",
       "      <td>75.0</td>\n",
       "      <td>75.6</td>\n",
       "      <td>74.9</td>\n",
       "      <td>75.0</td>\n",
       "      <td>2024-02-07</td>\n",
       "      <td>1707264000</td>\n",
       "    </tr>\n",
       "  </tbody>\n",
       "</table>\n",
       "</div>"
      ],
      "text/plain": [
       "  SECURITYCODE  OPENINGPRICE  HIGHPX  LOWPX  CLOSINGPRICE  TRADEDATE  \\\n",
       "0          NDB          64.9    64.9   63.9          63.9 2024-02-07   \n",
       "1         LLUB          95.0    96.0   92.1          94.4 2024-02-07   \n",
       "2         COMB          88.0    89.0   88.0          89.0 2024-02-07   \n",
       "3         DFCC          78.0    78.0   76.0          77.1 2024-02-07   \n",
       "4         HAYL          75.0    75.6   74.9          75.0 2024-02-07   \n",
       "\n",
       "      UNIX_TS  \n",
       "0  1707264000  \n",
       "1  1707264000  \n",
       "2  1707264000  \n",
       "3  1707264000  \n",
       "4  1707264000  "
      ]
     },
     "execution_count": 43,
     "metadata": {},
     "output_type": "execute_result"
    }
   ],
   "source": [
    "data.head()"
   ]
  },
  {
   "cell_type": "code",
   "execution_count": null,
   "metadata": {},
   "outputs": [
    {
     "data": {
      "text/html": [
       "<div>\n",
       "<style scoped>\n",
       "    .dataframe tbody tr th:only-of-type {\n",
       "        vertical-align: middle;\n",
       "    }\n",
       "\n",
       "    .dataframe tbody tr th {\n",
       "        vertical-align: top;\n",
       "    }\n",
       "\n",
       "    .dataframe thead th {\n",
       "        text-align: right;\n",
       "    }\n",
       "</style>\n",
       "<table border=\"1\" class=\"dataframe\">\n",
       "  <thead>\n",
       "    <tr style=\"text-align: right;\">\n",
       "      <th></th>\n",
       "      <th>SECURITYCODE</th>\n",
       "      <th>OPENINGPRICE</th>\n",
       "      <th>HIGHPX</th>\n",
       "      <th>LOWPX</th>\n",
       "      <th>CLOSINGPRICE</th>\n",
       "      <th>TRADEDATE</th>\n",
       "      <th>UNIX_TS</th>\n",
       "    </tr>\n",
       "  </thead>\n",
       "  <tbody>\n",
       "    <tr>\n",
       "      <th>0</th>\n",
       "      <td>NDB</td>\n",
       "      <td>64.9</td>\n",
       "      <td>64.9</td>\n",
       "      <td>63.9</td>\n",
       "      <td>63.9</td>\n",
       "      <td>2024-02-07</td>\n",
       "      <td>1707264000</td>\n",
       "    </tr>\n",
       "    <tr>\n",
       "      <th>1</th>\n",
       "      <td>NDB</td>\n",
       "      <td>62.5</td>\n",
       "      <td>64.8</td>\n",
       "      <td>62.5</td>\n",
       "      <td>64.1</td>\n",
       "      <td>2024-02-06</td>\n",
       "      <td>1707177600</td>\n",
       "    </tr>\n",
       "    <tr>\n",
       "      <th>2</th>\n",
       "      <td>NDB</td>\n",
       "      <td>61.1</td>\n",
       "      <td>64.7</td>\n",
       "      <td>61.0</td>\n",
       "      <td>63.3</td>\n",
       "      <td>2024-02-02</td>\n",
       "      <td>1706832000</td>\n",
       "    </tr>\n",
       "    <tr>\n",
       "      <th>3</th>\n",
       "      <td>NDB</td>\n",
       "      <td>61.0</td>\n",
       "      <td>61.1</td>\n",
       "      <td>60.9</td>\n",
       "      <td>61.0</td>\n",
       "      <td>2024-02-01</td>\n",
       "      <td>1706745600</td>\n",
       "    </tr>\n",
       "    <tr>\n",
       "      <th>4</th>\n",
       "      <td>NDB</td>\n",
       "      <td>61.0</td>\n",
       "      <td>61.5</td>\n",
       "      <td>60.8</td>\n",
       "      <td>61.0</td>\n",
       "      <td>2024-01-31</td>\n",
       "      <td>1706659200</td>\n",
       "    </tr>\n",
       "    <tr>\n",
       "      <th>...</th>\n",
       "      <td>...</td>\n",
       "      <td>...</td>\n",
       "      <td>...</td>\n",
       "      <td>...</td>\n",
       "      <td>...</td>\n",
       "      <td>...</td>\n",
       "      <td>...</td>\n",
       "    </tr>\n",
       "    <tr>\n",
       "      <th>464</th>\n",
       "      <td>NDB</td>\n",
       "      <td>69.4</td>\n",
       "      <td>71.5</td>\n",
       "      <td>69.0</td>\n",
       "      <td>70.5</td>\n",
       "      <td>2022-02-14</td>\n",
       "      <td>1644796800</td>\n",
       "    </tr>\n",
       "    <tr>\n",
       "      <th>465</th>\n",
       "      <td>NDB</td>\n",
       "      <td>68.9</td>\n",
       "      <td>69.3</td>\n",
       "      <td>68.1</td>\n",
       "      <td>68.6</td>\n",
       "      <td>2022-02-11</td>\n",
       "      <td>1644537600</td>\n",
       "    </tr>\n",
       "    <tr>\n",
       "      <th>466</th>\n",
       "      <td>NDB</td>\n",
       "      <td>68.7</td>\n",
       "      <td>69.0</td>\n",
       "      <td>67.5</td>\n",
       "      <td>67.9</td>\n",
       "      <td>2022-02-10</td>\n",
       "      <td>1644451200</td>\n",
       "    </tr>\n",
       "    <tr>\n",
       "      <th>467</th>\n",
       "      <td>NDB</td>\n",
       "      <td>69.3</td>\n",
       "      <td>69.8</td>\n",
       "      <td>68.5</td>\n",
       "      <td>68.6</td>\n",
       "      <td>2022-02-09</td>\n",
       "      <td>1644364800</td>\n",
       "    </tr>\n",
       "    <tr>\n",
       "      <th>468</th>\n",
       "      <td>NDB</td>\n",
       "      <td>70.0</td>\n",
       "      <td>70.0</td>\n",
       "      <td>69.0</td>\n",
       "      <td>69.3</td>\n",
       "      <td>2022-02-08</td>\n",
       "      <td>1644278400</td>\n",
       "    </tr>\n",
       "  </tbody>\n",
       "</table>\n",
       "<p>469 rows × 7 columns</p>\n",
       "</div>"
      ],
      "text/plain": [
       "    SECURITYCODE  OPENINGPRICE  HIGHPX  LOWPX  CLOSINGPRICE  TRADEDATE  \\\n",
       "0            NDB          64.9    64.9   63.9          63.9 2024-02-07   \n",
       "1            NDB          62.5    64.8   62.5          64.1 2024-02-06   \n",
       "2            NDB          61.1    64.7   61.0          63.3 2024-02-02   \n",
       "3            NDB          61.0    61.1   60.9          61.0 2024-02-01   \n",
       "4            NDB          61.0    61.5   60.8          61.0 2024-01-31   \n",
       "..           ...           ...     ...    ...           ...        ...   \n",
       "464          NDB          69.4    71.5   69.0          70.5 2022-02-14   \n",
       "465          NDB          68.9    69.3   68.1          68.6 2022-02-11   \n",
       "466          NDB          68.7    69.0   67.5          67.9 2022-02-10   \n",
       "467          NDB          69.3    69.8   68.5          68.6 2022-02-09   \n",
       "468          NDB          70.0    70.0   69.0          69.3 2022-02-08   \n",
       "\n",
       "        UNIX_TS  \n",
       "0    1707264000  \n",
       "1    1707177600  \n",
       "2    1706832000  \n",
       "3    1706745600  \n",
       "4    1706659200  \n",
       "..          ...  \n",
       "464  1644796800  \n",
       "465  1644537600  \n",
       "466  1644451200  \n",
       "467  1644364800  \n",
       "468  1644278400  \n",
       "\n",
       "[469 rows x 7 columns]"
      ]
     },
     "execution_count": 45,
     "metadata": {},
     "output_type": "execute_result"
    }
   ],
   "source": [
    "symbol_df = data.loc[data.SECURITYCODE == 'NDB'].reset_index(drop = True)\n",
    "symbol_df"
   ]
  },
  {
   "cell_type": "code",
   "execution_count": null,
   "metadata": {},
   "outputs": [
    {
     "data": {
      "text/plain": [
       "Timestamp('2024-02-07 00:00:00')"
      ]
     },
     "execution_count": 46,
     "metadata": {},
     "output_type": "execute_result"
    }
   ],
   "source": [
    "symbol_df.TRADEDATE.max()"
   ]
  },
  {
   "cell_type": "code",
   "execution_count": null,
   "metadata": {},
   "outputs": [
    {
     "name": "stdout",
     "output_type": "stream",
     "text": [
      "Running on local URL:  http://127.0.0.1:7860\n",
      "\n",
      "Could not create share link. Please check your internet connection or our status page: https://status.gradio.app.\n"
     ]
    },
    {
     "data": {
      "text/html": [
       "<div><iframe src=\"http://127.0.0.1:7860/\" width=\"100%\" height=\"500\" allow=\"autoplay; camera; microphone; clipboard-read; clipboard-write;\" frameborder=\"0\" allowfullscreen></iframe></div>"
      ],
      "text/plain": [
       "<IPython.core.display.HTML object>"
      ]
     },
     "metadata": {},
     "output_type": "display_data"
    },
    {
     "name": "stderr",
     "output_type": "stream",
     "text": [
      "C:\\Users\\bpadmin\\AppData\\Local\\Temp\\ipykernel_16688\\3674160237.py:8: RuntimeWarning: invalid value encountered in sqrt\n",
      "  rs = (np.sqrt(symbol_df.rs.mean()))*100\n",
      "C:\\Users\\bpadmin\\AppData\\Local\\Temp\\ipykernel_16688\\3674160237.py:8: RuntimeWarning: invalid value encountered in sqrt\n",
      "  rs = (np.sqrt(symbol_df.rs.mean()))*100\n",
      "C:\\Users\\bpadmin\\AppData\\Local\\Temp\\ipykernel_16688\\3674160237.py:8: RuntimeWarning:\n",
      "\n",
      "invalid value encountered in sqrt\n",
      "\n",
      "C:\\Users\\bpadmin\\AppData\\Local\\Temp\\ipykernel_16688\\3674160237.py:8: RuntimeWarning:\n",
      "\n",
      "invalid value encountered in sqrt\n",
      "\n",
      "C:\\Users\\bpadmin\\AppData\\Local\\Temp\\ipykernel_16688\\3674160237.py:8: RuntimeWarning:\n",
      "\n",
      "invalid value encountered in sqrt\n",
      "\n",
      "C:\\Users\\bpadmin\\AppData\\Local\\Temp\\ipykernel_16688\\3674160237.py:8: RuntimeWarning:\n",
      "\n",
      "invalid value encountered in sqrt\n",
      "\n",
      "Traceback (most recent call last):\n",
      "  File \"c:\\Users\\bpadmin\\anaconda3\\envs\\tf_tr_recommender\\lib\\site-packages\\gradio\\queueing.py\", line 495, in call_prediction\n",
      "    output = await route_utils.call_process_api(\n",
      "  File \"c:\\Users\\bpadmin\\anaconda3\\envs\\tf_tr_recommender\\lib\\site-packages\\gradio\\route_utils.py\", line 231, in call_process_api\n",
      "    output = await app.get_blocks().process_api(\n",
      "  File \"c:\\Users\\bpadmin\\anaconda3\\envs\\tf_tr_recommender\\lib\\site-packages\\gradio\\blocks.py\", line 1594, in process_api\n",
      "    result = await self.call_function(\n",
      "  File \"c:\\Users\\bpadmin\\anaconda3\\envs\\tf_tr_recommender\\lib\\site-packages\\gradio\\blocks.py\", line 1176, in call_function\n",
      "    prediction = await anyio.to_thread.run_sync(\n",
      "  File \"c:\\Users\\bpadmin\\anaconda3\\envs\\tf_tr_recommender\\lib\\site-packages\\anyio\\to_thread.py\", line 56, in run_sync\n",
      "    return await get_async_backend().run_sync_in_worker_thread(\n",
      "  File \"c:\\Users\\bpadmin\\anaconda3\\envs\\tf_tr_recommender\\lib\\site-packages\\anyio\\_backends\\_asyncio.py\", line 2134, in run_sync_in_worker_thread\n",
      "    return await future\n",
      "  File \"c:\\Users\\bpadmin\\anaconda3\\envs\\tf_tr_recommender\\lib\\site-packages\\anyio\\_backends\\_asyncio.py\", line 851, in run\n",
      "    result = context.run(func, *args)\n",
      "  File \"c:\\Users\\bpadmin\\anaconda3\\envs\\tf_tr_recommender\\lib\\site-packages\\gradio\\utils.py\", line 689, in wrapper\n",
      "    response = f(*args, **kwargs)\n",
      "  File \"C:\\Users\\bpadmin\\AppData\\Local\\Temp\\ipykernel_16688\\2595529605.py\", line 15, in get_recommendations_gradio\n",
      "    reco_img = plot_ohlc_w_des(symbol_df, '{} : {}'.format(data[0], data[1]) ,get_insights_html(data[0]))\n",
      "  File \"C:\\Users\\bpadmin\\AppData\\Local\\Temp\\ipykernel_16688\\4157108675.py\", line 5, in get_insights_html\n",
      "    y2d = get_yr_2_date(symbol_df)\n",
      "  File \"C:\\Users\\bpadmin\\AppData\\Local\\Temp\\ipykernel_16688\\798541931.py\", line 8, in get_yr_2_date\n",
      "    fday_value = symbol_df.loc[symbol_df.TRADEDATE == act_fday].CLOSINGPRICE.iloc[0]\n",
      "  File \"c:\\Users\\bpadmin\\anaconda3\\envs\\tf_tr_recommender\\lib\\site-packages\\pandas\\core\\indexing.py\", line 1073, in __getitem__\n",
      "    return self._getitem_axis(maybe_callable, axis=axis)\n",
      "  File \"c:\\Users\\bpadmin\\anaconda3\\envs\\tf_tr_recommender\\lib\\site-packages\\pandas\\core\\indexing.py\", line 1625, in _getitem_axis\n",
      "    self._validate_integer(key, axis)\n",
      "  File \"c:\\Users\\bpadmin\\anaconda3\\envs\\tf_tr_recommender\\lib\\site-packages\\pandas\\core\\indexing.py\", line 1557, in _validate_integer\n",
      "    raise IndexError(\"single positional indexer is out-of-bounds\")\n",
      "IndexError: single positional indexer is out-of-bounds\n",
      "C:\\Users\\bpadmin\\AppData\\Local\\Temp\\ipykernel_16688\\3674160237.py:8: RuntimeWarning:\n",
      "\n",
      "invalid value encountered in sqrt\n",
      "\n",
      "C:\\Users\\bpadmin\\AppData\\Local\\Temp\\ipykernel_16688\\3674160237.py:8: RuntimeWarning:\n",
      "\n",
      "invalid value encountered in sqrt\n",
      "\n",
      "C:\\Users\\bpadmin\\AppData\\Local\\Temp\\ipykernel_16688\\3674160237.py:8: RuntimeWarning:\n",
      "\n",
      "invalid value encountered in sqrt\n",
      "\n",
      "C:\\Users\\bpadmin\\AppData\\Local\\Temp\\ipykernel_16688\\3674160237.py:8: RuntimeWarning:\n",
      "\n",
      "invalid value encountered in sqrt\n",
      "\n",
      "C:\\Users\\bpadmin\\AppData\\Local\\Temp\\ipykernel_16688\\3674160237.py:8: RuntimeWarning:\n",
      "\n",
      "invalid value encountered in sqrt\n",
      "\n",
      "C:\\Users\\bpadmin\\AppData\\Local\\Temp\\ipykernel_16688\\3674160237.py:8: RuntimeWarning:\n",
      "\n",
      "invalid value encountered in sqrt\n",
      "\n",
      "C:\\Users\\bpadmin\\AppData\\Local\\Temp\\ipykernel_16688\\3674160237.py:8: RuntimeWarning:\n",
      "\n",
      "invalid value encountered in sqrt\n",
      "\n",
      "C:\\Users\\bpadmin\\AppData\\Local\\Temp\\ipykernel_16688\\3674160237.py:8: RuntimeWarning:\n",
      "\n",
      "invalid value encountered in sqrt\n",
      "\n",
      "C:\\Users\\bpadmin\\AppData\\Local\\Temp\\ipykernel_16688\\3674160237.py:8: RuntimeWarning:\n",
      "\n",
      "invalid value encountered in sqrt\n",
      "\n",
      "C:\\Users\\bpadmin\\AppData\\Local\\Temp\\ipykernel_16688\\3674160237.py:8: RuntimeWarning:\n",
      "\n",
      "invalid value encountered in sqrt\n",
      "\n",
      "C:\\Users\\bpadmin\\AppData\\Local\\Temp\\ipykernel_16688\\3674160237.py:8: RuntimeWarning:\n",
      "\n",
      "invalid value encountered in sqrt\n",
      "\n",
      "C:\\Users\\bpadmin\\AppData\\Local\\Temp\\ipykernel_16688\\3674160237.py:8: RuntimeWarning:\n",
      "\n",
      "invalid value encountered in sqrt\n",
      "\n",
      "C:\\Users\\bpadmin\\AppData\\Local\\Temp\\ipykernel_16688\\3674160237.py:8: RuntimeWarning:\n",
      "\n",
      "invalid value encountered in sqrt\n",
      "\n",
      "C:\\Users\\bpadmin\\AppData\\Local\\Temp\\ipykernel_16688\\3674160237.py:8: RuntimeWarning:\n",
      "\n",
      "invalid value encountered in sqrt\n",
      "\n",
      "C:\\Users\\bpadmin\\AppData\\Local\\Temp\\ipykernel_16688\\3674160237.py:8: RuntimeWarning:\n",
      "\n",
      "invalid value encountered in sqrt\n",
      "\n",
      "C:\\Users\\bpadmin\\AppData\\Local\\Temp\\ipykernel_16688\\3674160237.py:8: RuntimeWarning:\n",
      "\n",
      "invalid value encountered in sqrt\n",
      "\n",
      "C:\\Users\\bpadmin\\AppData\\Local\\Temp\\ipykernel_16688\\3674160237.py:8: RuntimeWarning:\n",
      "\n",
      "invalid value encountered in sqrt\n",
      "\n",
      "C:\\Users\\bpadmin\\AppData\\Local\\Temp\\ipykernel_16688\\3674160237.py:8: RuntimeWarning:\n",
      "\n",
      "invalid value encountered in sqrt\n",
      "\n",
      "C:\\Users\\bpadmin\\AppData\\Local\\Temp\\ipykernel_16688\\3674160237.py:8: RuntimeWarning:\n",
      "\n",
      "invalid value encountered in sqrt\n",
      "\n",
      "C:\\Users\\bpadmin\\AppData\\Local\\Temp\\ipykernel_16688\\3674160237.py:8: RuntimeWarning:\n",
      "\n",
      "invalid value encountered in sqrt\n",
      "\n",
      "C:\\Users\\bpadmin\\AppData\\Local\\Temp\\ipykernel_16688\\3674160237.py:8: RuntimeWarning:\n",
      "\n",
      "invalid value encountered in sqrt\n",
      "\n",
      "C:\\Users\\bpadmin\\AppData\\Local\\Temp\\ipykernel_16688\\3674160237.py:8: RuntimeWarning:\n",
      "\n",
      "invalid value encountered in sqrt\n",
      "\n",
      "C:\\Users\\bpadmin\\AppData\\Local\\Temp\\ipykernel_16688\\3674160237.py:8: RuntimeWarning:\n",
      "\n",
      "invalid value encountered in sqrt\n",
      "\n",
      "C:\\Users\\bpadmin\\AppData\\Local\\Temp\\ipykernel_16688\\3674160237.py:8: RuntimeWarning:\n",
      "\n",
      "invalid value encountered in sqrt\n",
      "\n",
      "C:\\Users\\bpadmin\\AppData\\Local\\Temp\\ipykernel_16688\\3674160237.py:8: RuntimeWarning:\n",
      "\n",
      "invalid value encountered in sqrt\n",
      "\n",
      "C:\\Users\\bpadmin\\AppData\\Local\\Temp\\ipykernel_16688\\3674160237.py:8: RuntimeWarning:\n",
      "\n",
      "invalid value encountered in sqrt\n",
      "\n",
      "Traceback (most recent call last):\n",
      "  File \"c:\\Users\\bpadmin\\anaconda3\\envs\\tf_tr_recommender\\lib\\site-packages\\gradio\\queueing.py\", line 495, in call_prediction\n",
      "    output = await route_utils.call_process_api(\n",
      "  File \"c:\\Users\\bpadmin\\anaconda3\\envs\\tf_tr_recommender\\lib\\site-packages\\gradio\\route_utils.py\", line 231, in call_process_api\n",
      "    output = await app.get_blocks().process_api(\n",
      "  File \"c:\\Users\\bpadmin\\anaconda3\\envs\\tf_tr_recommender\\lib\\site-packages\\gradio\\blocks.py\", line 1594, in process_api\n",
      "    result = await self.call_function(\n",
      "  File \"c:\\Users\\bpadmin\\anaconda3\\envs\\tf_tr_recommender\\lib\\site-packages\\gradio\\blocks.py\", line 1176, in call_function\n",
      "    prediction = await anyio.to_thread.run_sync(\n",
      "  File \"c:\\Users\\bpadmin\\anaconda3\\envs\\tf_tr_recommender\\lib\\site-packages\\anyio\\to_thread.py\", line 56, in run_sync\n",
      "    return await get_async_backend().run_sync_in_worker_thread(\n",
      "  File \"c:\\Users\\bpadmin\\anaconda3\\envs\\tf_tr_recommender\\lib\\site-packages\\anyio\\_backends\\_asyncio.py\", line 2134, in run_sync_in_worker_thread\n",
      "    return await future\n",
      "  File \"c:\\Users\\bpadmin\\anaconda3\\envs\\tf_tr_recommender\\lib\\site-packages\\anyio\\_backends\\_asyncio.py\", line 851, in run\n",
      "    result = context.run(func, *args)\n",
      "  File \"c:\\Users\\bpadmin\\anaconda3\\envs\\tf_tr_recommender\\lib\\site-packages\\gradio\\utils.py\", line 689, in wrapper\n",
      "    response = f(*args, **kwargs)\n",
      "  File \"C:\\Users\\bpadmin\\AppData\\Local\\Temp\\ipykernel_16688\\2595529605.py\", line 15, in get_recommendations_gradio\n",
      "    reco_img = plot_ohlc_w_des(symbol_df, '{} : {}'.format(data[0], data[1]) ,get_insights_html(data[0]))\n",
      "  File \"C:\\Users\\bpadmin\\AppData\\Local\\Temp\\ipykernel_16688\\4157108675.py\", line 6, in get_insights_html\n",
      "    yr = get_yr(symbol_df)\n",
      "  File \"C:\\Users\\bpadmin\\AppData\\Local\\Temp\\ipykernel_16688\\2335976873.py\", line 9, in get_yr\n",
      "    fday_value = symbol_df.loc[symbol_df.TRADEDATE == act_fday].CLOSINGPRICE.iloc[0]\n",
      "  File \"c:\\Users\\bpadmin\\anaconda3\\envs\\tf_tr_recommender\\lib\\site-packages\\pandas\\core\\indexing.py\", line 1073, in __getitem__\n",
      "    return self._getitem_axis(maybe_callable, axis=axis)\n",
      "  File \"c:\\Users\\bpadmin\\anaconda3\\envs\\tf_tr_recommender\\lib\\site-packages\\pandas\\core\\indexing.py\", line 1625, in _getitem_axis\n",
      "    self._validate_integer(key, axis)\n",
      "  File \"c:\\Users\\bpadmin\\anaconda3\\envs\\tf_tr_recommender\\lib\\site-packages\\pandas\\core\\indexing.py\", line 1557, in _validate_integer\n",
      "    raise IndexError(\"single positional indexer is out-of-bounds\")\n",
      "IndexError: single positional indexer is out-of-bounds\n",
      "C:\\Users\\bpadmin\\AppData\\Local\\Temp\\ipykernel_16688\\3674160237.py:8: RuntimeWarning:\n",
      "\n",
      "invalid value encountered in sqrt\n",
      "\n",
      "C:\\Users\\bpadmin\\AppData\\Local\\Temp\\ipykernel_16688\\3674160237.py:8: RuntimeWarning:\n",
      "\n",
      "invalid value encountered in sqrt\n",
      "\n",
      "C:\\Users\\bpadmin\\AppData\\Local\\Temp\\ipykernel_16688\\3674160237.py:8: RuntimeWarning:\n",
      "\n",
      "invalid value encountered in sqrt\n",
      "\n",
      "C:\\Users\\bpadmin\\AppData\\Local\\Temp\\ipykernel_16688\\3674160237.py:8: RuntimeWarning:\n",
      "\n",
      "invalid value encountered in sqrt\n",
      "\n",
      "Traceback (most recent call last):\n",
      "  File \"c:\\Users\\bpadmin\\anaconda3\\envs\\tf_tr_recommender\\lib\\site-packages\\gradio\\queueing.py\", line 495, in call_prediction\n",
      "    output = await route_utils.call_process_api(\n",
      "  File \"c:\\Users\\bpadmin\\anaconda3\\envs\\tf_tr_recommender\\lib\\site-packages\\gradio\\route_utils.py\", line 231, in call_process_api\n",
      "    output = await app.get_blocks().process_api(\n",
      "  File \"c:\\Users\\bpadmin\\anaconda3\\envs\\tf_tr_recommender\\lib\\site-packages\\gradio\\blocks.py\", line 1594, in process_api\n",
      "    result = await self.call_function(\n",
      "  File \"c:\\Users\\bpadmin\\anaconda3\\envs\\tf_tr_recommender\\lib\\site-packages\\gradio\\blocks.py\", line 1176, in call_function\n",
      "    prediction = await anyio.to_thread.run_sync(\n",
      "  File \"c:\\Users\\bpadmin\\anaconda3\\envs\\tf_tr_recommender\\lib\\site-packages\\anyio\\to_thread.py\", line 56, in run_sync\n",
      "    return await get_async_backend().run_sync_in_worker_thread(\n",
      "  File \"c:\\Users\\bpadmin\\anaconda3\\envs\\tf_tr_recommender\\lib\\site-packages\\anyio\\_backends\\_asyncio.py\", line 2134, in run_sync_in_worker_thread\n",
      "    return await future\n",
      "  File \"c:\\Users\\bpadmin\\anaconda3\\envs\\tf_tr_recommender\\lib\\site-packages\\anyio\\_backends\\_asyncio.py\", line 851, in run\n",
      "    result = context.run(func, *args)\n",
      "  File \"c:\\Users\\bpadmin\\anaconda3\\envs\\tf_tr_recommender\\lib\\site-packages\\gradio\\utils.py\", line 689, in wrapper\n",
      "    response = f(*args, **kwargs)\n",
      "  File \"C:\\Users\\bpadmin\\AppData\\Local\\Temp\\ipykernel_16688\\2595529605.py\", line 15, in get_recommendations_gradio\n",
      "    reco_img = plot_ohlc_w_des(symbol_df, '{} : {}'.format(data[0], data[1]) ,get_insights_html(data[0]))\n",
      "  File \"C:\\Users\\bpadmin\\AppData\\Local\\Temp\\ipykernel_16688\\4157108675.py\", line 6, in get_insights_html\n",
      "    yr = get_yr(symbol_df)\n",
      "  File \"C:\\Users\\bpadmin\\AppData\\Local\\Temp\\ipykernel_16688\\2335976873.py\", line 9, in get_yr\n",
      "    fday_value = symbol_df.loc[symbol_df.TRADEDATE == act_fday].CLOSINGPRICE.iloc[0]\n",
      "  File \"c:\\Users\\bpadmin\\anaconda3\\envs\\tf_tr_recommender\\lib\\site-packages\\pandas\\core\\indexing.py\", line 1073, in __getitem__\n",
      "    return self._getitem_axis(maybe_callable, axis=axis)\n",
      "  File \"c:\\Users\\bpadmin\\anaconda3\\envs\\tf_tr_recommender\\lib\\site-packages\\pandas\\core\\indexing.py\", line 1625, in _getitem_axis\n",
      "    self._validate_integer(key, axis)\n",
      "  File \"c:\\Users\\bpadmin\\anaconda3\\envs\\tf_tr_recommender\\lib\\site-packages\\pandas\\core\\indexing.py\", line 1557, in _validate_integer\n",
      "    raise IndexError(\"single positional indexer is out-of-bounds\")\n",
      "IndexError: single positional indexer is out-of-bounds\n",
      "C:\\Users\\bpadmin\\AppData\\Local\\Temp\\ipykernel_16688\\3674160237.py:8: RuntimeWarning:\n",
      "\n",
      "invalid value encountered in sqrt\n",
      "\n",
      "C:\\Users\\bpadmin\\AppData\\Local\\Temp\\ipykernel_16688\\3674160237.py:8: RuntimeWarning:\n",
      "\n",
      "invalid value encountered in sqrt\n",
      "\n",
      "C:\\Users\\bpadmin\\AppData\\Local\\Temp\\ipykernel_16688\\3674160237.py:8: RuntimeWarning:\n",
      "\n",
      "invalid value encountered in sqrt\n",
      "\n",
      "C:\\Users\\bpadmin\\AppData\\Local\\Temp\\ipykernel_16688\\3674160237.py:8: RuntimeWarning:\n",
      "\n",
      "invalid value encountered in sqrt\n",
      "\n",
      "C:\\Users\\bpadmin\\AppData\\Local\\Temp\\ipykernel_16688\\3674160237.py:8: RuntimeWarning:\n",
      "\n",
      "invalid value encountered in sqrt\n",
      "\n",
      "C:\\Users\\bpadmin\\AppData\\Local\\Temp\\ipykernel_16688\\3674160237.py:8: RuntimeWarning:\n",
      "\n",
      "invalid value encountered in sqrt\n",
      "\n",
      "C:\\Users\\bpadmin\\AppData\\Local\\Temp\\ipykernel_16688\\3674160237.py:8: RuntimeWarning:\n",
      "\n",
      "invalid value encountered in sqrt\n",
      "\n",
      "C:\\Users\\bpadmin\\AppData\\Local\\Temp\\ipykernel_16688\\3674160237.py:8: RuntimeWarning:\n",
      "\n",
      "invalid value encountered in sqrt\n",
      "\n",
      "C:\\Users\\bpadmin\\AppData\\Local\\Temp\\ipykernel_16688\\3674160237.py:8: RuntimeWarning:\n",
      "\n",
      "invalid value encountered in sqrt\n",
      "\n",
      "C:\\Users\\bpadmin\\AppData\\Local\\Temp\\ipykernel_16688\\3674160237.py:8: RuntimeWarning:\n",
      "\n",
      "invalid value encountered in sqrt\n",
      "\n",
      "C:\\Users\\bpadmin\\AppData\\Local\\Temp\\ipykernel_16688\\3674160237.py:8: RuntimeWarning:\n",
      "\n",
      "invalid value encountered in sqrt\n",
      "\n",
      "C:\\Users\\bpadmin\\AppData\\Local\\Temp\\ipykernel_16688\\3674160237.py:8: RuntimeWarning:\n",
      "\n",
      "invalid value encountered in sqrt\n",
      "\n",
      "C:\\Users\\bpadmin\\AppData\\Local\\Temp\\ipykernel_16688\\3674160237.py:8: RuntimeWarning:\n",
      "\n",
      "invalid value encountered in sqrt\n",
      "\n",
      "C:\\Users\\bpadmin\\AppData\\Local\\Temp\\ipykernel_16688\\3674160237.py:8: RuntimeWarning:\n",
      "\n",
      "invalid value encountered in sqrt\n",
      "\n",
      "C:\\Users\\bpadmin\\AppData\\Local\\Temp\\ipykernel_16688\\3674160237.py:8: RuntimeWarning:\n",
      "\n",
      "invalid value encountered in sqrt\n",
      "\n",
      "C:\\Users\\bpadmin\\AppData\\Local\\Temp\\ipykernel_16688\\3674160237.py:8: RuntimeWarning:\n",
      "\n",
      "invalid value encountered in sqrt\n",
      "\n",
      "Traceback (most recent call last):\n",
      "  File \"c:\\Users\\bpadmin\\anaconda3\\envs\\tf_tr_recommender\\lib\\site-packages\\gradio\\queueing.py\", line 495, in call_prediction\n",
      "    output = await route_utils.call_process_api(\n",
      "  File \"c:\\Users\\bpadmin\\anaconda3\\envs\\tf_tr_recommender\\lib\\site-packages\\gradio\\route_utils.py\", line 231, in call_process_api\n",
      "    output = await app.get_blocks().process_api(\n",
      "  File \"c:\\Users\\bpadmin\\anaconda3\\envs\\tf_tr_recommender\\lib\\site-packages\\gradio\\blocks.py\", line 1594, in process_api\n",
      "    result = await self.call_function(\n",
      "  File \"c:\\Users\\bpadmin\\anaconda3\\envs\\tf_tr_recommender\\lib\\site-packages\\gradio\\blocks.py\", line 1176, in call_function\n",
      "    prediction = await anyio.to_thread.run_sync(\n",
      "  File \"c:\\Users\\bpadmin\\anaconda3\\envs\\tf_tr_recommender\\lib\\site-packages\\anyio\\to_thread.py\", line 56, in run_sync\n",
      "    return await get_async_backend().run_sync_in_worker_thread(\n",
      "  File \"c:\\Users\\bpadmin\\anaconda3\\envs\\tf_tr_recommender\\lib\\site-packages\\anyio\\_backends\\_asyncio.py\", line 2134, in run_sync_in_worker_thread\n",
      "    return await future\n",
      "  File \"c:\\Users\\bpadmin\\anaconda3\\envs\\tf_tr_recommender\\lib\\site-packages\\anyio\\_backends\\_asyncio.py\", line 851, in run\n",
      "    result = context.run(func, *args)\n",
      "  File \"c:\\Users\\bpadmin\\anaconda3\\envs\\tf_tr_recommender\\lib\\site-packages\\gradio\\utils.py\", line 689, in wrapper\n",
      "    response = f(*args, **kwargs)\n",
      "  File \"C:\\Users\\bpadmin\\AppData\\Local\\Temp\\ipykernel_16688\\2595529605.py\", line 15, in get_recommendations_gradio\n",
      "    reco_img = plot_ohlc_w_des(symbol_df, '{} : {}'.format(data[0], data[1]) ,get_insights_html(data[0]))\n",
      "  File \"C:\\Users\\bpadmin\\AppData\\Local\\Temp\\ipykernel_16688\\4157108675.py\", line 6, in get_insights_html\n",
      "    yr = get_yr(symbol_df)\n",
      "  File \"C:\\Users\\bpadmin\\AppData\\Local\\Temp\\ipykernel_16688\\2335976873.py\", line 9, in get_yr\n",
      "    fday_value = symbol_df.loc[symbol_df.TRADEDATE == act_fday].CLOSINGPRICE.iloc[0]\n",
      "  File \"c:\\Users\\bpadmin\\anaconda3\\envs\\tf_tr_recommender\\lib\\site-packages\\pandas\\core\\indexing.py\", line 1073, in __getitem__\n",
      "    return self._getitem_axis(maybe_callable, axis=axis)\n",
      "  File \"c:\\Users\\bpadmin\\anaconda3\\envs\\tf_tr_recommender\\lib\\site-packages\\pandas\\core\\indexing.py\", line 1625, in _getitem_axis\n",
      "    self._validate_integer(key, axis)\n",
      "  File \"c:\\Users\\bpadmin\\anaconda3\\envs\\tf_tr_recommender\\lib\\site-packages\\pandas\\core\\indexing.py\", line 1557, in _validate_integer\n",
      "    raise IndexError(\"single positional indexer is out-of-bounds\")\n",
      "IndexError: single positional indexer is out-of-bounds\n",
      "C:\\Users\\bpadmin\\AppData\\Local\\Temp\\ipykernel_16688\\3674160237.py:8: RuntimeWarning:\n",
      "\n",
      "invalid value encountered in sqrt\n",
      "\n",
      "C:\\Users\\bpadmin\\AppData\\Local\\Temp\\ipykernel_16688\\3674160237.py:8: RuntimeWarning:\n",
      "\n",
      "invalid value encountered in sqrt\n",
      "\n",
      "C:\\Users\\bpadmin\\AppData\\Local\\Temp\\ipykernel_16688\\3674160237.py:8: RuntimeWarning:\n",
      "\n",
      "invalid value encountered in sqrt\n",
      "\n",
      "C:\\Users\\bpadmin\\AppData\\Local\\Temp\\ipykernel_16688\\3674160237.py:8: RuntimeWarning:\n",
      "\n",
      "invalid value encountered in sqrt\n",
      "\n",
      "Traceback (most recent call last):\n",
      "  File \"c:\\Users\\bpadmin\\anaconda3\\envs\\tf_tr_recommender\\lib\\site-packages\\gradio\\queueing.py\", line 495, in call_prediction\n",
      "    output = await route_utils.call_process_api(\n",
      "  File \"c:\\Users\\bpadmin\\anaconda3\\envs\\tf_tr_recommender\\lib\\site-packages\\gradio\\route_utils.py\", line 231, in call_process_api\n",
      "    output = await app.get_blocks().process_api(\n",
      "  File \"c:\\Users\\bpadmin\\anaconda3\\envs\\tf_tr_recommender\\lib\\site-packages\\gradio\\blocks.py\", line 1594, in process_api\n",
      "    result = await self.call_function(\n",
      "  File \"c:\\Users\\bpadmin\\anaconda3\\envs\\tf_tr_recommender\\lib\\site-packages\\gradio\\blocks.py\", line 1176, in call_function\n",
      "    prediction = await anyio.to_thread.run_sync(\n",
      "  File \"c:\\Users\\bpadmin\\anaconda3\\envs\\tf_tr_recommender\\lib\\site-packages\\anyio\\to_thread.py\", line 56, in run_sync\n",
      "    return await get_async_backend().run_sync_in_worker_thread(\n",
      "  File \"c:\\Users\\bpadmin\\anaconda3\\envs\\tf_tr_recommender\\lib\\site-packages\\anyio\\_backends\\_asyncio.py\", line 2134, in run_sync_in_worker_thread\n",
      "    return await future\n",
      "  File \"c:\\Users\\bpadmin\\anaconda3\\envs\\tf_tr_recommender\\lib\\site-packages\\anyio\\_backends\\_asyncio.py\", line 851, in run\n",
      "    result = context.run(func, *args)\n",
      "  File \"c:\\Users\\bpadmin\\anaconda3\\envs\\tf_tr_recommender\\lib\\site-packages\\gradio\\utils.py\", line 689, in wrapper\n",
      "    response = f(*args, **kwargs)\n",
      "  File \"C:\\Users\\bpadmin\\AppData\\Local\\Temp\\ipykernel_16688\\2595529605.py\", line 15, in get_recommendations_gradio\n",
      "    reco_img = plot_ohlc_w_des(symbol_df, '{} : {}'.format(data[0], data[1]) ,get_insights_html(data[0]))\n",
      "  File \"C:\\Users\\bpadmin\\AppData\\Local\\Temp\\ipykernel_16688\\4157108675.py\", line 5, in get_insights_html\n",
      "    y2d = get_yr_2_date(symbol_df)\n",
      "  File \"C:\\Users\\bpadmin\\AppData\\Local\\Temp\\ipykernel_16688\\798541931.py\", line 8, in get_yr_2_date\n",
      "    fday_value = symbol_df.loc[symbol_df.TRADEDATE == act_fday].CLOSINGPRICE.iloc[0]\n",
      "  File \"c:\\Users\\bpadmin\\anaconda3\\envs\\tf_tr_recommender\\lib\\site-packages\\pandas\\core\\indexing.py\", line 1073, in __getitem__\n",
      "    return self._getitem_axis(maybe_callable, axis=axis)\n",
      "  File \"c:\\Users\\bpadmin\\anaconda3\\envs\\tf_tr_recommender\\lib\\site-packages\\pandas\\core\\indexing.py\", line 1625, in _getitem_axis\n",
      "    self._validate_integer(key, axis)\n",
      "  File \"c:\\Users\\bpadmin\\anaconda3\\envs\\tf_tr_recommender\\lib\\site-packages\\pandas\\core\\indexing.py\", line 1557, in _validate_integer\n",
      "    raise IndexError(\"single positional indexer is out-of-bounds\")\n",
      "IndexError: single positional indexer is out-of-bounds\n",
      "C:\\Users\\bpadmin\\AppData\\Local\\Temp\\ipykernel_16688\\3674160237.py:8: RuntimeWarning:\n",
      "\n",
      "invalid value encountered in sqrt\n",
      "\n",
      "C:\\Users\\bpadmin\\AppData\\Local\\Temp\\ipykernel_16688\\3674160237.py:8: RuntimeWarning:\n",
      "\n",
      "invalid value encountered in sqrt\n",
      "\n",
      "Traceback (most recent call last):\n",
      "  File \"c:\\Users\\bpadmin\\anaconda3\\envs\\tf_tr_recommender\\lib\\site-packages\\gradio\\queueing.py\", line 495, in call_prediction\n",
      "    output = await route_utils.call_process_api(\n",
      "  File \"c:\\Users\\bpadmin\\anaconda3\\envs\\tf_tr_recommender\\lib\\site-packages\\gradio\\route_utils.py\", line 231, in call_process_api\n",
      "    output = await app.get_blocks().process_api(\n",
      "  File \"c:\\Users\\bpadmin\\anaconda3\\envs\\tf_tr_recommender\\lib\\site-packages\\gradio\\blocks.py\", line 1594, in process_api\n",
      "    result = await self.call_function(\n",
      "  File \"c:\\Users\\bpadmin\\anaconda3\\envs\\tf_tr_recommender\\lib\\site-packages\\gradio\\blocks.py\", line 1176, in call_function\n",
      "    prediction = await anyio.to_thread.run_sync(\n",
      "  File \"c:\\Users\\bpadmin\\anaconda3\\envs\\tf_tr_recommender\\lib\\site-packages\\anyio\\to_thread.py\", line 56, in run_sync\n",
      "    return await get_async_backend().run_sync_in_worker_thread(\n",
      "  File \"c:\\Users\\bpadmin\\anaconda3\\envs\\tf_tr_recommender\\lib\\site-packages\\anyio\\_backends\\_asyncio.py\", line 2134, in run_sync_in_worker_thread\n",
      "    return await future\n",
      "  File \"c:\\Users\\bpadmin\\anaconda3\\envs\\tf_tr_recommender\\lib\\site-packages\\anyio\\_backends\\_asyncio.py\", line 851, in run\n",
      "    result = context.run(func, *args)\n",
      "  File \"c:\\Users\\bpadmin\\anaconda3\\envs\\tf_tr_recommender\\lib\\site-packages\\gradio\\utils.py\", line 689, in wrapper\n",
      "    response = f(*args, **kwargs)\n",
      "  File \"C:\\Users\\bpadmin\\AppData\\Local\\Temp\\ipykernel_16688\\2595529605.py\", line 15, in get_recommendations_gradio\n",
      "    reco_img = plot_ohlc_w_des(symbol_df, '{} : {}'.format(data[0], data[1]) ,get_insights_html(data[0]))\n",
      "  File \"C:\\Users\\bpadmin\\AppData\\Local\\Temp\\ipykernel_16688\\4157108675.py\", line 5, in get_insights_html\n",
      "    y2d = get_yr_2_date(symbol_df)\n",
      "  File \"C:\\Users\\bpadmin\\AppData\\Local\\Temp\\ipykernel_16688\\798541931.py\", line 8, in get_yr_2_date\n",
      "    fday_value = symbol_df.loc[symbol_df.TRADEDATE == act_fday].CLOSINGPRICE.iloc[0]\n",
      "  File \"c:\\Users\\bpadmin\\anaconda3\\envs\\tf_tr_recommender\\lib\\site-packages\\pandas\\core\\indexing.py\", line 1073, in __getitem__\n",
      "    return self._getitem_axis(maybe_callable, axis=axis)\n",
      "  File \"c:\\Users\\bpadmin\\anaconda3\\envs\\tf_tr_recommender\\lib\\site-packages\\pandas\\core\\indexing.py\", line 1625, in _getitem_axis\n",
      "    self._validate_integer(key, axis)\n",
      "  File \"c:\\Users\\bpadmin\\anaconda3\\envs\\tf_tr_recommender\\lib\\site-packages\\pandas\\core\\indexing.py\", line 1557, in _validate_integer\n",
      "    raise IndexError(\"single positional indexer is out-of-bounds\")\n",
      "IndexError: single positional indexer is out-of-bounds\n",
      "Traceback (most recent call last):\n",
      "  File \"c:\\Users\\bpadmin\\anaconda3\\envs\\tf_tr_recommender\\lib\\site-packages\\gradio\\queueing.py\", line 495, in call_prediction\n",
      "    output = await route_utils.call_process_api(\n",
      "  File \"c:\\Users\\bpadmin\\anaconda3\\envs\\tf_tr_recommender\\lib\\site-packages\\gradio\\route_utils.py\", line 231, in call_process_api\n",
      "    output = await app.get_blocks().process_api(\n",
      "  File \"c:\\Users\\bpadmin\\anaconda3\\envs\\tf_tr_recommender\\lib\\site-packages\\gradio\\blocks.py\", line 1594, in process_api\n",
      "    result = await self.call_function(\n",
      "  File \"c:\\Users\\bpadmin\\anaconda3\\envs\\tf_tr_recommender\\lib\\site-packages\\gradio\\blocks.py\", line 1176, in call_function\n",
      "    prediction = await anyio.to_thread.run_sync(\n",
      "  File \"c:\\Users\\bpadmin\\anaconda3\\envs\\tf_tr_recommender\\lib\\site-packages\\anyio\\to_thread.py\", line 56, in run_sync\n",
      "    return await get_async_backend().run_sync_in_worker_thread(\n",
      "  File \"c:\\Users\\bpadmin\\anaconda3\\envs\\tf_tr_recommender\\lib\\site-packages\\anyio\\_backends\\_asyncio.py\", line 2134, in run_sync_in_worker_thread\n",
      "    return await future\n",
      "  File \"c:\\Users\\bpadmin\\anaconda3\\envs\\tf_tr_recommender\\lib\\site-packages\\anyio\\_backends\\_asyncio.py\", line 851, in run\n",
      "    result = context.run(func, *args)\n",
      "  File \"c:\\Users\\bpadmin\\anaconda3\\envs\\tf_tr_recommender\\lib\\site-packages\\gradio\\utils.py\", line 689, in wrapper\n",
      "    response = f(*args, **kwargs)\n",
      "  File \"C:\\Users\\bpadmin\\AppData\\Local\\Temp\\ipykernel_16688\\2595529605.py\", line 15, in get_recommendations_gradio\n",
      "    reco_img = plot_ohlc_w_des(symbol_df, '{} : {}'.format(data[0], data[1]) ,get_insights_html(data[0]))\n",
      "  File \"C:\\Users\\bpadmin\\AppData\\Local\\Temp\\ipykernel_16688\\4157108675.py\", line 5, in get_insights_html\n",
      "    y2d = get_yr_2_date(symbol_df)\n",
      "  File \"C:\\Users\\bpadmin\\AppData\\Local\\Temp\\ipykernel_16688\\798541931.py\", line 8, in get_yr_2_date\n",
      "    fday_value = symbol_df.loc[symbol_df.TRADEDATE == act_fday].CLOSINGPRICE.iloc[0]\n",
      "  File \"c:\\Users\\bpadmin\\anaconda3\\envs\\tf_tr_recommender\\lib\\site-packages\\pandas\\core\\indexing.py\", line 1073, in __getitem__\n",
      "    return self._getitem_axis(maybe_callable, axis=axis)\n",
      "  File \"c:\\Users\\bpadmin\\anaconda3\\envs\\tf_tr_recommender\\lib\\site-packages\\pandas\\core\\indexing.py\", line 1625, in _getitem_axis\n",
      "    self._validate_integer(key, axis)\n",
      "  File \"c:\\Users\\bpadmin\\anaconda3\\envs\\tf_tr_recommender\\lib\\site-packages\\pandas\\core\\indexing.py\", line 1557, in _validate_integer\n",
      "    raise IndexError(\"single positional indexer is out-of-bounds\")\n",
      "IndexError: single positional indexer is out-of-bounds\n",
      "Traceback (most recent call last):\n",
      "  File \"c:\\Users\\bpadmin\\anaconda3\\envs\\tf_tr_recommender\\lib\\site-packages\\gradio\\queueing.py\", line 495, in call_prediction\n",
      "    output = await route_utils.call_process_api(\n",
      "  File \"c:\\Users\\bpadmin\\anaconda3\\envs\\tf_tr_recommender\\lib\\site-packages\\gradio\\route_utils.py\", line 231, in call_process_api\n",
      "    output = await app.get_blocks().process_api(\n",
      "  File \"c:\\Users\\bpadmin\\anaconda3\\envs\\tf_tr_recommender\\lib\\site-packages\\gradio\\blocks.py\", line 1594, in process_api\n",
      "    result = await self.call_function(\n",
      "  File \"c:\\Users\\bpadmin\\anaconda3\\envs\\tf_tr_recommender\\lib\\site-packages\\gradio\\blocks.py\", line 1176, in call_function\n",
      "    prediction = await anyio.to_thread.run_sync(\n",
      "  File \"c:\\Users\\bpadmin\\anaconda3\\envs\\tf_tr_recommender\\lib\\site-packages\\anyio\\to_thread.py\", line 56, in run_sync\n",
      "    return await get_async_backend().run_sync_in_worker_thread(\n",
      "  File \"c:\\Users\\bpadmin\\anaconda3\\envs\\tf_tr_recommender\\lib\\site-packages\\anyio\\_backends\\_asyncio.py\", line 2134, in run_sync_in_worker_thread\n",
      "    return await future\n",
      "  File \"c:\\Users\\bpadmin\\anaconda3\\envs\\tf_tr_recommender\\lib\\site-packages\\anyio\\_backends\\_asyncio.py\", line 851, in run\n",
      "    result = context.run(func, *args)\n",
      "  File \"c:\\Users\\bpadmin\\anaconda3\\envs\\tf_tr_recommender\\lib\\site-packages\\gradio\\utils.py\", line 689, in wrapper\n",
      "    response = f(*args, **kwargs)\n",
      "  File \"C:\\Users\\bpadmin\\AppData\\Local\\Temp\\ipykernel_16688\\2595529605.py\", line 15, in get_recommendations_gradio\n",
      "    reco_img = plot_ohlc_w_des(symbol_df, '{} : {}'.format(data[0], data[1]) ,get_insights_html(data[0]))\n",
      "  File \"C:\\Users\\bpadmin\\AppData\\Local\\Temp\\ipykernel_16688\\4157108675.py\", line 5, in get_insights_html\n",
      "    y2d = get_yr_2_date(symbol_df)\n",
      "  File \"C:\\Users\\bpadmin\\AppData\\Local\\Temp\\ipykernel_16688\\798541931.py\", line 8, in get_yr_2_date\n",
      "    fday_value = symbol_df.loc[symbol_df.TRADEDATE == act_fday].CLOSINGPRICE.iloc[0]\n",
      "  File \"c:\\Users\\bpadmin\\anaconda3\\envs\\tf_tr_recommender\\lib\\site-packages\\pandas\\core\\indexing.py\", line 1073, in __getitem__\n",
      "    return self._getitem_axis(maybe_callable, axis=axis)\n",
      "  File \"c:\\Users\\bpadmin\\anaconda3\\envs\\tf_tr_recommender\\lib\\site-packages\\pandas\\core\\indexing.py\", line 1625, in _getitem_axis\n",
      "    self._validate_integer(key, axis)\n",
      "  File \"c:\\Users\\bpadmin\\anaconda3\\envs\\tf_tr_recommender\\lib\\site-packages\\pandas\\core\\indexing.py\", line 1557, in _validate_integer\n",
      "    raise IndexError(\"single positional indexer is out-of-bounds\")\n",
      "IndexError: single positional indexer is out-of-bounds\n",
      "C:\\Users\\bpadmin\\AppData\\Local\\Temp\\ipykernel_16688\\3674160237.py:8: RuntimeWarning:\n",
      "\n",
      "invalid value encountered in sqrt\n",
      "\n",
      "C:\\Users\\bpadmin\\AppData\\Local\\Temp\\ipykernel_16688\\3674160237.py:8: RuntimeWarning:\n",
      "\n",
      "invalid value encountered in sqrt\n",
      "\n",
      "C:\\Users\\bpadmin\\AppData\\Local\\Temp\\ipykernel_16688\\3674160237.py:8: RuntimeWarning:\n",
      "\n",
      "invalid value encountered in sqrt\n",
      "\n",
      "C:\\Users\\bpadmin\\AppData\\Local\\Temp\\ipykernel_16688\\3674160237.py:8: RuntimeWarning:\n",
      "\n",
      "invalid value encountered in sqrt\n",
      "\n",
      "Traceback (most recent call last):\n",
      "  File \"c:\\Users\\bpadmin\\anaconda3\\envs\\tf_tr_recommender\\lib\\site-packages\\gradio\\queueing.py\", line 495, in call_prediction\n",
      "    output = await route_utils.call_process_api(\n",
      "  File \"c:\\Users\\bpadmin\\anaconda3\\envs\\tf_tr_recommender\\lib\\site-packages\\gradio\\route_utils.py\", line 231, in call_process_api\n",
      "    output = await app.get_blocks().process_api(\n",
      "  File \"c:\\Users\\bpadmin\\anaconda3\\envs\\tf_tr_recommender\\lib\\site-packages\\gradio\\blocks.py\", line 1594, in process_api\n",
      "    result = await self.call_function(\n",
      "  File \"c:\\Users\\bpadmin\\anaconda3\\envs\\tf_tr_recommender\\lib\\site-packages\\gradio\\blocks.py\", line 1176, in call_function\n",
      "    prediction = await anyio.to_thread.run_sync(\n",
      "  File \"c:\\Users\\bpadmin\\anaconda3\\envs\\tf_tr_recommender\\lib\\site-packages\\anyio\\to_thread.py\", line 56, in run_sync\n",
      "    return await get_async_backend().run_sync_in_worker_thread(\n",
      "  File \"c:\\Users\\bpadmin\\anaconda3\\envs\\tf_tr_recommender\\lib\\site-packages\\anyio\\_backends\\_asyncio.py\", line 2134, in run_sync_in_worker_thread\n",
      "    return await future\n",
      "  File \"c:\\Users\\bpadmin\\anaconda3\\envs\\tf_tr_recommender\\lib\\site-packages\\anyio\\_backends\\_asyncio.py\", line 851, in run\n",
      "    result = context.run(func, *args)\n",
      "  File \"c:\\Users\\bpadmin\\anaconda3\\envs\\tf_tr_recommender\\lib\\site-packages\\gradio\\utils.py\", line 689, in wrapper\n",
      "    response = f(*args, **kwargs)\n",
      "  File \"C:\\Users\\bpadmin\\AppData\\Local\\Temp\\ipykernel_16688\\2595529605.py\", line 15, in get_recommendations_gradio\n",
      "    reco_img = plot_ohlc_w_des(symbol_df, '{} : {}'.format(data[0], data[1]) ,get_insights_html(data[0]))\n",
      "  File \"C:\\Users\\bpadmin\\AppData\\Local\\Temp\\ipykernel_16688\\4157108675.py\", line 5, in get_insights_html\n",
      "    y2d = get_yr_2_date(symbol_df)\n",
      "  File \"C:\\Users\\bpadmin\\AppData\\Local\\Temp\\ipykernel_16688\\798541931.py\", line 8, in get_yr_2_date\n",
      "    fday_value = symbol_df.loc[symbol_df.TRADEDATE == act_fday].CLOSINGPRICE.iloc[0]\n",
      "  File \"c:\\Users\\bpadmin\\anaconda3\\envs\\tf_tr_recommender\\lib\\site-packages\\pandas\\core\\indexing.py\", line 1073, in __getitem__\n",
      "    return self._getitem_axis(maybe_callable, axis=axis)\n",
      "  File \"c:\\Users\\bpadmin\\anaconda3\\envs\\tf_tr_recommender\\lib\\site-packages\\pandas\\core\\indexing.py\", line 1625, in _getitem_axis\n",
      "    self._validate_integer(key, axis)\n",
      "  File \"c:\\Users\\bpadmin\\anaconda3\\envs\\tf_tr_recommender\\lib\\site-packages\\pandas\\core\\indexing.py\", line 1557, in _validate_integer\n",
      "    raise IndexError(\"single positional indexer is out-of-bounds\")\n",
      "IndexError: single positional indexer is out-of-bounds\n",
      "C:\\Users\\bpadmin\\AppData\\Local\\Temp\\ipykernel_16688\\3674160237.py:8: RuntimeWarning:\n",
      "\n",
      "invalid value encountered in sqrt\n",
      "\n",
      "C:\\Users\\bpadmin\\AppData\\Local\\Temp\\ipykernel_16688\\3674160237.py:8: RuntimeWarning:\n",
      "\n",
      "invalid value encountered in sqrt\n",
      "\n",
      "C:\\Users\\bpadmin\\AppData\\Local\\Temp\\ipykernel_16688\\3674160237.py:8: RuntimeWarning:\n",
      "\n",
      "invalid value encountered in sqrt\n",
      "\n",
      "C:\\Users\\bpadmin\\AppData\\Local\\Temp\\ipykernel_16688\\3674160237.py:8: RuntimeWarning:\n",
      "\n",
      "invalid value encountered in sqrt\n",
      "\n",
      "C:\\Users\\bpadmin\\AppData\\Local\\Temp\\ipykernel_16688\\3674160237.py:8: RuntimeWarning:\n",
      "\n",
      "invalid value encountered in sqrt\n",
      "\n",
      "C:\\Users\\bpadmin\\AppData\\Local\\Temp\\ipykernel_16688\\3674160237.py:8: RuntimeWarning:\n",
      "\n",
      "invalid value encountered in sqrt\n",
      "\n",
      "C:\\Users\\bpadmin\\AppData\\Local\\Temp\\ipykernel_16688\\3674160237.py:8: RuntimeWarning:\n",
      "\n",
      "invalid value encountered in sqrt\n",
      "\n",
      "C:\\Users\\bpadmin\\AppData\\Local\\Temp\\ipykernel_16688\\3674160237.py:8: RuntimeWarning:\n",
      "\n",
      "invalid value encountered in sqrt\n",
      "\n",
      "C:\\Users\\bpadmin\\AppData\\Local\\Temp\\ipykernel_16688\\3674160237.py:8: RuntimeWarning:\n",
      "\n",
      "invalid value encountered in sqrt\n",
      "\n",
      "C:\\Users\\bpadmin\\AppData\\Local\\Temp\\ipykernel_16688\\3674160237.py:8: RuntimeWarning:\n",
      "\n",
      "invalid value encountered in sqrt\n",
      "\n",
      "C:\\Users\\bpadmin\\AppData\\Local\\Temp\\ipykernel_16688\\3674160237.py:8: RuntimeWarning:\n",
      "\n",
      "invalid value encountered in sqrt\n",
      "\n",
      "C:\\Users\\bpadmin\\AppData\\Local\\Temp\\ipykernel_16688\\3674160237.py:8: RuntimeWarning:\n",
      "\n",
      "invalid value encountered in sqrt\n",
      "\n"
     ]
    }
   ],
   "source": [
    "def quey_generator(domains):\n",
    "    query = 'business that belong in the domains of '+','.join(domains)\n",
    "    return query\n",
    "\n",
    "def get_recommendations_gradio(domains, top_k = 5):\n",
    "  query = quey_generator(domains)\n",
    "  relevant_stocks = new_db.similarity_search_with_relevance_scores(query= query, k = top_k)\n",
    "  recommendations = [(relevant_stocks[idx][0].metadata.get('symbol'), relevant_stocks[idx][0].metadata.get('name'), relevant_stocks[idx][1]) for idx in range(len(relevant_stocks))]\n",
    "\n",
    "  recommended_symbols = []\n",
    "  reco_images = []\n",
    "  for idx, data in enumerate(recommendations):\n",
    "    \n",
    "    recommended_symbols.append(data[0])\n",
    "    symbol_df = price_data[price_data.SECURITYCODE == data[0]].sort_values(by = 'UNIX_TS').reset_index(drop = True)\n",
    "    reco_img = plot_ohlc_w_des(symbol_df, '{} : {}'.format(data[0], data[1]) ,get_insights_html(data[0]))\n",
    "    reco_images.append(reco_img)\n",
    "  return reco_images\n",
    "\n",
    "with gr.Blocks() as demo:\n",
    "    inputs = gr.Dropdown(\n",
    "        [\"finance\", \"transport\", \"technology\", \"agriculture\"],\n",
    "        multiselect=True,\n",
    "        label=\"Domains\",\n",
    "        allow_custom_value=True,\n",
    "        scale=5\n",
    "    )\n",
    "    rec1, rec2, rec3, rec4, rec5 = [gr.Plot(), gr.Plot(),gr.Plot(),gr.Plot(),gr.Plot()]\n",
    "\n",
    "    inputs.change(get_recommendations_gradio, inputs=inputs, outputs=[rec1, rec2, rec3, rec4, rec5])\n",
    "    demo.load(get_recommendations_gradio, inputs=[inputs], outputs=[rec1, rec2, rec3, rec4, rec5])\n",
    "    demo.launch(share = True)"
   ]
  },
  {
   "cell_type": "code",
   "execution_count": null,
   "metadata": {},
   "outputs": [],
   "source": []
  },
  {
   "cell_type": "code",
   "execution_count": null,
   "metadata": {},
   "outputs": [
    {
     "name": "stdout",
     "output_type": "stream",
     "text": [
      "WARNING *** OLE2 inconsistency: SSCS size is 0 but SSAT size is non-zero\n"
     ]
    }
   ],
   "source": [
    "data_path = '../../data/SL20 Two years to Narada.xls'\n",
    "\n",
    "data = pd.read_excel(data_path, index_col= False)"
   ]
  },
  {
   "cell_type": "code",
   "execution_count": null,
   "metadata": {},
   "outputs": [],
   "source": [
    "def split_(stock_name):\n",
    "    return stock_name.split('.')[0]"
   ]
  },
  {
   "cell_type": "code",
   "execution_count": null,
   "metadata": {},
   "outputs": [],
   "source": [
    "data['SECURITYCODE'] = data['SECURITYCODE'].apply(lambda x : split_(x))"
   ]
  },
  {
   "cell_type": "code",
   "execution_count": null,
   "metadata": {},
   "outputs": [],
   "source": [
    "data = data[['SECURITYCODE','OPENINGPRICE','HIGHPX', 'LOWPX', 'CLOSINGPRICE', 'TRADEDATE', 'UNIX_TS']].dropna(axis= 0, how = 'any')\n",
    "# data"
   ]
  },
  {
   "cell_type": "code",
   "execution_count": null,
   "metadata": {},
   "outputs": [],
   "source": [
    "# data.SECURITYCODE.value_counts()"
   ]
  },
  {
   "cell_type": "code",
   "execution_count": null,
   "metadata": {},
   "outputs": [
    {
     "data": {
      "text/plain": [
       "Timestamp('2024-02-07 00:00:00')"
      ]
     },
     "execution_count": 103,
     "metadata": {},
     "output_type": "execute_result"
    }
   ],
   "source": [
    "end_date = data.TRADEDATE.max()\n",
    "end_date"
   ]
  },
  {
   "cell_type": "code",
   "execution_count": null,
   "metadata": {},
   "outputs": [],
   "source": [
    "sl20_symbols = data.SECURITYCODE.unique().tolist()\n",
    "new_symbols = price_data.SECURITYCODE.unique().tolist()"
   ]
  },
  {
   "cell_type": "code",
   "execution_count": null,
   "metadata": {},
   "outputs": [
    {
     "name": "stdout",
     "output_type": "stream",
     "text": [
      "VONE\n",
      "CIC\n",
      "DIAL\n",
      "LIOC\n",
      "LOLC\n",
      "AAIC\n"
     ]
    }
   ],
   "source": [
    "sl20_v2 = data.copy()\n",
    "\n",
    "for sl20_symbol in sl20_symbols:\n",
    "    if sl20_symbol in(new_symbols):\n",
    "        print(sl20_symbol)\n",
    "        sl20_v2 = sl20_v2.drop(sl20_v2[sl20_v2.SECURITYCODE == sl20_symbol].index)\n",
    "        \n"
   ]
  },
  {
   "cell_type": "code",
   "execution_count": null,
   "metadata": {},
   "outputs": [],
   "source": [
    "sl20_v2.shape[0], data.shape[0]\n",
    "\n",
    "sl20v2_symbols = sl20_v2.SECURITYCODE.unique().tolist()\n",
    "\n",
    "for sl20_symbol in sl20v2_symbols:\n",
    "    if sl20_symbol in(new_symbols):\n",
    "        print(sl20_symbol)"
   ]
  },
  {
   "cell_type": "code",
   "execution_count": null,
   "metadata": {},
   "outputs": [
    {
     "data": {
      "text/plain": [
       "35178"
      ]
     },
     "execution_count": 102,
     "metadata": {},
     "output_type": "execute_result"
    }
   ],
   "source": [
    "sl20_v2.shape[0] + price_data.shape[0]"
   ]
  },
  {
   "cell_type": "code",
   "execution_count": null,
   "metadata": {},
   "outputs": [
    {
     "data": {
      "text/html": [
       "<div>\n",
       "<style scoped>\n",
       "    .dataframe tbody tr th:only-of-type {\n",
       "        vertical-align: middle;\n",
       "    }\n",
       "\n",
       "    .dataframe tbody tr th {\n",
       "        vertical-align: top;\n",
       "    }\n",
       "\n",
       "    .dataframe thead th {\n",
       "        text-align: right;\n",
       "    }\n",
       "</style>\n",
       "<table border=\"1\" class=\"dataframe\">\n",
       "  <thead>\n",
       "    <tr style=\"text-align: right;\">\n",
       "      <th></th>\n",
       "      <th>SECURITYCODE</th>\n",
       "      <th>OPENINGPRICE</th>\n",
       "      <th>HIGHPX</th>\n",
       "      <th>LOWPX</th>\n",
       "      <th>CLOSINGPRICE</th>\n",
       "      <th>TRADEDATE</th>\n",
       "      <th>UNIX_TS</th>\n",
       "    </tr>\n",
       "  </thead>\n",
       "  <tbody>\n",
       "    <tr>\n",
       "      <th>0</th>\n",
       "      <td>NDB</td>\n",
       "      <td>64.90</td>\n",
       "      <td>64.90</td>\n",
       "      <td>63.90</td>\n",
       "      <td>63.90</td>\n",
       "      <td>2024-02-07</td>\n",
       "      <td>1707264000</td>\n",
       "    </tr>\n",
       "    <tr>\n",
       "      <th>1</th>\n",
       "      <td>LLUB</td>\n",
       "      <td>95.00</td>\n",
       "      <td>96.00</td>\n",
       "      <td>92.10</td>\n",
       "      <td>94.40</td>\n",
       "      <td>2024-02-07</td>\n",
       "      <td>1707264000</td>\n",
       "    </tr>\n",
       "    <tr>\n",
       "      <th>2</th>\n",
       "      <td>COMB</td>\n",
       "      <td>88.00</td>\n",
       "      <td>89.00</td>\n",
       "      <td>88.00</td>\n",
       "      <td>89.00</td>\n",
       "      <td>2024-02-07</td>\n",
       "      <td>1707264000</td>\n",
       "    </tr>\n",
       "    <tr>\n",
       "      <th>3</th>\n",
       "      <td>DFCC</td>\n",
       "      <td>78.00</td>\n",
       "      <td>78.00</td>\n",
       "      <td>76.00</td>\n",
       "      <td>77.10</td>\n",
       "      <td>2024-02-07</td>\n",
       "      <td>1707264000</td>\n",
       "    </tr>\n",
       "    <tr>\n",
       "      <th>4</th>\n",
       "      <td>HAYL</td>\n",
       "      <td>75.00</td>\n",
       "      <td>75.60</td>\n",
       "      <td>74.90</td>\n",
       "      <td>75.00</td>\n",
       "      <td>2024-02-07</td>\n",
       "      <td>1707264000</td>\n",
       "    </tr>\n",
       "    <tr>\n",
       "      <th>...</th>\n",
       "      <td>...</td>\n",
       "      <td>...</td>\n",
       "      <td>...</td>\n",
       "      <td>...</td>\n",
       "      <td>...</td>\n",
       "      <td>...</td>\n",
       "      <td>...</td>\n",
       "    </tr>\n",
       "    <tr>\n",
       "      <th>35173</th>\n",
       "      <td>APLA</td>\n",
       "      <td>742.75</td>\n",
       "      <td>750.00</td>\n",
       "      <td>701.00</td>\n",
       "      <td>739.50</td>\n",
       "      <td>2022-02-08</td>\n",
       "      <td>1644278400</td>\n",
       "    </tr>\n",
       "    <tr>\n",
       "      <th>35174</th>\n",
       "      <td>AEL</td>\n",
       "      <td>33.50</td>\n",
       "      <td>33.50</td>\n",
       "      <td>31.20</td>\n",
       "      <td>31.70</td>\n",
       "      <td>2022-02-08</td>\n",
       "      <td>1644278400</td>\n",
       "    </tr>\n",
       "    <tr>\n",
       "      <th>35175</th>\n",
       "      <td>ACL</td>\n",
       "      <td>115.00</td>\n",
       "      <td>118.00</td>\n",
       "      <td>110.00</td>\n",
       "      <td>112.75</td>\n",
       "      <td>2022-02-08</td>\n",
       "      <td>1644278400</td>\n",
       "    </tr>\n",
       "    <tr>\n",
       "      <th>35176</th>\n",
       "      <td>ABAN</td>\n",
       "      <td>202.25</td>\n",
       "      <td>202.25</td>\n",
       "      <td>202.25</td>\n",
       "      <td>202.25</td>\n",
       "      <td>2022-02-08</td>\n",
       "      <td>1644278400</td>\n",
       "    </tr>\n",
       "    <tr>\n",
       "      <th>35177</th>\n",
       "      <td>AAIC</td>\n",
       "      <td>132.50</td>\n",
       "      <td>153.75</td>\n",
       "      <td>125.25</td>\n",
       "      <td>148.50</td>\n",
       "      <td>2022-02-08</td>\n",
       "      <td>1644278400</td>\n",
       "    </tr>\n",
       "  </tbody>\n",
       "</table>\n",
       "<p>35178 rows × 7 columns</p>\n",
       "</div>"
      ],
      "text/plain": [
       "      SECURITYCODE  OPENINGPRICE  HIGHPX   LOWPX  CLOSINGPRICE  TRADEDATE  \\\n",
       "0              NDB         64.90   64.90   63.90         63.90 2024-02-07   \n",
       "1             LLUB         95.00   96.00   92.10         94.40 2024-02-07   \n",
       "2             COMB         88.00   89.00   88.00         89.00 2024-02-07   \n",
       "3             DFCC         78.00   78.00   76.00         77.10 2024-02-07   \n",
       "4             HAYL         75.00   75.60   74.90         75.00 2024-02-07   \n",
       "...            ...           ...     ...     ...           ...        ...   \n",
       "35173         APLA        742.75  750.00  701.00        739.50 2022-02-08   \n",
       "35174          AEL         33.50   33.50   31.20         31.70 2022-02-08   \n",
       "35175          ACL        115.00  118.00  110.00        112.75 2022-02-08   \n",
       "35176         ABAN        202.25  202.25  202.25        202.25 2022-02-08   \n",
       "35177         AAIC        132.50  153.75  125.25        148.50 2022-02-08   \n",
       "\n",
       "          UNIX_TS  \n",
       "0      1707264000  \n",
       "1      1707264000  \n",
       "2      1707264000  \n",
       "3      1707264000  \n",
       "4      1707264000  \n",
       "...           ...  \n",
       "35173  1644278400  \n",
       "35174  1644278400  \n",
       "35175  1644278400  \n",
       "35176  1644278400  \n",
       "35177  1644278400  \n",
       "\n",
       "[35178 rows x 7 columns]"
      ]
     },
     "execution_count": 100,
     "metadata": {},
     "output_type": "execute_result"
    }
   ],
   "source": [
    "comb_data = pd.concat([sl20_v2, price_data], ignore_index=True)\n",
    "comb_data"
   ]
  },
  {
   "cell_type": "code",
   "execution_count": null,
   "metadata": {},
   "outputs": [
    {
     "data": {
      "text/plain": [
       "(34481, 7)"
      ]
     },
     "execution_count": 104,
     "metadata": {},
     "output_type": "execute_result"
    }
   ],
   "source": [
    "comb_data = comb_data[comb_data.TRADEDATE <= end_date]\n",
    "comb_data.shape"
   ]
  },
  {
   "cell_type": "code",
   "execution_count": null,
   "metadata": {},
   "outputs": [
    {
     "data": {
      "text/plain": [
       "(Timestamp('2024-02-07 00:00:00'),\n",
       " Timestamp('2022-02-08 00:00:00'),\n",
       " Timestamp('2022-02-08 00:00:00'))"
      ]
     },
     "execution_count": 107,
     "metadata": {},
     "output_type": "execute_result"
    }
   ],
   "source": [
    "comb_data.TRADEDATE.max(), comb_data.TRADEDATE.min(), data.TRADEDATE.min()"
   ]
  },
  {
   "cell_type": "code",
   "execution_count": null,
   "metadata": {},
   "outputs": [],
   "source": [
    "from operator import index\n",
    "\n",
    "\n",
    "comb_data.to_excel('../../data/phase_2/price_data.xlsx', index = False)"
   ]
  },
  {
   "cell_type": "code",
   "execution_count": null,
   "metadata": {},
   "outputs": [
    {
     "data": {
      "text/plain": [
       "68"
      ]
     },
     "execution_count": 31,
     "metadata": {},
     "output_type": "execute_result"
    }
   ],
   "source": [
    "price_data.SECURITYCODE.nunique()"
   ]
  },
  {
   "cell_type": "code",
   "execution_count": null,
   "metadata": {},
   "outputs": [
    {
     "data": {
      "text/html": [
       "<div>\n",
       "<style scoped>\n",
       "    .dataframe tbody tr th:only-of-type {\n",
       "        vertical-align: middle;\n",
       "    }\n",
       "\n",
       "    .dataframe tbody tr th {\n",
       "        vertical-align: top;\n",
       "    }\n",
       "\n",
       "    .dataframe thead th {\n",
       "        text-align: right;\n",
       "    }\n",
       "</style>\n",
       "<table border=\"1\" class=\"dataframe\">\n",
       "  <thead>\n",
       "    <tr style=\"text-align: right;\">\n",
       "      <th></th>\n",
       "      <th>GICS Category</th>\n",
       "      <th>Symbol</th>\n",
       "      <th>Name</th>\n",
       "      <th>Business_Summary</th>\n",
       "    </tr>\n",
       "  </thead>\n",
       "  <tbody>\n",
       "    <tr>\n",
       "      <th>0</th>\n",
       "      <td>Information Technology</td>\n",
       "      <td>HBS</td>\n",
       "      <td>hSenid Business Solutions PLC</td>\n",
       "      <td>development of human capital management (HCM)...</td>\n",
       "    </tr>\n",
       "    <tr>\n",
       "      <th>1</th>\n",
       "      <td>Consumer Discretionary</td>\n",
       "      <td>TYRE</td>\n",
       "      <td>KELANI TYRES PLC</td>\n",
       "      <td>importation and sale of tires. In addition, th...</td>\n",
       "    </tr>\n",
       "  </tbody>\n",
       "</table>\n",
       "</div>"
      ],
      "text/plain": [
       "            GICS Category Symbol                           Name  \\\n",
       "0  Information Technology    HBS  hSenid Business Solutions PLC   \n",
       "1  Consumer Discretionary   TYRE               KELANI TYRES PLC   \n",
       "\n",
       "                                    Business_Summary  \n",
       "0   development of human capital management (HCM)...  \n",
       "1  importation and sale of tires. In addition, th...  "
      ]
     },
     "execution_count": 32,
     "metadata": {},
     "output_type": "execute_result"
    }
   ],
   "source": [
    "stock_data_excel_file = pd.ExcelFile('../../data/selected_symbols_w_gics.xlsx')\n",
    "stock_data = pd.read_excel(stock_data_excel_file, 'phase 1 symbols reduced')\n",
    "stock_data.head(2)"
   ]
  },
  {
   "cell_type": "code",
   "execution_count": null,
   "metadata": {},
   "outputs": [],
   "source": [
    "pr_symbols = list(price_data.SECURITYCODE.unique())\n",
    "details_symbols = list(stock_data.Symbol.unique())"
   ]
  },
  {
   "cell_type": "code",
   "execution_count": null,
   "metadata": {},
   "outputs": [
    {
     "data": {
      "text/plain": [
       "True"
      ]
     },
     "execution_count": 39,
     "metadata": {},
     "output_type": "execute_result"
    }
   ],
   "source": [
    "set(pr_symbols) == set(details_symbols)"
   ]
  },
  {
   "cell_type": "code",
   "execution_count": null,
   "metadata": {},
   "outputs": [
    {
     "data": {
      "text/html": [
       "<div>\n",
       "<style scoped>\n",
       "    .dataframe tbody tr th:only-of-type {\n",
       "        vertical-align: middle;\n",
       "    }\n",
       "\n",
       "    .dataframe tbody tr th {\n",
       "        vertical-align: top;\n",
       "    }\n",
       "\n",
       "    .dataframe thead th {\n",
       "        text-align: right;\n",
       "    }\n",
       "</style>\n",
       "<table border=\"1\" class=\"dataframe\">\n",
       "  <thead>\n",
       "    <tr style=\"text-align: right;\">\n",
       "      <th></th>\n",
       "      <th>SECURITYCODE</th>\n",
       "      <th>OPENINGPRICE</th>\n",
       "      <th>HIGHPX</th>\n",
       "      <th>LOWPX</th>\n",
       "      <th>CLOSINGPRICE</th>\n",
       "      <th>TRADEDATE</th>\n",
       "      <th>UNIX_TS</th>\n",
       "    </tr>\n",
       "  </thead>\n",
       "  <tbody>\n",
       "    <tr>\n",
       "      <th>0</th>\n",
       "      <td>EXT</td>\n",
       "      <td>7.60</td>\n",
       "      <td>7.60</td>\n",
       "      <td>7.60</td>\n",
       "      <td>7.60</td>\n",
       "      <td>2024-02-26</td>\n",
       "      <td>1708905600</td>\n",
       "    </tr>\n",
       "    <tr>\n",
       "      <th>1</th>\n",
       "      <td>MDL</td>\n",
       "      <td>8.10</td>\n",
       "      <td>8.10</td>\n",
       "      <td>8.10</td>\n",
       "      <td>8.60</td>\n",
       "      <td>2024-02-26</td>\n",
       "      <td>1708905600</td>\n",
       "    </tr>\n",
       "    <tr>\n",
       "      <th>2</th>\n",
       "      <td>SDF</td>\n",
       "      <td>12.40</td>\n",
       "      <td>12.50</td>\n",
       "      <td>12.40</td>\n",
       "      <td>12.50</td>\n",
       "      <td>2024-02-26</td>\n",
       "      <td>1708905600</td>\n",
       "    </tr>\n",
       "    <tr>\n",
       "      <th>3</th>\n",
       "      <td>COOP</td>\n",
       "      <td>2.20</td>\n",
       "      <td>2.30</td>\n",
       "      <td>2.10</td>\n",
       "      <td>2.20</td>\n",
       "      <td>2024-02-26</td>\n",
       "      <td>1708905600</td>\n",
       "    </tr>\n",
       "    <tr>\n",
       "      <th>4</th>\n",
       "      <td>LCBF</td>\n",
       "      <td>1.80</td>\n",
       "      <td>1.80</td>\n",
       "      <td>1.80</td>\n",
       "      <td>1.80</td>\n",
       "      <td>2024-02-26</td>\n",
       "      <td>1708905600</td>\n",
       "    </tr>\n",
       "    <tr>\n",
       "      <th>...</th>\n",
       "      <td>...</td>\n",
       "      <td>...</td>\n",
       "      <td>...</td>\n",
       "      <td>...</td>\n",
       "      <td>...</td>\n",
       "      <td>...</td>\n",
       "      <td>...</td>\n",
       "    </tr>\n",
       "    <tr>\n",
       "      <th>65482</th>\n",
       "      <td>APLA</td>\n",
       "      <td>742.75</td>\n",
       "      <td>750.00</td>\n",
       "      <td>701.00</td>\n",
       "      <td>739.50</td>\n",
       "      <td>2022-02-08</td>\n",
       "      <td>1644278400</td>\n",
       "    </tr>\n",
       "    <tr>\n",
       "      <th>65483</th>\n",
       "      <td>AEL</td>\n",
       "      <td>33.50</td>\n",
       "      <td>33.50</td>\n",
       "      <td>31.20</td>\n",
       "      <td>31.70</td>\n",
       "      <td>2022-02-08</td>\n",
       "      <td>1644278400</td>\n",
       "    </tr>\n",
       "    <tr>\n",
       "      <th>65484</th>\n",
       "      <td>ACL</td>\n",
       "      <td>115.00</td>\n",
       "      <td>118.00</td>\n",
       "      <td>110.00</td>\n",
       "      <td>112.75</td>\n",
       "      <td>2022-02-08</td>\n",
       "      <td>1644278400</td>\n",
       "    </tr>\n",
       "    <tr>\n",
       "      <th>65486</th>\n",
       "      <td>ABAN</td>\n",
       "      <td>202.25</td>\n",
       "      <td>202.25</td>\n",
       "      <td>202.25</td>\n",
       "      <td>202.25</td>\n",
       "      <td>2022-02-08</td>\n",
       "      <td>1644278400</td>\n",
       "    </tr>\n",
       "    <tr>\n",
       "      <th>65488</th>\n",
       "      <td>AAIC</td>\n",
       "      <td>132.50</td>\n",
       "      <td>153.75</td>\n",
       "      <td>125.25</td>\n",
       "      <td>148.50</td>\n",
       "      <td>2022-02-08</td>\n",
       "      <td>1644278400</td>\n",
       "    </tr>\n",
       "  </tbody>\n",
       "</table>\n",
       "<p>29085 rows × 7 columns</p>\n",
       "</div>"
      ],
      "text/plain": [
       "      SECURITYCODE  OPENINGPRICE  HIGHPX   LOWPX  CLOSINGPRICE  TRADEDATE  \\\n",
       "0              EXT          7.60    7.60    7.60          7.60 2024-02-26   \n",
       "1              MDL          8.10    8.10    8.10          8.60 2024-02-26   \n",
       "2              SDF         12.40   12.50   12.40         12.50 2024-02-26   \n",
       "3             COOP          2.20    2.30    2.10          2.20 2024-02-26   \n",
       "4             LCBF          1.80    1.80    1.80          1.80 2024-02-26   \n",
       "...            ...           ...     ...     ...           ...        ...   \n",
       "65482         APLA        742.75  750.00  701.00        739.50 2022-02-08   \n",
       "65483          AEL         33.50   33.50   31.20         31.70 2022-02-08   \n",
       "65484          ACL        115.00  118.00  110.00        112.75 2022-02-08   \n",
       "65486         ABAN        202.25  202.25  202.25        202.25 2022-02-08   \n",
       "65488         AAIC        132.50  153.75  125.25        148.50 2022-02-08   \n",
       "\n",
       "          UNIX_TS  \n",
       "0      1708905600  \n",
       "1      1708905600  \n",
       "2      1708905600  \n",
       "3      1708905600  \n",
       "4      1708905600  \n",
       "...           ...  \n",
       "65482  1644278400  \n",
       "65483  1644278400  \n",
       "65484  1644278400  \n",
       "65486  1644278400  \n",
       "65488  1644278400  \n",
       "\n",
       "[29085 rows x 7 columns]"
      ]
     },
     "execution_count": 60,
     "metadata": {},
     "output_type": "execute_result"
    }
   ],
   "source": [
    "price_data"
   ]
  },
  {
   "cell_type": "code",
   "execution_count": null,
   "metadata": {},
   "outputs": [],
   "source": [
    "good_symbols = [symbol for symbol,val in (price_data.SECURITYCODE.value_counts()>250).to_dict().items() if val==True]\n",
    "# good_symbols"
   ]
  },
  {
   "cell_type": "code",
   "execution_count": null,
   "metadata": {},
   "outputs": [
    {
     "data": {
      "text/plain": [
       "Int64Index([    0,     1,     2,     3,     4,     5,    13,    14,    18,\n",
       "               19,\n",
       "            ...\n",
       "            65471, 65473, 65477, 65479, 65481, 65482, 65483, 65484, 65486,\n",
       "            65488],\n",
       "           dtype='int64', length=28505)"
      ]
     },
     "execution_count": 65,
     "metadata": {},
     "output_type": "execute_result"
    }
   ],
   "source": [
    "price_data[price_data.SECURITYCODE.isin(good_symbols)].index"
   ]
  },
  {
   "cell_type": "code",
   "execution_count": null,
   "metadata": {},
   "outputs": [
    {
     "data": {
      "text/plain": [
       "(28505, 7)"
      ]
     },
     "execution_count": 69,
     "metadata": {},
     "output_type": "execute_result"
    }
   ],
   "source": [
    "price_data_1 = price_data.drop(price_data[~price_data.SECURITYCODE.isin(good_symbols)].index)\n",
    "price_data_1.shape"
   ]
  },
  {
   "cell_type": "code",
   "execution_count": null,
   "metadata": {},
   "outputs": [
    {
     "data": {
      "text/plain": [
       "<pandas.core.groupby.generic.DataFrameGroupBy object at 0x00000288DCDAC070>"
      ]
     },
     "execution_count": 75,
     "metadata": {},
     "output_type": "execute_result"
    }
   ],
   "source": [
    "symbol_groups = price_data_1.groupby(by = 'SECURITYCODE')\n",
    "symbol_groups"
   ]
  },
  {
   "cell_type": "code",
   "execution_count": null,
   "metadata": {},
   "outputs": [
    {
     "data": {
      "text/plain": [
       "Timestamp('2024-02-26 00:00:00')"
      ]
     },
     "execution_count": 76,
     "metadata": {},
     "output_type": "execute_result"
    }
   ],
   "source": [
    "price_data_1.TRADEDATE.max()"
   ]
  },
  {
   "cell_type": "code",
   "execution_count": null,
   "metadata": {},
   "outputs": [],
   "source": [
    "filtered_symbols = price_data_1.groupby('SECURITYCODE').filter(lambda x: x['TRADEDATE'].max() == price_data_1.TRADEDATE.max())['SECURITYCODE'].unique()"
   ]
  },
  {
   "cell_type": "code",
   "execution_count": null,
   "metadata": {},
   "outputs": [
    {
     "data": {
      "text/plain": [
       "(60, 64)"
      ]
     },
     "execution_count": 81,
     "metadata": {},
     "output_type": "execute_result"
    }
   ],
   "source": [
    "len(filtered_symbols), price_data_1.SECURITYCODE.nunique()"
   ]
  },
  {
   "cell_type": "code",
   "execution_count": null,
   "metadata": {},
   "outputs": [],
   "source": []
  }
 ],
 "metadata": {
  "kernelspec": {
   "display_name": "tf_tr_recommender",
   "language": "python",
   "name": "python3"
  },
  "language_info": {
   "codemirror_mode": {
    "name": "ipython",
    "version": 3
   },
   "file_extension": ".py",
   "mimetype": "text/x-python",
   "name": "python",
   "nbconvert_exporter": "python",
   "pygments_lexer": "ipython3",
   "version": "3.9.18"
  }
 },
 "nbformat": 4,
 "nbformat_minor": 2
}
