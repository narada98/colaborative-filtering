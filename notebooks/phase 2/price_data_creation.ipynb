{
 "cells": [
  {
   "cell_type": "code",
   "execution_count": 74,
   "metadata": {},
   "outputs": [],
   "source": [
    "import pandas as pd\n",
    "import numpy as np\n",
    "from datetime import timedelta"
   ]
  },
  {
   "cell_type": "code",
   "execution_count": 2,
   "metadata": {},
   "outputs": [
    {
     "name": "stdout",
     "output_type": "stream",
     "text": [
      "WARNING *** OLE2 inconsistency: SSCS size is 0 but SSAT size is non-zero\n"
     ]
    }
   ],
   "source": [
    "sl20 = pd.read_excel('../../data/SL20 Two years to Narada.xls')"
   ]
  },
  {
   "cell_type": "code",
   "execution_count": 3,
   "metadata": {},
   "outputs": [
    {
     "data": {
      "text/html": [
       "<div>\n",
       "<style scoped>\n",
       "    .dataframe tbody tr th:only-of-type {\n",
       "        vertical-align: middle;\n",
       "    }\n",
       "\n",
       "    .dataframe tbody tr th {\n",
       "        vertical-align: top;\n",
       "    }\n",
       "\n",
       "    .dataframe thead th {\n",
       "        text-align: right;\n",
       "    }\n",
       "</style>\n",
       "<table border=\"1\" class=\"dataframe\">\n",
       "  <thead>\n",
       "    <tr style=\"text-align: right;\">\n",
       "      <th></th>\n",
       "      <th>WATCHID</th>\n",
       "      <th>SECURITYCODE</th>\n",
       "      <th>PREVIOUSDAYVWAP</th>\n",
       "      <th>LASTTRADEPRICE</th>\n",
       "      <th>LASTUPDATEDTIME</th>\n",
       "      <th>BESTASKPRICE</th>\n",
       "      <th>BESTASKSIZE</th>\n",
       "      <th>BESTBIDPRICE</th>\n",
       "      <th>BESTBIDSIZE</th>\n",
       "      <th>HIGHPX</th>\n",
       "      <th>...</th>\n",
       "      <th>CLOSINGPRICE</th>\n",
       "      <th>TOTALTURNOVER</th>\n",
       "      <th>BOOKDEFINITIONID</th>\n",
       "      <th>INFO1</th>\n",
       "      <th>INFO2</th>\n",
       "      <th>SECURITYSTATUS</th>\n",
       "      <th>TRADEDATE</th>\n",
       "      <th>EXCHANGEID</th>\n",
       "      <th>UNIX_TS</th>\n",
       "      <th>VWAP</th>\n",
       "    </tr>\n",
       "  </thead>\n",
       "  <tbody>\n",
       "    <tr>\n",
       "      <th>0</th>\n",
       "      <td>80705242</td>\n",
       "      <td>VONE.N0000</td>\n",
       "      <td>NaN</td>\n",
       "      <td>NaN</td>\n",
       "      <td>2024-02-07 14:47:57</td>\n",
       "      <td>0</td>\n",
       "      <td>0</td>\n",
       "      <td>0</td>\n",
       "      <td>0</td>\n",
       "      <td>NaN</td>\n",
       "      <td>...</td>\n",
       "      <td>NaN</td>\n",
       "      <td>NaN</td>\n",
       "      <td>CROSSING</td>\n",
       "      <td>NaN</td>\n",
       "      <td>NaN</td>\n",
       "      <td>NaN</td>\n",
       "      <td>2024-02-07</td>\n",
       "      <td>CSE</td>\n",
       "      <td>1707264000</td>\n",
       "      <td>NaN</td>\n",
       "    </tr>\n",
       "    <tr>\n",
       "      <th>1</th>\n",
       "      <td>80705801</td>\n",
       "      <td>VONE.N0000</td>\n",
       "      <td>38.6</td>\n",
       "      <td>39.2</td>\n",
       "      <td>2024-02-07 14:47:57</td>\n",
       "      <td>0</td>\n",
       "      <td>0</td>\n",
       "      <td>0</td>\n",
       "      <td>0</td>\n",
       "      <td>39.2</td>\n",
       "      <td>...</td>\n",
       "      <td>38.9</td>\n",
       "      <td>3175073.2</td>\n",
       "      <td>REGULAR</td>\n",
       "      <td>NaN</td>\n",
       "      <td>NaN</td>\n",
       "      <td>NaN</td>\n",
       "      <td>2024-02-07</td>\n",
       "      <td>CSE</td>\n",
       "      <td>1707264000</td>\n",
       "      <td>38.6751</td>\n",
       "    </tr>\n",
       "    <tr>\n",
       "      <th>2</th>\n",
       "      <td>80705635</td>\n",
       "      <td>NDB.N0000</td>\n",
       "      <td>64.1</td>\n",
       "      <td>63.9</td>\n",
       "      <td>2024-02-07 14:47:50</td>\n",
       "      <td>0</td>\n",
       "      <td>0</td>\n",
       "      <td>0</td>\n",
       "      <td>0</td>\n",
       "      <td>64.9</td>\n",
       "      <td>...</td>\n",
       "      <td>63.9</td>\n",
       "      <td>1906369.4</td>\n",
       "      <td>REGULAR</td>\n",
       "      <td>NaN</td>\n",
       "      <td>NaN</td>\n",
       "      <td>NaN</td>\n",
       "      <td>2024-02-07</td>\n",
       "      <td>CSE</td>\n",
       "      <td>1707264000</td>\n",
       "      <td>63.9979</td>\n",
       "    </tr>\n",
       "    <tr>\n",
       "      <th>3</th>\n",
       "      <td>80705583</td>\n",
       "      <td>LLUB.N0000</td>\n",
       "      <td>95.0</td>\n",
       "      <td>95.9</td>\n",
       "      <td>2024-02-07 14:47:48</td>\n",
       "      <td>0</td>\n",
       "      <td>0</td>\n",
       "      <td>0</td>\n",
       "      <td>0</td>\n",
       "      <td>96.0</td>\n",
       "      <td>...</td>\n",
       "      <td>94.4</td>\n",
       "      <td>16281643.2</td>\n",
       "      <td>REGULAR</td>\n",
       "      <td>NaN</td>\n",
       "      <td>NaN</td>\n",
       "      <td>NaN</td>\n",
       "      <td>2024-02-07</td>\n",
       "      <td>CSE</td>\n",
       "      <td>1707264000</td>\n",
       "      <td>95.4096</td>\n",
       "    </tr>\n",
       "    <tr>\n",
       "      <th>4</th>\n",
       "      <td>80705393</td>\n",
       "      <td>CIC.N0000</td>\n",
       "      <td>63.9</td>\n",
       "      <td>63.0</td>\n",
       "      <td>2024-02-07 14:47:40</td>\n",
       "      <td>0</td>\n",
       "      <td>0</td>\n",
       "      <td>0</td>\n",
       "      <td>0</td>\n",
       "      <td>64.0</td>\n",
       "      <td>...</td>\n",
       "      <td>63.0</td>\n",
       "      <td>1218961.0</td>\n",
       "      <td>REGULAR</td>\n",
       "      <td>NaN</td>\n",
       "      <td>NaN</td>\n",
       "      <td>NaN</td>\n",
       "      <td>2024-02-07</td>\n",
       "      <td>CSE</td>\n",
       "      <td>1707264000</td>\n",
       "      <td>63.3753</td>\n",
       "    </tr>\n",
       "  </tbody>\n",
       "</table>\n",
       "<p>5 rows × 27 columns</p>\n",
       "</div>"
      ],
      "text/plain": [
       "    WATCHID SECURITYCODE  PREVIOUSDAYVWAP  LASTTRADEPRICE     LASTUPDATEDTIME  \\\n",
       "0  80705242   VONE.N0000              NaN             NaN 2024-02-07 14:47:57   \n",
       "1  80705801   VONE.N0000             38.6            39.2 2024-02-07 14:47:57   \n",
       "2  80705635    NDB.N0000             64.1            63.9 2024-02-07 14:47:50   \n",
       "3  80705583   LLUB.N0000             95.0            95.9 2024-02-07 14:47:48   \n",
       "4  80705393    CIC.N0000             63.9            63.0 2024-02-07 14:47:40   \n",
       "\n",
       "   BESTASKPRICE  BESTASKSIZE  BESTBIDPRICE  BESTBIDSIZE  HIGHPX  ...  \\\n",
       "0             0            0             0            0     NaN  ...   \n",
       "1             0            0             0            0    39.2  ...   \n",
       "2             0            0             0            0    64.9  ...   \n",
       "3             0            0             0            0    96.0  ...   \n",
       "4             0            0             0            0    64.0  ...   \n",
       "\n",
       "   CLOSINGPRICE  TOTALTURNOVER  BOOKDEFINITIONID INFO1  INFO2  SECURITYSTATUS  \\\n",
       "0           NaN            NaN          CROSSING   NaN    NaN             NaN   \n",
       "1          38.9      3175073.2           REGULAR   NaN    NaN             NaN   \n",
       "2          63.9      1906369.4           REGULAR   NaN    NaN             NaN   \n",
       "3          94.4     16281643.2           REGULAR   NaN    NaN             NaN   \n",
       "4          63.0      1218961.0           REGULAR   NaN    NaN             NaN   \n",
       "\n",
       "   TRADEDATE  EXCHANGEID     UNIX_TS     VWAP  \n",
       "0 2024-02-07         CSE  1707264000      NaN  \n",
       "1 2024-02-07         CSE  1707264000  38.6751  \n",
       "2 2024-02-07         CSE  1707264000  63.9979  \n",
       "3 2024-02-07         CSE  1707264000  95.4096  \n",
       "4 2024-02-07         CSE  1707264000  63.3753  \n",
       "\n",
       "[5 rows x 27 columns]"
      ]
     },
     "execution_count": 3,
     "metadata": {},
     "output_type": "execute_result"
    }
   ],
   "source": [
    "sl20.head()"
   ]
  },
  {
   "cell_type": "code",
   "execution_count": 4,
   "metadata": {},
   "outputs": [
    {
     "data": {
      "text/html": [
       "<div>\n",
       "<style scoped>\n",
       "    .dataframe tbody tr th:only-of-type {\n",
       "        vertical-align: middle;\n",
       "    }\n",
       "\n",
       "    .dataframe tbody tr th {\n",
       "        vertical-align: top;\n",
       "    }\n",
       "\n",
       "    .dataframe thead th {\n",
       "        text-align: right;\n",
       "    }\n",
       "</style>\n",
       "<table border=\"1\" class=\"dataframe\">\n",
       "  <thead>\n",
       "    <tr style=\"text-align: right;\">\n",
       "      <th></th>\n",
       "      <th>SECURITYCODE</th>\n",
       "      <th>OPENINGPRICE</th>\n",
       "      <th>HIGHPX</th>\n",
       "      <th>LOWPX</th>\n",
       "      <th>CLOSINGPRICE</th>\n",
       "      <th>TRADEDATE</th>\n",
       "      <th>UNIX_TS</th>\n",
       "    </tr>\n",
       "  </thead>\n",
       "  <tbody>\n",
       "    <tr>\n",
       "      <th>1</th>\n",
       "      <td>VONE.N0000</td>\n",
       "      <td>38.5</td>\n",
       "      <td>39.2</td>\n",
       "      <td>38.4</td>\n",
       "      <td>39.2</td>\n",
       "      <td>2024-02-07</td>\n",
       "      <td>1707264000</td>\n",
       "    </tr>\n",
       "    <tr>\n",
       "      <th>2</th>\n",
       "      <td>NDB.N0000</td>\n",
       "      <td>64.9</td>\n",
       "      <td>64.9</td>\n",
       "      <td>63.9</td>\n",
       "      <td>63.9</td>\n",
       "      <td>2024-02-07</td>\n",
       "      <td>1707264000</td>\n",
       "    </tr>\n",
       "    <tr>\n",
       "      <th>3</th>\n",
       "      <td>LLUB.N0000</td>\n",
       "      <td>95.0</td>\n",
       "      <td>96.0</td>\n",
       "      <td>92.1</td>\n",
       "      <td>95.9</td>\n",
       "      <td>2024-02-07</td>\n",
       "      <td>1707264000</td>\n",
       "    </tr>\n",
       "    <tr>\n",
       "      <th>4</th>\n",
       "      <td>CIC.N0000</td>\n",
       "      <td>64.0</td>\n",
       "      <td>64.0</td>\n",
       "      <td>63.0</td>\n",
       "      <td>63.0</td>\n",
       "      <td>2024-02-07</td>\n",
       "      <td>1707264000</td>\n",
       "    </tr>\n",
       "    <tr>\n",
       "      <th>5</th>\n",
       "      <td>COMB.N0000</td>\n",
       "      <td>88.0</td>\n",
       "      <td>89.0</td>\n",
       "      <td>88.0</td>\n",
       "      <td>89.0</td>\n",
       "      <td>2024-02-07</td>\n",
       "      <td>1707264000</td>\n",
       "    </tr>\n",
       "  </tbody>\n",
       "</table>\n",
       "</div>"
      ],
      "text/plain": [
       "  SECURITYCODE  OPENINGPRICE  HIGHPX  LOWPX  CLOSINGPRICE  TRADEDATE  \\\n",
       "1   VONE.N0000          38.5    39.2   38.4          39.2 2024-02-07   \n",
       "2    NDB.N0000          64.9    64.9   63.9          63.9 2024-02-07   \n",
       "3   LLUB.N0000          95.0    96.0   92.1          95.9 2024-02-07   \n",
       "4    CIC.N0000          64.0    64.0   63.0          63.0 2024-02-07   \n",
       "5   COMB.N0000          88.0    89.0   88.0          89.0 2024-02-07   \n",
       "\n",
       "      UNIX_TS  \n",
       "1  1707264000  \n",
       "2  1707264000  \n",
       "3  1707264000  \n",
       "4  1707264000  \n",
       "5  1707264000  "
      ]
     },
     "execution_count": 4,
     "metadata": {},
     "output_type": "execute_result"
    }
   ],
   "source": [
    "sl20_fil = sl20[['SECURITYCODE','OPENINGPRICE','HIGHPX','LOWPX','LASTTRADEPRICE', 'TRADEDATE','UNIX_TS']].copy()\n",
    "sl20_fil = sl20_fil.dropna(how = 'any')\n",
    "sl20_fil = sl20_fil.rename({'LASTTRADEPRICE':'CLOSINGPRICE'}, axis = 1)\n",
    "sl20_fil.head()"
   ]
  },
  {
   "cell_type": "code",
   "execution_count": 5,
   "metadata": {},
   "outputs": [
    {
     "data": {
      "text/plain": [
       "(8922, 7)"
      ]
     },
     "execution_count": 5,
     "metadata": {},
     "output_type": "execute_result"
    }
   ],
   "source": [
    "sl20_fil.shape"
   ]
  },
  {
   "cell_type": "code",
   "execution_count": 7,
   "metadata": {},
   "outputs": [
    {
     "data": {
      "text/html": [
       "<div>\n",
       "<style scoped>\n",
       "    .dataframe tbody tr th:only-of-type {\n",
       "        vertical-align: middle;\n",
       "    }\n",
       "\n",
       "    .dataframe tbody tr th {\n",
       "        vertical-align: top;\n",
       "    }\n",
       "\n",
       "    .dataframe thead th {\n",
       "        text-align: right;\n",
       "    }\n",
       "</style>\n",
       "<table border=\"1\" class=\"dataframe\">\n",
       "  <thead>\n",
       "    <tr style=\"text-align: right;\">\n",
       "      <th></th>\n",
       "      <th>SECURITYCODE</th>\n",
       "      <th>OPENINGPRICE</th>\n",
       "      <th>HIGHPX</th>\n",
       "      <th>LOWPX</th>\n",
       "      <th>CLOSINGPRICE</th>\n",
       "      <th>TRADEDATE</th>\n",
       "      <th>UNIX_TS</th>\n",
       "    </tr>\n",
       "  </thead>\n",
       "  <tbody>\n",
       "    <tr>\n",
       "      <th>1</th>\n",
       "      <td>VONE</td>\n",
       "      <td>38.5</td>\n",
       "      <td>39.2</td>\n",
       "      <td>38.4</td>\n",
       "      <td>39.2</td>\n",
       "      <td>2024-02-07</td>\n",
       "      <td>1707264000</td>\n",
       "    </tr>\n",
       "    <tr>\n",
       "      <th>2</th>\n",
       "      <td>NDB</td>\n",
       "      <td>64.9</td>\n",
       "      <td>64.9</td>\n",
       "      <td>63.9</td>\n",
       "      <td>63.9</td>\n",
       "      <td>2024-02-07</td>\n",
       "      <td>1707264000</td>\n",
       "    </tr>\n",
       "    <tr>\n",
       "      <th>3</th>\n",
       "      <td>LLUB</td>\n",
       "      <td>95.0</td>\n",
       "      <td>96.0</td>\n",
       "      <td>92.1</td>\n",
       "      <td>95.9</td>\n",
       "      <td>2024-02-07</td>\n",
       "      <td>1707264000</td>\n",
       "    </tr>\n",
       "    <tr>\n",
       "      <th>4</th>\n",
       "      <td>CIC</td>\n",
       "      <td>64.0</td>\n",
       "      <td>64.0</td>\n",
       "      <td>63.0</td>\n",
       "      <td>63.0</td>\n",
       "      <td>2024-02-07</td>\n",
       "      <td>1707264000</td>\n",
       "    </tr>\n",
       "    <tr>\n",
       "      <th>5</th>\n",
       "      <td>COMB</td>\n",
       "      <td>88.0</td>\n",
       "      <td>89.0</td>\n",
       "      <td>88.0</td>\n",
       "      <td>89.0</td>\n",
       "      <td>2024-02-07</td>\n",
       "      <td>1707264000</td>\n",
       "    </tr>\n",
       "  </tbody>\n",
       "</table>\n",
       "</div>"
      ],
      "text/plain": [
       "  SECURITYCODE  OPENINGPRICE  HIGHPX  LOWPX  CLOSINGPRICE  TRADEDATE  \\\n",
       "1         VONE          38.5    39.2   38.4          39.2 2024-02-07   \n",
       "2          NDB          64.9    64.9   63.9          63.9 2024-02-07   \n",
       "3         LLUB          95.0    96.0   92.1          95.9 2024-02-07   \n",
       "4          CIC          64.0    64.0   63.0          63.0 2024-02-07   \n",
       "5         COMB          88.0    89.0   88.0          89.0 2024-02-07   \n",
       "\n",
       "      UNIX_TS  \n",
       "1  1707264000  \n",
       "2  1707264000  \n",
       "3  1707264000  \n",
       "4  1707264000  \n",
       "5  1707264000  "
      ]
     },
     "execution_count": 7,
     "metadata": {},
     "output_type": "execute_result"
    }
   ],
   "source": [
    "def split_(stock_name):\n",
    "    return stock_name.split('.')[0]\n",
    "sl20_fil['SECURITYCODE'] = sl20_fil['SECURITYCODE'].apply(lambda x : split_(x))\n",
    "\n",
    "sl20_fil.head()"
   ]
  },
  {
   "cell_type": "code",
   "execution_count": 9,
   "metadata": {},
   "outputs": [
    {
     "name": "stderr",
     "output_type": "stream",
     "text": [
      "c:\\Users\\bpadmin\\anaconda3\\envs\\tf_tr_recommender\\lib\\site-packages\\openpyxl\\styles\\stylesheet.py:226: UserWarning: Workbook contains no default style, apply openpyxl's default\n",
      "  warn(\"Workbook contains no default style, apply openpyxl's default\")\n"
     ]
    },
    {
     "data": {
      "text/html": [
       "<div>\n",
       "<style scoped>\n",
       "    .dataframe tbody tr th:only-of-type {\n",
       "        vertical-align: middle;\n",
       "    }\n",
       "\n",
       "    .dataframe tbody tr th {\n",
       "        vertical-align: top;\n",
       "    }\n",
       "\n",
       "    .dataframe thead th {\n",
       "        text-align: right;\n",
       "    }\n",
       "</style>\n",
       "<table border=\"1\" class=\"dataframe\">\n",
       "  <thead>\n",
       "    <tr style=\"text-align: right;\">\n",
       "      <th></th>\n",
       "      <th>WATCHID</th>\n",
       "      <th>SECURITYCODE</th>\n",
       "      <th>PREVIOUSDAYVWAP</th>\n",
       "      <th>LASTTRADEPRICE</th>\n",
       "      <th>LASTUPDATEDTIME</th>\n",
       "      <th>BESTASKPRICE</th>\n",
       "      <th>BESTASKSIZE</th>\n",
       "      <th>BESTBIDPRICE</th>\n",
       "      <th>BESTBIDSIZE</th>\n",
       "      <th>HIGHPX</th>\n",
       "      <th>...</th>\n",
       "      <th>CLOSINGPRICE</th>\n",
       "      <th>TOTALTURNOVER</th>\n",
       "      <th>BOOKDEFINITIONID</th>\n",
       "      <th>INFO1</th>\n",
       "      <th>INFO2</th>\n",
       "      <th>SECURITYSTATUS</th>\n",
       "      <th>TRADEDATE</th>\n",
       "      <th>EXCHANGEID</th>\n",
       "      <th>UNIX_TS</th>\n",
       "      <th>VWAP</th>\n",
       "    </tr>\n",
       "  </thead>\n",
       "  <tbody>\n",
       "    <tr>\n",
       "      <th>0</th>\n",
       "      <td>80959568</td>\n",
       "      <td>EXT.N0000</td>\n",
       "      <td>7.5</td>\n",
       "      <td>7.6</td>\n",
       "      <td>2024-02-26 14:47:54</td>\n",
       "      <td>0</td>\n",
       "      <td>0</td>\n",
       "      <td>0</td>\n",
       "      <td>0</td>\n",
       "      <td>7.6</td>\n",
       "      <td>...</td>\n",
       "      <td>7.6</td>\n",
       "      <td>2280.0</td>\n",
       "      <td>REGULAR</td>\n",
       "      <td>NaN</td>\n",
       "      <td>NaN</td>\n",
       "      <td>NaN</td>\n",
       "      <td>2024-02-26</td>\n",
       "      <td>CSE</td>\n",
       "      <td>1708905600</td>\n",
       "      <td>7.6000</td>\n",
       "    </tr>\n",
       "    <tr>\n",
       "      <th>1</th>\n",
       "      <td>80959558</td>\n",
       "      <td>MDL.N0000</td>\n",
       "      <td>8.6</td>\n",
       "      <td>8.1</td>\n",
       "      <td>2024-02-26 14:47:53</td>\n",
       "      <td>0</td>\n",
       "      <td>0</td>\n",
       "      <td>0</td>\n",
       "      <td>0</td>\n",
       "      <td>8.1</td>\n",
       "      <td>...</td>\n",
       "      <td>8.6</td>\n",
       "      <td>243.0</td>\n",
       "      <td>REGULAR</td>\n",
       "      <td>NaN</td>\n",
       "      <td>NaN</td>\n",
       "      <td>NaN</td>\n",
       "      <td>2024-02-26</td>\n",
       "      <td>CSE</td>\n",
       "      <td>1708905600</td>\n",
       "      <td>8.1000</td>\n",
       "    </tr>\n",
       "    <tr>\n",
       "      <th>2</th>\n",
       "      <td>80959550</td>\n",
       "      <td>SDF.N0000</td>\n",
       "      <td>12.4</td>\n",
       "      <td>12.5</td>\n",
       "      <td>2024-02-26 14:47:53</td>\n",
       "      <td>0</td>\n",
       "      <td>0</td>\n",
       "      <td>0</td>\n",
       "      <td>0</td>\n",
       "      <td>12.5</td>\n",
       "      <td>...</td>\n",
       "      <td>12.5</td>\n",
       "      <td>53227.5</td>\n",
       "      <td>REGULAR</td>\n",
       "      <td>NaN</td>\n",
       "      <td>NaN</td>\n",
       "      <td>NaN</td>\n",
       "      <td>2024-02-26</td>\n",
       "      <td>CSE</td>\n",
       "      <td>1708905600</td>\n",
       "      <td>12.4859</td>\n",
       "    </tr>\n",
       "    <tr>\n",
       "      <th>3</th>\n",
       "      <td>80959562</td>\n",
       "      <td>COOP.N0000</td>\n",
       "      <td>2.2</td>\n",
       "      <td>2.1</td>\n",
       "      <td>2024-02-26 14:47:53</td>\n",
       "      <td>0</td>\n",
       "      <td>0</td>\n",
       "      <td>0</td>\n",
       "      <td>0</td>\n",
       "      <td>2.3</td>\n",
       "      <td>...</td>\n",
       "      <td>2.2</td>\n",
       "      <td>2349412.5</td>\n",
       "      <td>REGULAR</td>\n",
       "      <td>NaN</td>\n",
       "      <td>NaN</td>\n",
       "      <td>NaN</td>\n",
       "      <td>2024-02-26</td>\n",
       "      <td>CSE</td>\n",
       "      <td>1708905600</td>\n",
       "      <td>2.1045</td>\n",
       "    </tr>\n",
       "    <tr>\n",
       "      <th>4</th>\n",
       "      <td>80959548</td>\n",
       "      <td>LCBF.N0000</td>\n",
       "      <td>1.7</td>\n",
       "      <td>1.8</td>\n",
       "      <td>2024-02-26 14:47:53</td>\n",
       "      <td>0</td>\n",
       "      <td>0</td>\n",
       "      <td>0</td>\n",
       "      <td>0</td>\n",
       "      <td>1.8</td>\n",
       "      <td>...</td>\n",
       "      <td>1.8</td>\n",
       "      <td>18595.8</td>\n",
       "      <td>REGULAR</td>\n",
       "      <td>NaN</td>\n",
       "      <td>NaN</td>\n",
       "      <td>NaN</td>\n",
       "      <td>2024-02-26</td>\n",
       "      <td>CSE</td>\n",
       "      <td>1708905600</td>\n",
       "      <td>1.8000</td>\n",
       "    </tr>\n",
       "  </tbody>\n",
       "</table>\n",
       "<p>5 rows × 27 columns</p>\n",
       "</div>"
      ],
      "text/plain": [
       "    WATCHID SECURITYCODE  PREVIOUSDAYVWAP  LASTTRADEPRICE     LASTUPDATEDTIME  \\\n",
       "0  80959568    EXT.N0000              7.5             7.6 2024-02-26 14:47:54   \n",
       "1  80959558    MDL.N0000              8.6             8.1 2024-02-26 14:47:53   \n",
       "2  80959550    SDF.N0000             12.4            12.5 2024-02-26 14:47:53   \n",
       "3  80959562   COOP.N0000              2.2             2.1 2024-02-26 14:47:53   \n",
       "4  80959548   LCBF.N0000              1.7             1.8 2024-02-26 14:47:53   \n",
       "\n",
       "   BESTASKPRICE  BESTASKSIZE  BESTBIDPRICE  BESTBIDSIZE  HIGHPX  ...  \\\n",
       "0             0            0             0            0     7.6  ...   \n",
       "1             0            0             0            0     8.1  ...   \n",
       "2             0            0             0            0    12.5  ...   \n",
       "3             0            0             0            0     2.3  ...   \n",
       "4             0            0             0            0     1.8  ...   \n",
       "\n",
       "   CLOSINGPRICE  TOTALTURNOVER  BOOKDEFINITIONID INFO1  INFO2  SECURITYSTATUS  \\\n",
       "0           7.6         2280.0           REGULAR   NaN    NaN             NaN   \n",
       "1           8.6          243.0           REGULAR   NaN    NaN             NaN   \n",
       "2          12.5        53227.5           REGULAR   NaN    NaN             NaN   \n",
       "3           2.2      2349412.5           REGULAR   NaN    NaN             NaN   \n",
       "4           1.8        18595.8           REGULAR   NaN    NaN             NaN   \n",
       "\n",
       "   TRADEDATE  EXCHANGEID     UNIX_TS     VWAP  \n",
       "0 2024-02-26         CSE  1708905600   7.6000  \n",
       "1 2024-02-26         CSE  1708905600   8.1000  \n",
       "2 2024-02-26         CSE  1708905600  12.4859  \n",
       "3 2024-02-26         CSE  1708905600   2.1045  \n",
       "4 2024-02-26         CSE  1708905600   1.8000  \n",
       "\n",
       "[5 rows x 27 columns]"
      ]
     },
     "execution_count": 9,
     "metadata": {},
     "output_type": "execute_result"
    }
   ],
   "source": [
    "new_symbols = pd.read_excel('../../data/phase_2_price_data.xlsx')\n",
    "new_symbols.head()"
   ]
  },
  {
   "cell_type": "code",
   "execution_count": 10,
   "metadata": {},
   "outputs": [
    {
     "data": {
      "text/plain": [
       "(65491, 27)"
      ]
     },
     "execution_count": 10,
     "metadata": {},
     "output_type": "execute_result"
    }
   ],
   "source": [
    "new_symbols.shape"
   ]
  },
  {
   "cell_type": "code",
   "execution_count": 11,
   "metadata": {},
   "outputs": [
    {
     "data": {
      "text/html": [
       "<div>\n",
       "<style scoped>\n",
       "    .dataframe tbody tr th:only-of-type {\n",
       "        vertical-align: middle;\n",
       "    }\n",
       "\n",
       "    .dataframe tbody tr th {\n",
       "        vertical-align: top;\n",
       "    }\n",
       "\n",
       "    .dataframe thead th {\n",
       "        text-align: right;\n",
       "    }\n",
       "</style>\n",
       "<table border=\"1\" class=\"dataframe\">\n",
       "  <thead>\n",
       "    <tr style=\"text-align: right;\">\n",
       "      <th></th>\n",
       "      <th>SECURITYCODE</th>\n",
       "      <th>OPENINGPRICE</th>\n",
       "      <th>HIGHPX</th>\n",
       "      <th>LOWPX</th>\n",
       "      <th>CLOSINGPRICE</th>\n",
       "      <th>TRADEDATE</th>\n",
       "      <th>UNIX_TS</th>\n",
       "    </tr>\n",
       "  </thead>\n",
       "  <tbody>\n",
       "    <tr>\n",
       "      <th>0</th>\n",
       "      <td>EXT.N0000</td>\n",
       "      <td>7.6</td>\n",
       "      <td>7.6</td>\n",
       "      <td>7.6</td>\n",
       "      <td>7.6</td>\n",
       "      <td>2024-02-26</td>\n",
       "      <td>1708905600</td>\n",
       "    </tr>\n",
       "    <tr>\n",
       "      <th>1</th>\n",
       "      <td>MDL.N0000</td>\n",
       "      <td>8.1</td>\n",
       "      <td>8.1</td>\n",
       "      <td>8.1</td>\n",
       "      <td>8.1</td>\n",
       "      <td>2024-02-26</td>\n",
       "      <td>1708905600</td>\n",
       "    </tr>\n",
       "    <tr>\n",
       "      <th>2</th>\n",
       "      <td>SDF.N0000</td>\n",
       "      <td>12.4</td>\n",
       "      <td>12.5</td>\n",
       "      <td>12.4</td>\n",
       "      <td>12.5</td>\n",
       "      <td>2024-02-26</td>\n",
       "      <td>1708905600</td>\n",
       "    </tr>\n",
       "    <tr>\n",
       "      <th>3</th>\n",
       "      <td>COOP.N0000</td>\n",
       "      <td>2.2</td>\n",
       "      <td>2.3</td>\n",
       "      <td>2.1</td>\n",
       "      <td>2.1</td>\n",
       "      <td>2024-02-26</td>\n",
       "      <td>1708905600</td>\n",
       "    </tr>\n",
       "    <tr>\n",
       "      <th>4</th>\n",
       "      <td>LCBF.N0000</td>\n",
       "      <td>1.8</td>\n",
       "      <td>1.8</td>\n",
       "      <td>1.8</td>\n",
       "      <td>1.8</td>\n",
       "      <td>2024-02-26</td>\n",
       "      <td>1708905600</td>\n",
       "    </tr>\n",
       "  </tbody>\n",
       "</table>\n",
       "</div>"
      ],
      "text/plain": [
       "  SECURITYCODE  OPENINGPRICE  HIGHPX  LOWPX  CLOSINGPRICE  TRADEDATE  \\\n",
       "0    EXT.N0000           7.6     7.6    7.6           7.6 2024-02-26   \n",
       "1    MDL.N0000           8.1     8.1    8.1           8.1 2024-02-26   \n",
       "2    SDF.N0000          12.4    12.5   12.4          12.5 2024-02-26   \n",
       "3   COOP.N0000           2.2     2.3    2.1           2.1 2024-02-26   \n",
       "4   LCBF.N0000           1.8     1.8    1.8           1.8 2024-02-26   \n",
       "\n",
       "      UNIX_TS  \n",
       "0  1708905600  \n",
       "1  1708905600  \n",
       "2  1708905600  \n",
       "3  1708905600  \n",
       "4  1708905600  "
      ]
     },
     "execution_count": 11,
     "metadata": {},
     "output_type": "execute_result"
    }
   ],
   "source": [
    "new_symbols_fil = new_symbols[['SECURITYCODE','OPENINGPRICE','HIGHPX','LOWPX','LASTTRADEPRICE', 'TRADEDATE','UNIX_TS']].copy()\n",
    "new_symbols_fil = new_symbols_fil.dropna(how = 'any')\n",
    "new_symbols_fil = new_symbols_fil.rename({'LASTTRADEPRICE':'CLOSINGPRICE'}, axis = 1)\n",
    "new_symbols_fil.head()"
   ]
  },
  {
   "cell_type": "code",
   "execution_count": 12,
   "metadata": {},
   "outputs": [
    {
     "data": {
      "text/html": [
       "<div>\n",
       "<style scoped>\n",
       "    .dataframe tbody tr th:only-of-type {\n",
       "        vertical-align: middle;\n",
       "    }\n",
       "\n",
       "    .dataframe tbody tr th {\n",
       "        vertical-align: top;\n",
       "    }\n",
       "\n",
       "    .dataframe thead th {\n",
       "        text-align: right;\n",
       "    }\n",
       "</style>\n",
       "<table border=\"1\" class=\"dataframe\">\n",
       "  <thead>\n",
       "    <tr style=\"text-align: right;\">\n",
       "      <th></th>\n",
       "      <th>SECURITYCODE</th>\n",
       "      <th>OPENINGPRICE</th>\n",
       "      <th>HIGHPX</th>\n",
       "      <th>LOWPX</th>\n",
       "      <th>CLOSINGPRICE</th>\n",
       "      <th>TRADEDATE</th>\n",
       "      <th>UNIX_TS</th>\n",
       "    </tr>\n",
       "  </thead>\n",
       "  <tbody>\n",
       "    <tr>\n",
       "      <th>0</th>\n",
       "      <td>EXT</td>\n",
       "      <td>7.6</td>\n",
       "      <td>7.6</td>\n",
       "      <td>7.6</td>\n",
       "      <td>7.6</td>\n",
       "      <td>2024-02-26</td>\n",
       "      <td>1708905600</td>\n",
       "    </tr>\n",
       "    <tr>\n",
       "      <th>1</th>\n",
       "      <td>MDL</td>\n",
       "      <td>8.1</td>\n",
       "      <td>8.1</td>\n",
       "      <td>8.1</td>\n",
       "      <td>8.1</td>\n",
       "      <td>2024-02-26</td>\n",
       "      <td>1708905600</td>\n",
       "    </tr>\n",
       "    <tr>\n",
       "      <th>2</th>\n",
       "      <td>SDF</td>\n",
       "      <td>12.4</td>\n",
       "      <td>12.5</td>\n",
       "      <td>12.4</td>\n",
       "      <td>12.5</td>\n",
       "      <td>2024-02-26</td>\n",
       "      <td>1708905600</td>\n",
       "    </tr>\n",
       "    <tr>\n",
       "      <th>3</th>\n",
       "      <td>COOP</td>\n",
       "      <td>2.2</td>\n",
       "      <td>2.3</td>\n",
       "      <td>2.1</td>\n",
       "      <td>2.1</td>\n",
       "      <td>2024-02-26</td>\n",
       "      <td>1708905600</td>\n",
       "    </tr>\n",
       "    <tr>\n",
       "      <th>4</th>\n",
       "      <td>LCBF</td>\n",
       "      <td>1.8</td>\n",
       "      <td>1.8</td>\n",
       "      <td>1.8</td>\n",
       "      <td>1.8</td>\n",
       "      <td>2024-02-26</td>\n",
       "      <td>1708905600</td>\n",
       "    </tr>\n",
       "  </tbody>\n",
       "</table>\n",
       "</div>"
      ],
      "text/plain": [
       "  SECURITYCODE  OPENINGPRICE  HIGHPX  LOWPX  CLOSINGPRICE  TRADEDATE  \\\n",
       "0          EXT           7.6     7.6    7.6           7.6 2024-02-26   \n",
       "1          MDL           8.1     8.1    8.1           8.1 2024-02-26   \n",
       "2          SDF          12.4    12.5   12.4          12.5 2024-02-26   \n",
       "3         COOP           2.2     2.3    2.1           2.1 2024-02-26   \n",
       "4         LCBF           1.8     1.8    1.8           1.8 2024-02-26   \n",
       "\n",
       "      UNIX_TS  \n",
       "0  1708905600  \n",
       "1  1708905600  \n",
       "2  1708905600  \n",
       "3  1708905600  \n",
       "4  1708905600  "
      ]
     },
     "execution_count": 12,
     "metadata": {},
     "output_type": "execute_result"
    }
   ],
   "source": [
    "def split_(stock_name):\n",
    "    return stock_name.split('.')[0]\n",
    "\n",
    "new_symbols_fil['SECURITYCODE'] = new_symbols_fil['SECURITYCODE'].apply(lambda x : split_(x))\n",
    "\n",
    "new_symbols_fil.head()"
   ]
  },
  {
   "cell_type": "code",
   "execution_count": 14,
   "metadata": {},
   "outputs": [
    {
     "data": {
      "text/plain": [
       "(68, 19)"
      ]
     },
     "execution_count": 14,
     "metadata": {},
     "output_type": "execute_result"
    }
   ],
   "source": [
    "new_symbols_fil_symbols = set(list(new_symbols_fil.SECURITYCODE.unique()))\n",
    "sl20_fil_symbols = set(list(sl20_fil.SECURITYCODE.unique()))\n",
    "\n",
    "len(new_symbols_fil_symbols), len(sl20_fil_symbols) ,len(new_symbols_fil_symbols - sl20_fil_symbols)"
   ]
  },
  {
   "cell_type": "code",
   "execution_count": 18,
   "metadata": {},
   "outputs": [
    {
     "data": {
      "text/plain": [
       "((26257, 7), (29145, 7))"
      ]
     },
     "execution_count": 18,
     "metadata": {},
     "output_type": "execute_result"
    }
   ],
   "source": [
    "only_new_symbols = list(new_symbols_fil_symbols - sl20_fil_symbols)\n",
    "only_new_symbols_fil = new_symbols_fil[new_symbols_fil.SECURITYCODE.isin(only_new_symbols)]\n",
    "only_new_symbols_fil.shape, new_symbols_fil.shape"
   ]
  },
  {
   "cell_type": "code",
   "execution_count": 19,
   "metadata": {},
   "outputs": [
    {
     "data": {
      "text/html": [
       "<div>\n",
       "<style scoped>\n",
       "    .dataframe tbody tr th:only-of-type {\n",
       "        vertical-align: middle;\n",
       "    }\n",
       "\n",
       "    .dataframe tbody tr th {\n",
       "        vertical-align: top;\n",
       "    }\n",
       "\n",
       "    .dataframe thead th {\n",
       "        text-align: right;\n",
       "    }\n",
       "</style>\n",
       "<table border=\"1\" class=\"dataframe\">\n",
       "  <thead>\n",
       "    <tr style=\"text-align: right;\">\n",
       "      <th></th>\n",
       "      <th>SECURITYCODE</th>\n",
       "      <th>OPENINGPRICE</th>\n",
       "      <th>HIGHPX</th>\n",
       "      <th>LOWPX</th>\n",
       "      <th>CLOSINGPRICE</th>\n",
       "      <th>TRADEDATE</th>\n",
       "      <th>UNIX_TS</th>\n",
       "    </tr>\n",
       "  </thead>\n",
       "  <tbody>\n",
       "    <tr>\n",
       "      <th>0</th>\n",
       "      <td>EXT</td>\n",
       "      <td>7.6</td>\n",
       "      <td>7.6</td>\n",
       "      <td>7.6</td>\n",
       "      <td>7.6</td>\n",
       "      <td>2024-02-26</td>\n",
       "      <td>1708905600</td>\n",
       "    </tr>\n",
       "    <tr>\n",
       "      <th>1</th>\n",
       "      <td>MDL</td>\n",
       "      <td>8.1</td>\n",
       "      <td>8.1</td>\n",
       "      <td>8.1</td>\n",
       "      <td>8.1</td>\n",
       "      <td>2024-02-26</td>\n",
       "      <td>1708905600</td>\n",
       "    </tr>\n",
       "    <tr>\n",
       "      <th>2</th>\n",
       "      <td>SDF</td>\n",
       "      <td>12.4</td>\n",
       "      <td>12.5</td>\n",
       "      <td>12.4</td>\n",
       "      <td>12.5</td>\n",
       "      <td>2024-02-26</td>\n",
       "      <td>1708905600</td>\n",
       "    </tr>\n",
       "    <tr>\n",
       "      <th>3</th>\n",
       "      <td>COOP</td>\n",
       "      <td>2.2</td>\n",
       "      <td>2.3</td>\n",
       "      <td>2.1</td>\n",
       "      <td>2.1</td>\n",
       "      <td>2024-02-26</td>\n",
       "      <td>1708905600</td>\n",
       "    </tr>\n",
       "    <tr>\n",
       "      <th>4</th>\n",
       "      <td>LCBF</td>\n",
       "      <td>1.8</td>\n",
       "      <td>1.8</td>\n",
       "      <td>1.8</td>\n",
       "      <td>1.8</td>\n",
       "      <td>2024-02-26</td>\n",
       "      <td>1708905600</td>\n",
       "    </tr>\n",
       "  </tbody>\n",
       "</table>\n",
       "</div>"
      ],
      "text/plain": [
       "  SECURITYCODE  OPENINGPRICE  HIGHPX  LOWPX  CLOSINGPRICE  TRADEDATE  \\\n",
       "0          EXT           7.6     7.6    7.6           7.6 2024-02-26   \n",
       "1          MDL           8.1     8.1    8.1           8.1 2024-02-26   \n",
       "2          SDF          12.4    12.5   12.4          12.5 2024-02-26   \n",
       "3         COOP           2.2     2.3    2.1           2.1 2024-02-26   \n",
       "4         LCBF           1.8     1.8    1.8           1.8 2024-02-26   \n",
       "\n",
       "      UNIX_TS  \n",
       "0  1708905600  \n",
       "1  1708905600  \n",
       "2  1708905600  \n",
       "3  1708905600  \n",
       "4  1708905600  "
      ]
     },
     "execution_count": 19,
     "metadata": {},
     "output_type": "execute_result"
    }
   ],
   "source": [
    "all_price = pd.concat([only_new_symbols_fil, sl20_fil], ignore_index = True)\n",
    "all_price.head()"
   ]
  },
  {
   "cell_type": "code",
   "execution_count": 22,
   "metadata": {},
   "outputs": [
    {
     "data": {
      "text/plain": [
       "(35179, (35179, 7))"
      ]
     },
     "execution_count": 22,
     "metadata": {},
     "output_type": "execute_result"
    }
   ],
   "source": [
    "only_new_symbols_fil.shape[0] + sl20_fil.shape[0], all_price.shape"
   ]
  },
  {
   "cell_type": "code",
   "execution_count": 23,
   "metadata": {},
   "outputs": [],
   "source": [
    "sl20_fil_td = sl20_fil.TRADEDATE.max()\n",
    "all_price_fil = all_price[all_price.TRADEDATE <= sl20_fil_td]"
   ]
  },
  {
   "cell_type": "code",
   "execution_count": 24,
   "metadata": {},
   "outputs": [
    {
     "data": {
      "text/plain": [
       "(34554, 7)"
      ]
     },
     "execution_count": 24,
     "metadata": {},
     "output_type": "execute_result"
    }
   ],
   "source": [
    "all_price_fil.shape"
   ]
  },
  {
   "cell_type": "code",
   "execution_count": 26,
   "metadata": {},
   "outputs": [
    {
     "data": {
      "text/plain": [
       "(Timestamp('2022-02-08 00:00:00'), Timestamp('2024-02-07 00:00:00'))"
      ]
     },
     "execution_count": 26,
     "metadata": {},
     "output_type": "execute_result"
    }
   ],
   "source": [
    "all_price_fil.TRADEDATE.min(), all_price_fil.TRADEDATE.max()"
   ]
  },
  {
   "cell_type": "code",
   "execution_count": 58,
   "metadata": {},
   "outputs": [
    {
     "data": {
      "text/plain": [
       "81"
      ]
     },
     "execution_count": 58,
     "metadata": {},
     "output_type": "execute_result"
    }
   ],
   "source": [
    "all_price_fil.SECURITYCODE.nunique()"
   ]
  },
  {
   "cell_type": "code",
   "execution_count": 30,
   "metadata": {},
   "outputs": [
    {
     "data": {
      "text/plain": [
       "SINI    336\n",
       "PHAR    325\n",
       "CINS    298\n",
       "CTHR    297\n",
       "NEST    284\n",
       "LPRT    268\n",
       "LAMB    240\n",
       "SING    190\n",
       "CPRT    106\n",
       "SWAD     31\n",
       "Name: SECURITYCODE, dtype: int64"
      ]
     },
     "execution_count": 30,
     "metadata": {},
     "output_type": "execute_result"
    }
   ],
   "source": [
    "all_price_fil.SECURITYCODE.value_counts()[-10:]"
   ]
  },
  {
   "cell_type": "code",
   "execution_count": 60,
   "metadata": {},
   "outputs": [
    {
     "data": {
      "text/plain": [
       "261"
      ]
     },
     "execution_count": 60,
     "metadata": {},
     "output_type": "execute_result"
    }
   ],
   "source": [
    "end = all_price_fil.TRADEDATE.max().to_pydatetime()\n",
    "end = end.date()\n",
    "start = (end - timedelta(days = 365))\n",
    "type(all_price_fil.TRADEDATE.max())\n",
    "\n",
    "day_count = np.busday_count( start, end )\n",
    "day_count"
   ]
  },
  {
   "cell_type": "code",
   "execution_count": 69,
   "metadata": {},
   "outputs": [
    {
     "data": {
      "text/plain": [
       "AAIC     True\n",
       "LIOC     True\n",
       "PAP      True\n",
       "JKH      True\n",
       "HNB      True\n",
       "        ...  \n",
       "LPRT     True\n",
       "LAMB    False\n",
       "SING    False\n",
       "CPRT    False\n",
       "SWAD    False\n",
       "Name: SECURITYCODE, Length: 81, dtype: bool"
      ]
     },
     "execution_count": 69,
     "metadata": {},
     "output_type": "execute_result"
    }
   ],
   "source": [
    "(all_price_fil.SECURITYCODE.value_counts()>day_count)"
   ]
  },
  {
   "cell_type": "code",
   "execution_count": 70,
   "metadata": {},
   "outputs": [
    {
     "data": {
      "text/plain": [
       "77"
      ]
     },
     "execution_count": 70,
     "metadata": {},
     "output_type": "execute_result"
    }
   ],
   "source": [
    "day_count_symbols = all_price_fil.groupby('SECURITYCODE').filter(lambda x: len(x)>day_count)['SECURITYCODE'].unique()\n",
    "len(day_count_symbols)"
   ]
  },
  {
   "cell_type": "code",
   "execution_count": 59,
   "metadata": {},
   "outputs": [
    {
     "data": {
      "text/plain": [
       "75"
      ]
     },
     "execution_count": 59,
     "metadata": {},
     "output_type": "execute_result"
    }
   ],
   "source": [
    "last_date_symbols = all_price_fil.groupby('SECURITYCODE').filter(lambda x: x['TRADEDATE'].max() == all_price_fil.TRADEDATE.max())['SECURITYCODE'].unique()\n",
    "len(last_date_symbols)"
   ]
  },
  {
   "cell_type": "code",
   "execution_count": null,
   "metadata": {},
   "outputs": [],
   "source": [
    "# last_date_symbols = all_price_fil.groupby('SECURITYCODE').filter(lambda x: x['TRADEDATE'].max() == all_price_fil.TRADEDATE.max())\n"
   ]
  },
  {
   "cell_type": "code",
   "execution_count": 73,
   "metadata": {},
   "outputs": [
    {
     "data": {
      "text/plain": [
       "73"
      ]
     },
     "execution_count": 73,
     "metadata": {},
     "output_type": "execute_result"
    }
   ],
   "source": [
    "count_lday_symbols = list(set(day_count_symbols).intersection(set(last_date_symbols)))\n",
    "len(count_lday_symbols)"
   ]
  },
  {
   "cell_type": "code",
   "execution_count": 76,
   "metadata": {},
   "outputs": [
    {
     "data": {
      "text/html": [
       "<div>\n",
       "<style scoped>\n",
       "    .dataframe tbody tr th:only-of-type {\n",
       "        vertical-align: middle;\n",
       "    }\n",
       "\n",
       "    .dataframe tbody tr th {\n",
       "        vertical-align: top;\n",
       "    }\n",
       "\n",
       "    .dataframe thead th {\n",
       "        text-align: right;\n",
       "    }\n",
       "</style>\n",
       "<table border=\"1\" class=\"dataframe\">\n",
       "  <thead>\n",
       "    <tr style=\"text-align: right;\">\n",
       "      <th></th>\n",
       "      <th>SECURITYCODE</th>\n",
       "      <th>OPENINGPRICE</th>\n",
       "      <th>HIGHPX</th>\n",
       "      <th>LOWPX</th>\n",
       "      <th>CLOSINGPRICE</th>\n",
       "      <th>TRADEDATE</th>\n",
       "      <th>UNIX_TS</th>\n",
       "    </tr>\n",
       "  </thead>\n",
       "  <tbody>\n",
       "    <tr>\n",
       "      <th>0</th>\n",
       "      <td>EXT</td>\n",
       "      <td>7.3</td>\n",
       "      <td>7.5</td>\n",
       "      <td>7.3</td>\n",
       "      <td>7.5</td>\n",
       "      <td>2024-02-07</td>\n",
       "      <td>1707264000</td>\n",
       "    </tr>\n",
       "    <tr>\n",
       "      <th>1</th>\n",
       "      <td>COOP</td>\n",
       "      <td>2.3</td>\n",
       "      <td>2.3</td>\n",
       "      <td>2.2</td>\n",
       "      <td>2.2</td>\n",
       "      <td>2024-02-07</td>\n",
       "      <td>1707264000</td>\n",
       "    </tr>\n",
       "    <tr>\n",
       "      <th>2</th>\n",
       "      <td>MDL</td>\n",
       "      <td>8.3</td>\n",
       "      <td>8.6</td>\n",
       "      <td>8.3</td>\n",
       "      <td>8.6</td>\n",
       "      <td>2024-02-07</td>\n",
       "      <td>1707264000</td>\n",
       "    </tr>\n",
       "    <tr>\n",
       "      <th>3</th>\n",
       "      <td>FCT</td>\n",
       "      <td>24.9</td>\n",
       "      <td>26.4</td>\n",
       "      <td>24.8</td>\n",
       "      <td>26.2</td>\n",
       "      <td>2024-02-07</td>\n",
       "      <td>1707264000</td>\n",
       "    </tr>\n",
       "    <tr>\n",
       "      <th>4</th>\n",
       "      <td>HBS</td>\n",
       "      <td>11.5</td>\n",
       "      <td>11.6</td>\n",
       "      <td>11.5</td>\n",
       "      <td>11.5</td>\n",
       "      <td>2024-02-07</td>\n",
       "      <td>1707264000</td>\n",
       "    </tr>\n",
       "  </tbody>\n",
       "</table>\n",
       "</div>"
      ],
      "text/plain": [
       "  SECURITYCODE  OPENINGPRICE  HIGHPX  LOWPX  CLOSINGPRICE  TRADEDATE  \\\n",
       "0          EXT           7.3     7.5    7.3           7.5 2024-02-07   \n",
       "1         COOP           2.3     2.3    2.2           2.2 2024-02-07   \n",
       "2          MDL           8.3     8.6    8.3           8.6 2024-02-07   \n",
       "3          FCT          24.9    26.4   24.8          26.2 2024-02-07   \n",
       "4          HBS          11.5    11.6   11.5          11.5 2024-02-07   \n",
       "\n",
       "      UNIX_TS  \n",
       "0  1707264000  \n",
       "1  1707264000  \n",
       "2  1707264000  \n",
       "3  1707264000  \n",
       "4  1707264000  "
      ]
     },
     "execution_count": 76,
     "metadata": {},
     "output_type": "execute_result"
    }
   ],
   "source": [
    "price_data = all_price_fil[all_price_fil.SECURITYCODE.isin(count_lday_symbols)].copy()\n",
    "price_data = price_data.reset_index(drop = True)\n",
    "price_data.head()"
   ]
  },
  {
   "cell_type": "code",
   "execution_count": 79,
   "metadata": {},
   "outputs": [],
   "source": [
    "price_data.to_excel('../../data/phase_2/price_data_v2.xlsx', index = False)"
   ]
  }
 ],
 "metadata": {
  "kernelspec": {
   "display_name": "tf_tr_recommender",
   "language": "python",
   "name": "python3"
  },
  "language_info": {
   "codemirror_mode": {
    "name": "ipython",
    "version": 3
   },
   "file_extension": ".py",
   "mimetype": "text/x-python",
   "name": "python",
   "nbconvert_exporter": "python",
   "pygments_lexer": "ipython3",
   "version": "3.9.18"
  }
 },
 "nbformat": 4,
 "nbformat_minor": 2
}
