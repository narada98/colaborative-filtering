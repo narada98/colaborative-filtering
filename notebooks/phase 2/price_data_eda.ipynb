{
 "cells": [
  {
   "cell_type": "code",
   "execution_count": 1,
   "metadata": {},
   "outputs": [],
   "source": [
    "import pandas as pd\n",
    "import numpy as np"
   ]
  },
  {
   "cell_type": "code",
   "execution_count": 2,
   "metadata": {},
   "outputs": [],
   "source": [
    "data_path = '../../data/phase_2/price_data.xlsx'\n",
    "\n",
    "data = pd.read_excel(data_path, index_col= False)"
   ]
  },
  {
   "cell_type": "code",
   "execution_count": 3,
   "metadata": {},
   "outputs": [
    {
     "data": {
      "text/html": [
       "<div>\n",
       "<style scoped>\n",
       "    .dataframe tbody tr th:only-of-type {\n",
       "        vertical-align: middle;\n",
       "    }\n",
       "\n",
       "    .dataframe tbody tr th {\n",
       "        vertical-align: top;\n",
       "    }\n",
       "\n",
       "    .dataframe thead th {\n",
       "        text-align: right;\n",
       "    }\n",
       "</style>\n",
       "<table border=\"1\" class=\"dataframe\">\n",
       "  <thead>\n",
       "    <tr style=\"text-align: right;\">\n",
       "      <th></th>\n",
       "      <th>SECURITYCODE</th>\n",
       "      <th>OPENINGPRICE</th>\n",
       "      <th>HIGHPX</th>\n",
       "      <th>LOWPX</th>\n",
       "      <th>CLOSINGPRICE</th>\n",
       "      <th>TRADEDATE</th>\n",
       "      <th>UNIX_TS</th>\n",
       "    </tr>\n",
       "  </thead>\n",
       "  <tbody>\n",
       "    <tr>\n",
       "      <th>0</th>\n",
       "      <td>NDB</td>\n",
       "      <td>64.9</td>\n",
       "      <td>64.9</td>\n",
       "      <td>63.9</td>\n",
       "      <td>63.9</td>\n",
       "      <td>2024-02-07</td>\n",
       "      <td>1707264000</td>\n",
       "    </tr>\n",
       "    <tr>\n",
       "      <th>1</th>\n",
       "      <td>LLUB</td>\n",
       "      <td>95.0</td>\n",
       "      <td>96.0</td>\n",
       "      <td>92.1</td>\n",
       "      <td>94.4</td>\n",
       "      <td>2024-02-07</td>\n",
       "      <td>1707264000</td>\n",
       "    </tr>\n",
       "    <tr>\n",
       "      <th>2</th>\n",
       "      <td>COMB</td>\n",
       "      <td>88.0</td>\n",
       "      <td>89.0</td>\n",
       "      <td>88.0</td>\n",
       "      <td>89.0</td>\n",
       "      <td>2024-02-07</td>\n",
       "      <td>1707264000</td>\n",
       "    </tr>\n",
       "    <tr>\n",
       "      <th>3</th>\n",
       "      <td>DFCC</td>\n",
       "      <td>78.0</td>\n",
       "      <td>78.0</td>\n",
       "      <td>76.0</td>\n",
       "      <td>77.1</td>\n",
       "      <td>2024-02-07</td>\n",
       "      <td>1707264000</td>\n",
       "    </tr>\n",
       "    <tr>\n",
       "      <th>4</th>\n",
       "      <td>HAYL</td>\n",
       "      <td>75.0</td>\n",
       "      <td>75.6</td>\n",
       "      <td>74.9</td>\n",
       "      <td>75.0</td>\n",
       "      <td>2024-02-07</td>\n",
       "      <td>1707264000</td>\n",
       "    </tr>\n",
       "  </tbody>\n",
       "</table>\n",
       "</div>"
      ],
      "text/plain": [
       "  SECURITYCODE  OPENINGPRICE  HIGHPX  LOWPX  CLOSINGPRICE  TRADEDATE  \\\n",
       "0          NDB          64.9    64.9   63.9          63.9 2024-02-07   \n",
       "1         LLUB          95.0    96.0   92.1          94.4 2024-02-07   \n",
       "2         COMB          88.0    89.0   88.0          89.0 2024-02-07   \n",
       "3         DFCC          78.0    78.0   76.0          77.1 2024-02-07   \n",
       "4         HAYL          75.0    75.6   74.9          75.0 2024-02-07   \n",
       "\n",
       "      UNIX_TS  \n",
       "0  1707264000  \n",
       "1  1707264000  \n",
       "2  1707264000  \n",
       "3  1707264000  \n",
       "4  1707264000  "
      ]
     },
     "execution_count": 3,
     "metadata": {},
     "output_type": "execute_result"
    }
   ],
   "source": [
    "data.head()"
   ]
  },
  {
   "cell_type": "code",
   "execution_count": 4,
   "metadata": {},
   "outputs": [
    {
     "data": {
      "text/plain": [
       "(34481, 7)"
      ]
     },
     "execution_count": 4,
     "metadata": {},
     "output_type": "execute_result"
    }
   ],
   "source": [
    "data.shape"
   ]
  },
  {
   "cell_type": "code",
   "execution_count": 5,
   "metadata": {},
   "outputs": [
    {
     "data": {
      "text/plain": [
       "False"
      ]
     },
     "execution_count": 5,
     "metadata": {},
     "output_type": "execute_result"
    }
   ],
   "source": [
    "(data.CLOSINGPRICE <0).any()"
   ]
  },
  {
   "cell_type": "code",
   "execution_count": 6,
   "metadata": {},
   "outputs": [],
   "source": [
    "low_mask = (data.CLOSINGPRICE < data.LOWPX)\n",
    "# close_mask"
   ]
  },
  {
   "cell_type": "code",
   "execution_count": 7,
   "metadata": {},
   "outputs": [
    {
     "data": {
      "text/html": [
       "<div>\n",
       "<style scoped>\n",
       "    .dataframe tbody tr th:only-of-type {\n",
       "        vertical-align: middle;\n",
       "    }\n",
       "\n",
       "    .dataframe tbody tr th {\n",
       "        vertical-align: top;\n",
       "    }\n",
       "\n",
       "    .dataframe thead th {\n",
       "        text-align: right;\n",
       "    }\n",
       "</style>\n",
       "<table border=\"1\" class=\"dataframe\">\n",
       "  <thead>\n",
       "    <tr style=\"text-align: right;\">\n",
       "      <th></th>\n",
       "      <th>SECURITYCODE</th>\n",
       "      <th>OPENINGPRICE</th>\n",
       "      <th>HIGHPX</th>\n",
       "      <th>LOWPX</th>\n",
       "      <th>CLOSINGPRICE</th>\n",
       "      <th>TRADEDATE</th>\n",
       "      <th>UNIX_TS</th>\n",
       "    </tr>\n",
       "  </thead>\n",
       "  <tbody>\n",
       "    <tr>\n",
       "      <th>4778</th>\n",
       "      <td>DFCC</td>\n",
       "      <td>36.90</td>\n",
       "      <td>36.90</td>\n",
       "      <td>36.90</td>\n",
       "      <td>36.00</td>\n",
       "      <td>2022-07-27</td>\n",
       "      <td>1658880000</td>\n",
       "    </tr>\n",
       "    <tr>\n",
       "      <th>5015</th>\n",
       "      <td>DFCC</td>\n",
       "      <td>35.10</td>\n",
       "      <td>35.10</td>\n",
       "      <td>35.10</td>\n",
       "      <td>35.00</td>\n",
       "      <td>2022-06-29</td>\n",
       "      <td>1656460800</td>\n",
       "    </tr>\n",
       "    <tr>\n",
       "      <th>5016</th>\n",
       "      <td>HAYL</td>\n",
       "      <td>66.00</td>\n",
       "      <td>66.90</td>\n",
       "      <td>65.00</td>\n",
       "      <td>64.80</td>\n",
       "      <td>2022-06-29</td>\n",
       "      <td>1656460800</td>\n",
       "    </tr>\n",
       "    <tr>\n",
       "      <th>5019</th>\n",
       "      <td>JKH</td>\n",
       "      <td>122.25</td>\n",
       "      <td>122.50</td>\n",
       "      <td>122.25</td>\n",
       "      <td>122.00</td>\n",
       "      <td>2022-06-29</td>\n",
       "      <td>1656460800</td>\n",
       "    </tr>\n",
       "    <tr>\n",
       "      <th>5024</th>\n",
       "      <td>NTB</td>\n",
       "      <td>34.00</td>\n",
       "      <td>34.00</td>\n",
       "      <td>34.00</td>\n",
       "      <td>33.30</td>\n",
       "      <td>2022-06-29</td>\n",
       "      <td>1656460800</td>\n",
       "    </tr>\n",
       "    <tr>\n",
       "      <th>...</th>\n",
       "      <td>...</td>\n",
       "      <td>...</td>\n",
       "      <td>...</td>\n",
       "      <td>...</td>\n",
       "      <td>...</td>\n",
       "      <td>...</td>\n",
       "      <td>...</td>\n",
       "    </tr>\n",
       "    <tr>\n",
       "      <th>34165</th>\n",
       "      <td>CINS</td>\n",
       "      <td>2200.00</td>\n",
       "      <td>2200.00</td>\n",
       "      <td>2160.75</td>\n",
       "      <td>2094.75</td>\n",
       "      <td>2022-02-15</td>\n",
       "      <td>1644883200</td>\n",
       "    </tr>\n",
       "    <tr>\n",
       "      <th>34222</th>\n",
       "      <td>CINS</td>\n",
       "      <td>2360.00</td>\n",
       "      <td>2618.25</td>\n",
       "      <td>2360.00</td>\n",
       "      <td>2094.75</td>\n",
       "      <td>2022-02-14</td>\n",
       "      <td>1644796800</td>\n",
       "    </tr>\n",
       "    <tr>\n",
       "      <th>34259</th>\n",
       "      <td>MSL</td>\n",
       "      <td>358.00</td>\n",
       "      <td>358.00</td>\n",
       "      <td>358.00</td>\n",
       "      <td>354.75</td>\n",
       "      <td>2022-02-11</td>\n",
       "      <td>1644537600</td>\n",
       "    </tr>\n",
       "    <tr>\n",
       "      <th>34310</th>\n",
       "      <td>SWAD</td>\n",
       "      <td>18379.00</td>\n",
       "      <td>18379.00</td>\n",
       "      <td>18379.00</td>\n",
       "      <td>15003.50</td>\n",
       "      <td>2022-02-10</td>\n",
       "      <td>1644451200</td>\n",
       "    </tr>\n",
       "    <tr>\n",
       "      <th>34471</th>\n",
       "      <td>CINS</td>\n",
       "      <td>2133.00</td>\n",
       "      <td>2133.00</td>\n",
       "      <td>2133.00</td>\n",
       "      <td>2130.00</td>\n",
       "      <td>2022-02-08</td>\n",
       "      <td>1644278400</td>\n",
       "    </tr>\n",
       "  </tbody>\n",
       "</table>\n",
       "<p>1491 rows × 7 columns</p>\n",
       "</div>"
      ],
      "text/plain": [
       "      SECURITYCODE  OPENINGPRICE    HIGHPX     LOWPX  CLOSINGPRICE  TRADEDATE  \\\n",
       "4778          DFCC         36.90     36.90     36.90         36.00 2022-07-27   \n",
       "5015          DFCC         35.10     35.10     35.10         35.00 2022-06-29   \n",
       "5016          HAYL         66.00     66.90     65.00         64.80 2022-06-29   \n",
       "5019           JKH        122.25    122.50    122.25        122.00 2022-06-29   \n",
       "5024           NTB         34.00     34.00     34.00         33.30 2022-06-29   \n",
       "...            ...           ...       ...       ...           ...        ...   \n",
       "34165         CINS       2200.00   2200.00   2160.75       2094.75 2022-02-15   \n",
       "34222         CINS       2360.00   2618.25   2360.00       2094.75 2022-02-14   \n",
       "34259          MSL        358.00    358.00    358.00        354.75 2022-02-11   \n",
       "34310         SWAD      18379.00  18379.00  18379.00      15003.50 2022-02-10   \n",
       "34471         CINS       2133.00   2133.00   2133.00       2130.00 2022-02-08   \n",
       "\n",
       "          UNIX_TS  \n",
       "4778   1658880000  \n",
       "5015   1656460800  \n",
       "5016   1656460800  \n",
       "5019   1656460800  \n",
       "5024   1656460800  \n",
       "...           ...  \n",
       "34165  1644883200  \n",
       "34222  1644796800  \n",
       "34259  1644537600  \n",
       "34310  1644451200  \n",
       "34471  1644278400  \n",
       "\n",
       "[1491 rows x 7 columns]"
      ]
     },
     "execution_count": 7,
     "metadata": {},
     "output_type": "execute_result"
    }
   ],
   "source": [
    "data[low_mask]"
   ]
  },
  {
   "cell_type": "code",
   "execution_count": 8,
   "metadata": {},
   "outputs": [
    {
     "data": {
      "text/plain": [
       "(1491, 0)"
      ]
     },
     "execution_count": 8,
     "metadata": {},
     "output_type": "execute_result"
    }
   ],
   "source": [
    "(data.CLOSINGPRICE < data.LOWPX).sum(), (data.OPENINGPRICE < data.LOWPX).sum()"
   ]
  },
  {
   "cell_type": "code",
   "execution_count": 9,
   "metadata": {},
   "outputs": [
    {
     "data": {
      "text/html": [
       "<div>\n",
       "<style scoped>\n",
       "    .dataframe tbody tr th:only-of-type {\n",
       "        vertical-align: middle;\n",
       "    }\n",
       "\n",
       "    .dataframe tbody tr th {\n",
       "        vertical-align: top;\n",
       "    }\n",
       "\n",
       "    .dataframe thead th {\n",
       "        text-align: right;\n",
       "    }\n",
       "</style>\n",
       "<table border=\"1\" class=\"dataframe\">\n",
       "  <thead>\n",
       "    <tr style=\"text-align: right;\">\n",
       "      <th></th>\n",
       "      <th>SECURITYCODE</th>\n",
       "      <th>OPENINGPRICE</th>\n",
       "      <th>HIGHPX</th>\n",
       "      <th>LOWPX</th>\n",
       "      <th>CLOSINGPRICE</th>\n",
       "      <th>TRADEDATE</th>\n",
       "      <th>UNIX_TS</th>\n",
       "    </tr>\n",
       "  </thead>\n",
       "  <tbody>\n",
       "    <tr>\n",
       "      <th>3504</th>\n",
       "      <td>NTB</td>\n",
       "      <td>47.00</td>\n",
       "      <td>47.0</td>\n",
       "      <td>46.6</td>\n",
       "      <td>47.20</td>\n",
       "      <td>2022-12-20</td>\n",
       "      <td>1671494400</td>\n",
       "    </tr>\n",
       "    <tr>\n",
       "      <th>3508</th>\n",
       "      <td>DFCC</td>\n",
       "      <td>32.30</td>\n",
       "      <td>32.4</td>\n",
       "      <td>32.3</td>\n",
       "      <td>33.00</td>\n",
       "      <td>2022-12-20</td>\n",
       "      <td>1671494400</td>\n",
       "    </tr>\n",
       "    <tr>\n",
       "      <th>5020</th>\n",
       "      <td>LLUB</td>\n",
       "      <td>74.50</td>\n",
       "      <td>74.5</td>\n",
       "      <td>74.5</td>\n",
       "      <td>75.00</td>\n",
       "      <td>2022-06-29</td>\n",
       "      <td>1656460800</td>\n",
       "    </tr>\n",
       "    <tr>\n",
       "      <th>5022</th>\n",
       "      <td>MELS</td>\n",
       "      <td>36.50</td>\n",
       "      <td>36.5</td>\n",
       "      <td>36.5</td>\n",
       "      <td>37.10</td>\n",
       "      <td>2022-06-29</td>\n",
       "      <td>1656460800</td>\n",
       "    </tr>\n",
       "    <tr>\n",
       "      <th>5023</th>\n",
       "      <td>NDB</td>\n",
       "      <td>35.00</td>\n",
       "      <td>35.0</td>\n",
       "      <td>35.0</td>\n",
       "      <td>35.10</td>\n",
       "      <td>2022-06-29</td>\n",
       "      <td>1656460800</td>\n",
       "    </tr>\n",
       "    <tr>\n",
       "      <th>...</th>\n",
       "      <td>...</td>\n",
       "      <td>...</td>\n",
       "      <td>...</td>\n",
       "      <td>...</td>\n",
       "      <td>...</td>\n",
       "      <td>...</td>\n",
       "      <td>...</td>\n",
       "    </tr>\n",
       "    <tr>\n",
       "      <th>34225</th>\n",
       "      <td>CTEA</td>\n",
       "      <td>905.25</td>\n",
       "      <td>907.0</td>\n",
       "      <td>905.0</td>\n",
       "      <td>914.25</td>\n",
       "      <td>2022-02-14</td>\n",
       "      <td>1644796800</td>\n",
       "    </tr>\n",
       "    <tr>\n",
       "      <th>34261</th>\n",
       "      <td>LPRT</td>\n",
       "      <td>252.00</td>\n",
       "      <td>252.0</td>\n",
       "      <td>235.0</td>\n",
       "      <td>258.00</td>\n",
       "      <td>2022-02-11</td>\n",
       "      <td>1644537600</td>\n",
       "    </tr>\n",
       "    <tr>\n",
       "      <th>34322</th>\n",
       "      <td>LPRT</td>\n",
       "      <td>254.00</td>\n",
       "      <td>254.0</td>\n",
       "      <td>235.0</td>\n",
       "      <td>258.00</td>\n",
       "      <td>2022-02-10</td>\n",
       "      <td>1644451200</td>\n",
       "    </tr>\n",
       "    <tr>\n",
       "      <th>34344</th>\n",
       "      <td>CTEA</td>\n",
       "      <td>911.00</td>\n",
       "      <td>911.0</td>\n",
       "      <td>910.0</td>\n",
       "      <td>911.50</td>\n",
       "      <td>2022-02-10</td>\n",
       "      <td>1644451200</td>\n",
       "    </tr>\n",
       "    <tr>\n",
       "      <th>34388</th>\n",
       "      <td>LAMB</td>\n",
       "      <td>401.00</td>\n",
       "      <td>401.0</td>\n",
       "      <td>400.0</td>\n",
       "      <td>405.50</td>\n",
       "      <td>2022-02-09</td>\n",
       "      <td>1644364800</td>\n",
       "    </tr>\n",
       "  </tbody>\n",
       "</table>\n",
       "<p>847 rows × 7 columns</p>\n",
       "</div>"
      ],
      "text/plain": [
       "      SECURITYCODE  OPENINGPRICE  HIGHPX  LOWPX  CLOSINGPRICE  TRADEDATE  \\\n",
       "3504           NTB         47.00    47.0   46.6         47.20 2022-12-20   \n",
       "3508          DFCC         32.30    32.4   32.3         33.00 2022-12-20   \n",
       "5020          LLUB         74.50    74.5   74.5         75.00 2022-06-29   \n",
       "5022          MELS         36.50    36.5   36.5         37.10 2022-06-29   \n",
       "5023           NDB         35.00    35.0   35.0         35.10 2022-06-29   \n",
       "...            ...           ...     ...    ...           ...        ...   \n",
       "34225         CTEA        905.25   907.0  905.0        914.25 2022-02-14   \n",
       "34261         LPRT        252.00   252.0  235.0        258.00 2022-02-11   \n",
       "34322         LPRT        254.00   254.0  235.0        258.00 2022-02-10   \n",
       "34344         CTEA        911.00   911.0  910.0        911.50 2022-02-10   \n",
       "34388         LAMB        401.00   401.0  400.0        405.50 2022-02-09   \n",
       "\n",
       "          UNIX_TS  \n",
       "3504   1671494400  \n",
       "3508   1671494400  \n",
       "5020   1656460800  \n",
       "5022   1656460800  \n",
       "5023   1656460800  \n",
       "...           ...  \n",
       "34225  1644796800  \n",
       "34261  1644537600  \n",
       "34322  1644451200  \n",
       "34344  1644451200  \n",
       "34388  1644364800  \n",
       "\n",
       "[847 rows x 7 columns]"
      ]
     },
     "execution_count": 9,
     "metadata": {},
     "output_type": "execute_result"
    }
   ],
   "source": [
    "(data.CLOSINGPRICE > data.HIGHPX).sum(), (data.OPENINGPRICE > data.HIGHPX).sum()\n",
    "high_mask = (data.CLOSINGPRICE > data.HIGHPX)\n",
    "data[high_mask]"
   ]
  },
  {
   "cell_type": "code",
   "execution_count": 10,
   "metadata": {},
   "outputs": [],
   "source": [
    "data_path = '../../data/phase_2/price_data_v2.xlsx'\n",
    "\n",
    "data = pd.read_excel(data_path, index_col= False)"
   ]
  },
  {
   "cell_type": "code",
   "execution_count": 11,
   "metadata": {},
   "outputs": [
    {
     "data": {
      "text/html": [
       "<div>\n",
       "<style scoped>\n",
       "    .dataframe tbody tr th:only-of-type {\n",
       "        vertical-align: middle;\n",
       "    }\n",
       "\n",
       "    .dataframe tbody tr th {\n",
       "        vertical-align: top;\n",
       "    }\n",
       "\n",
       "    .dataframe thead th {\n",
       "        text-align: right;\n",
       "    }\n",
       "</style>\n",
       "<table border=\"1\" class=\"dataframe\">\n",
       "  <thead>\n",
       "    <tr style=\"text-align: right;\">\n",
       "      <th></th>\n",
       "      <th>SECURITYCODE</th>\n",
       "      <th>OPENINGPRICE</th>\n",
       "      <th>HIGHPX</th>\n",
       "      <th>LOWPX</th>\n",
       "      <th>CLOSINGPRICE</th>\n",
       "      <th>TRADEDATE</th>\n",
       "      <th>UNIX_TS</th>\n",
       "    </tr>\n",
       "  </thead>\n",
       "  <tbody>\n",
       "    <tr>\n",
       "      <th>0</th>\n",
       "      <td>EXT</td>\n",
       "      <td>7.3</td>\n",
       "      <td>7.5</td>\n",
       "      <td>7.3</td>\n",
       "      <td>7.5</td>\n",
       "      <td>2024-02-07</td>\n",
       "      <td>1707264000</td>\n",
       "    </tr>\n",
       "    <tr>\n",
       "      <th>1</th>\n",
       "      <td>COOP</td>\n",
       "      <td>2.3</td>\n",
       "      <td>2.3</td>\n",
       "      <td>2.2</td>\n",
       "      <td>2.2</td>\n",
       "      <td>2024-02-07</td>\n",
       "      <td>1707264000</td>\n",
       "    </tr>\n",
       "    <tr>\n",
       "      <th>2</th>\n",
       "      <td>MDL</td>\n",
       "      <td>8.3</td>\n",
       "      <td>8.6</td>\n",
       "      <td>8.3</td>\n",
       "      <td>8.6</td>\n",
       "      <td>2024-02-07</td>\n",
       "      <td>1707264000</td>\n",
       "    </tr>\n",
       "    <tr>\n",
       "      <th>3</th>\n",
       "      <td>FCT</td>\n",
       "      <td>24.9</td>\n",
       "      <td>26.4</td>\n",
       "      <td>24.8</td>\n",
       "      <td>26.2</td>\n",
       "      <td>2024-02-07</td>\n",
       "      <td>1707264000</td>\n",
       "    </tr>\n",
       "    <tr>\n",
       "      <th>4</th>\n",
       "      <td>HBS</td>\n",
       "      <td>11.5</td>\n",
       "      <td>11.6</td>\n",
       "      <td>11.5</td>\n",
       "      <td>11.5</td>\n",
       "      <td>2024-02-07</td>\n",
       "      <td>1707264000</td>\n",
       "    </tr>\n",
       "  </tbody>\n",
       "</table>\n",
       "</div>"
      ],
      "text/plain": [
       "  SECURITYCODE  OPENINGPRICE  HIGHPX  LOWPX  CLOSINGPRICE  TRADEDATE  \\\n",
       "0          EXT           7.3     7.5    7.3           7.5 2024-02-07   \n",
       "1         COOP           2.3     2.3    2.2           2.2 2024-02-07   \n",
       "2          MDL           8.3     8.6    8.3           8.6 2024-02-07   \n",
       "3          FCT          24.9    26.4   24.8          26.2 2024-02-07   \n",
       "4          HBS          11.5    11.6   11.5          11.5 2024-02-07   \n",
       "\n",
       "      UNIX_TS  \n",
       "0  1707264000  \n",
       "1  1707264000  \n",
       "2  1707264000  \n",
       "3  1707264000  \n",
       "4  1707264000  "
      ]
     },
     "execution_count": 11,
     "metadata": {},
     "output_type": "execute_result"
    }
   ],
   "source": [
    "data.head()"
   ]
  },
  {
   "cell_type": "code",
   "execution_count": 12,
   "metadata": {},
   "outputs": [
    {
     "data": {
      "text/plain": [
       "(32745, 7)"
      ]
     },
     "execution_count": 12,
     "metadata": {},
     "output_type": "execute_result"
    }
   ],
   "source": [
    "data.shape"
   ]
  },
  {
   "cell_type": "code",
   "execution_count": 13,
   "metadata": {},
   "outputs": [
    {
     "data": {
      "text/plain": [
       "False"
      ]
     },
     "execution_count": 13,
     "metadata": {},
     "output_type": "execute_result"
    }
   ],
   "source": [
    "(data.CLOSINGPRICE <0).any()"
   ]
  },
  {
   "cell_type": "code",
   "execution_count": 14,
   "metadata": {},
   "outputs": [],
   "source": [
    "low_mask = (data.CLOSINGPRICE < data.LOWPX)\n",
    "# close_mask"
   ]
  },
  {
   "cell_type": "code",
   "execution_count": 15,
   "metadata": {},
   "outputs": [
    {
     "data": {
      "text/html": [
       "<div>\n",
       "<style scoped>\n",
       "    .dataframe tbody tr th:only-of-type {\n",
       "        vertical-align: middle;\n",
       "    }\n",
       "\n",
       "    .dataframe tbody tr th {\n",
       "        vertical-align: top;\n",
       "    }\n",
       "\n",
       "    .dataframe thead th {\n",
       "        text-align: right;\n",
       "    }\n",
       "</style>\n",
       "<table border=\"1\" class=\"dataframe\">\n",
       "  <thead>\n",
       "    <tr style=\"text-align: right;\">\n",
       "      <th></th>\n",
       "      <th>SECURITYCODE</th>\n",
       "      <th>OPENINGPRICE</th>\n",
       "      <th>HIGHPX</th>\n",
       "      <th>LOWPX</th>\n",
       "      <th>CLOSINGPRICE</th>\n",
       "      <th>TRADEDATE</th>\n",
       "      <th>UNIX_TS</th>\n",
       "    </tr>\n",
       "  </thead>\n",
       "  <tbody>\n",
       "  </tbody>\n",
       "</table>\n",
       "</div>"
      ],
      "text/plain": [
       "Empty DataFrame\n",
       "Columns: [SECURITYCODE, OPENINGPRICE, HIGHPX, LOWPX, CLOSINGPRICE, TRADEDATE, UNIX_TS]\n",
       "Index: []"
      ]
     },
     "execution_count": 15,
     "metadata": {},
     "output_type": "execute_result"
    }
   ],
   "source": [
    "data[low_mask]"
   ]
  },
  {
   "cell_type": "code",
   "execution_count": 16,
   "metadata": {},
   "outputs": [
    {
     "data": {
      "text/plain": [
       "(0, 0)"
      ]
     },
     "execution_count": 16,
     "metadata": {},
     "output_type": "execute_result"
    }
   ],
   "source": [
    "(data.CLOSINGPRICE < data.LOWPX).sum(), (data.OPENINGPRICE < data.LOWPX).sum()"
   ]
  },
  {
   "cell_type": "code",
   "execution_count": 17,
   "metadata": {},
   "outputs": [
    {
     "data": {
      "text/html": [
       "<div>\n",
       "<style scoped>\n",
       "    .dataframe tbody tr th:only-of-type {\n",
       "        vertical-align: middle;\n",
       "    }\n",
       "\n",
       "    .dataframe tbody tr th {\n",
       "        vertical-align: top;\n",
       "    }\n",
       "\n",
       "    .dataframe thead th {\n",
       "        text-align: right;\n",
       "    }\n",
       "</style>\n",
       "<table border=\"1\" class=\"dataframe\">\n",
       "  <thead>\n",
       "    <tr style=\"text-align: right;\">\n",
       "      <th></th>\n",
       "      <th>SECURITYCODE</th>\n",
       "      <th>OPENINGPRICE</th>\n",
       "      <th>HIGHPX</th>\n",
       "      <th>LOWPX</th>\n",
       "      <th>CLOSINGPRICE</th>\n",
       "      <th>TRADEDATE</th>\n",
       "      <th>UNIX_TS</th>\n",
       "    </tr>\n",
       "  </thead>\n",
       "  <tbody>\n",
       "    <tr>\n",
       "      <th>31975</th>\n",
       "      <td>MELS</td>\n",
       "      <td>38.1</td>\n",
       "      <td>39.0</td>\n",
       "      <td>37.5</td>\n",
       "      <td>39.5</td>\n",
       "      <td>2022-04-08</td>\n",
       "      <td>1649376000</td>\n",
       "    </tr>\n",
       "    <tr>\n",
       "      <th>32399</th>\n",
       "      <td>DFCC</td>\n",
       "      <td>53.1</td>\n",
       "      <td>53.1</td>\n",
       "      <td>52.0</td>\n",
       "      <td>53.7</td>\n",
       "      <td>2022-03-08</td>\n",
       "      <td>1646697600</td>\n",
       "    </tr>\n",
       "  </tbody>\n",
       "</table>\n",
       "</div>"
      ],
      "text/plain": [
       "      SECURITYCODE  OPENINGPRICE  HIGHPX  LOWPX  CLOSINGPRICE  TRADEDATE  \\\n",
       "31975         MELS          38.1    39.0   37.5          39.5 2022-04-08   \n",
       "32399         DFCC          53.1    53.1   52.0          53.7 2022-03-08   \n",
       "\n",
       "          UNIX_TS  \n",
       "31975  1649376000  \n",
       "32399  1646697600  "
      ]
     },
     "execution_count": 17,
     "metadata": {},
     "output_type": "execute_result"
    }
   ],
   "source": [
    "(data.CLOSINGPRICE > data.HIGHPX).sum(), (data.OPENINGPRICE > data.HIGHPX).sum()\n",
    "high_mask = (data.CLOSINGPRICE > data.HIGHPX)\n",
    "data[high_mask]"
   ]
  }
 ],
 "metadata": {
  "kernelspec": {
   "display_name": "tf_tr_recommender",
   "language": "python",
   "name": "python3"
  },
  "language_info": {
   "codemirror_mode": {
    "name": "ipython",
    "version": 3
   },
   "file_extension": ".py",
   "mimetype": "text/x-python",
   "name": "python",
   "nbconvert_exporter": "python",
   "pygments_lexer": "ipython3",
   "version": "3.9.18"
  }
 },
 "nbformat": 4,
 "nbformat_minor": 2
}
