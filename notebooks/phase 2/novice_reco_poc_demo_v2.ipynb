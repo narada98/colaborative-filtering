{
 "cells": [
  {
   "cell_type": "markdown",
   "metadata": {},
   "source": [
    "# Libraries"
   ]
  },
  {
   "cell_type": "code",
   "execution_count": 1,
   "metadata": {},
   "outputs": [
    {
     "name": "stderr",
     "output_type": "stream",
     "text": [
      "c:\\Users\\bpadmin\\anaconda3\\envs\\tf_tr_recommender\\lib\\site-packages\\tqdm\\auto.py:21: TqdmWarning: IProgress not found. Please update jupyter and ipywidgets. See https://ipywidgets.readthedocs.io/en/stable/user_install.html\n",
      "  from .autonotebook import tqdm as notebook_tqdm\n"
     ]
    }
   ],
   "source": [
    "import gradio as gr\n",
    "import pandas as pd\n",
    "import numpy as np\n",
    "import json\n",
    "import io \n",
    "import sys\n",
    "from PIL import Image\n",
    "from langchain_community.embeddings import HuggingFaceEmbeddings\n",
    "from langchain_community.vectorstores.faiss import FAISS"
   ]
  },
  {
   "cell_type": "markdown",
   "metadata": {},
   "source": [
    "# vector db creation"
   ]
  },
  {
   "cell_type": "code",
   "execution_count": 2,
   "metadata": {},
   "outputs": [],
   "source": [
    "stock_data_excel_file = pd.ExcelFile('../../data/phase_2/stock_data.xlsx')"
   ]
  },
  {
   "cell_type": "code",
   "execution_count": 3,
   "metadata": {},
   "outputs": [],
   "source": [
    "data_path = '../../data/phase_2/price_data_v2.xlsx'\n",
    "\n",
    "data = pd.read_excel(data_path, index_col= False)"
   ]
  },
  {
   "cell_type": "code",
   "execution_count": 4,
   "metadata": {},
   "outputs": [],
   "source": [
    "price_symbols = list(data.SECURITYCODE.unique())"
   ]
  },
  {
   "cell_type": "code",
   "execution_count": 5,
   "metadata": {},
   "outputs": [
    {
     "data": {
      "text/html": [
       "<div>\n",
       "<style scoped>\n",
       "    .dataframe tbody tr th:only-of-type {\n",
       "        vertical-align: middle;\n",
       "    }\n",
       "\n",
       "    .dataframe tbody tr th {\n",
       "        vertical-align: top;\n",
       "    }\n",
       "\n",
       "    .dataframe thead th {\n",
       "        text-align: right;\n",
       "    }\n",
       "</style>\n",
       "<table border=\"1\" class=\"dataframe\">\n",
       "  <thead>\n",
       "    <tr style=\"text-align: right;\">\n",
       "      <th></th>\n",
       "      <th>GICS Category</th>\n",
       "      <th>Symbol</th>\n",
       "      <th>Name</th>\n",
       "      <th>Business_Summary</th>\n",
       "    </tr>\n",
       "  </thead>\n",
       "  <tbody>\n",
       "    <tr>\n",
       "      <th>0</th>\n",
       "      <td>Information Technology</td>\n",
       "      <td>HBS</td>\n",
       "      <td>hSenid Business Solutions PLC</td>\n",
       "      <td>development of human capital management (HCM) ...</td>\n",
       "    </tr>\n",
       "    <tr>\n",
       "      <th>1</th>\n",
       "      <td>Consumer Discretionary</td>\n",
       "      <td>TYRE</td>\n",
       "      <td>KELANI TYRES PLC</td>\n",
       "      <td>importation and sale of tires. In addition, th...</td>\n",
       "    </tr>\n",
       "  </tbody>\n",
       "</table>\n",
       "</div>"
      ],
      "text/plain": [
       "            GICS Category Symbol                           Name  \\\n",
       "0  Information Technology    HBS  hSenid Business Solutions PLC   \n",
       "1  Consumer Discretionary   TYRE               KELANI TYRES PLC   \n",
       "\n",
       "                                    Business_Summary  \n",
       "0  development of human capital management (HCM) ...  \n",
       "1  importation and sale of tires. In addition, th...  "
      ]
     },
     "execution_count": 5,
     "metadata": {},
     "output_type": "execute_result"
    }
   ],
   "source": [
    "# encoded_stock_data_path = '../data/sl20.xlsx'\n",
    "# stock_data = pd.read_csv(encoded_stock_data_path)\n",
    "stock_data = pd.read_excel(stock_data_excel_file, 'phase 1 symbols reduced')\n",
    "stock_data.head(2)\n"
   ]
  },
  {
   "cell_type": "code",
   "execution_count": 6,
   "metadata": {},
   "outputs": [
    {
     "data": {
      "text/plain": [
       "81"
      ]
     },
     "execution_count": 6,
     "metadata": {},
     "output_type": "execute_result"
    }
   ],
   "source": [
    "stock_data.Symbol.nunique()"
   ]
  },
  {
   "cell_type": "code",
   "execution_count": 7,
   "metadata": {},
   "outputs": [
    {
     "data": {
      "text/plain": [
       "73"
      ]
     },
     "execution_count": 7,
     "metadata": {},
     "output_type": "execute_result"
    }
   ],
   "source": [
    "stock_data = stock_data[stock_data.Symbol.isin(price_symbols)].copy()\n",
    "stock_data.Symbol.nunique()"
   ]
  },
  {
   "cell_type": "code",
   "execution_count": 8,
   "metadata": {},
   "outputs": [
    {
     "data": {
      "text/plain": [
       "GICS Category       False\n",
       "Symbol              False\n",
       "Name                False\n",
       "Business_Summary    False\n",
       "dtype: bool"
      ]
     },
     "execution_count": 8,
     "metadata": {},
     "output_type": "execute_result"
    }
   ],
   "source": [
    "stock_data.isna().any()"
   ]
  },
  {
   "cell_type": "code",
   "execution_count": 9,
   "metadata": {},
   "outputs": [
    {
     "name": "stderr",
     "output_type": "stream",
     "text": [
      "C:\\Users\\naradaw\\AppData\\Local\\Temp\\ipykernel_19016\\423448387.py:2: FutureWarning: The default value of regex will change from True to False in a future version. In addition, single character regular expressions will *not* be treated as literal strings when regex=True.\n",
      "  stock_data['Symbol'] = stock_data['Symbol'].str.replace(r\"(\",\"\")\n",
      "C:\\Users\\naradaw\\AppData\\Local\\Temp\\ipykernel_19016\\423448387.py:3: FutureWarning: The default value of regex will change from True to False in a future version. In addition, single character regular expressions will *not* be treated as literal strings when regex=True.\n",
      "  stock_data['Symbol'] = stock_data['Symbol'].str.replace(r\")\",\"\")\n"
     ]
    }
   ],
   "source": [
    "# stock_data = stock_data.fillna('unknown')\n",
    "stock_data['Symbol'] = stock_data['Symbol'].str.replace(r\"(\",\"\")\n",
    "stock_data['Symbol'] = stock_data['Symbol'].str.replace(r\")\",\"\")\n"
   ]
  },
  {
   "cell_type": "code",
   "execution_count": 10,
   "metadata": {},
   "outputs": [
    {
     "data": {
      "text/plain": [
       "0     hSenid Business Solutions PLC\n",
       "1                  KELANI TYRES PLC\n",
       "2             ABANS ELECTRICALS PLC\n",
       "3           DANKOTUWA PORCELAIN PLC\n",
       "4                 HAYLEYS FIBRE PLC\n",
       "                  ...              \n",
       "76                 LOLC FINANCE PLC\n",
       "77                   MELSTACORP PLC\n",
       "78           NATIONS TRUST BANK PLC\n",
       "79         ROYAL CERAMICS LANKA PLC\n",
       "80                 SAMPATH BANK PLC\n",
       "Name: Name, Length: 73, dtype: object"
      ]
     },
     "execution_count": 10,
     "metadata": {},
     "output_type": "execute_result"
    }
   ],
   "source": [
    "stock_data.Name"
   ]
  },
  {
   "cell_type": "code",
   "execution_count": 11,
   "metadata": {},
   "outputs": [
    {
     "data": {
      "text/plain": [
       "[\"hSenid Business Solutions PLC development of human capital management (HCM) software products and related services. The Company's offerings include a comprehensive human resource information system (HRIS) solution known as the PeoplesHR platform as well as additional solutions such as PeoplesHR Outsourcing and Tracking Solutions.\",\n",
       " 'KELANI TYRES PLC importation and sale of tires. In addition, the Company is engaged in holding investments in its subsidiary and joint venture as well as earning rental income from investment property.',\n",
       " 'ABANS ELECTRICALS PLC manufacturing, assembling and installation of selected consumer durable products, provision of repair and maintenance services for a wider range of household electric and electronic appliances and installation of roof top Solar photovoltaic (PV) Systems.',\n",
       " 'DANKOTUWA PORCELAIN PLC manufacturing and marketing of porcelain tableware, targeted to export and domestic markets.',\n",
       " 'HAYLEYS FIBRE PLC manufacture and export of coir fibre products. The Company is a total solutions provider for a range of applications based on coconut fibre and coir fibre in Sri Lanka. Its coconut fibre-related products and services include Bio-Engineering, Horticulture & Bedding, Coir Twine & Yarn, Growing Media']"
      ]
     },
     "execution_count": 11,
     "metadata": {},
     "output_type": "execute_result"
    }
   ],
   "source": [
    "embeddings = HuggingFaceEmbeddings()\n",
    "stock_meta_data = [{'symbol': stock_data.iloc[idx]['Symbol'], 'name' : stock_data.iloc[idx]['Name']} for idx in range(stock_data.shape[0])]\n",
    "stock_meta_data\n",
    "originals = [ stock_data.iloc[idx]['Name'] + ' ' + stock_data.iloc[idx]['Business_Summary'] for idx in range(stock_data.shape[0])]\n",
    "originals[:5]\n"
   ]
  },
  {
   "cell_type": "code",
   "execution_count": 15,
   "metadata": {},
   "outputs": [
    {
     "data": {
      "text/html": [
       "<div>\n",
       "<style scoped>\n",
       "    .dataframe tbody tr th:only-of-type {\n",
       "        vertical-align: middle;\n",
       "    }\n",
       "\n",
       "    .dataframe tbody tr th {\n",
       "        vertical-align: top;\n",
       "    }\n",
       "\n",
       "    .dataframe thead th {\n",
       "        text-align: right;\n",
       "    }\n",
       "</style>\n",
       "<table border=\"1\" class=\"dataframe\">\n",
       "  <thead>\n",
       "    <tr style=\"text-align: right;\">\n",
       "      <th></th>\n",
       "      <th>GICS Category</th>\n",
       "      <th>Symbol</th>\n",
       "      <th>Name</th>\n",
       "      <th>Business_Summary</th>\n",
       "    </tr>\n",
       "  </thead>\n",
       "  <tbody>\n",
       "    <tr>\n",
       "      <th>8</th>\n",
       "      <td>Consumer Discretionary</td>\n",
       "      <td>TAJ</td>\n",
       "      <td>TAL LANKA HOTELS PLC</td>\n",
       "      <td>luxary hotels and resorts.</td>\n",
       "    </tr>\n",
       "  </tbody>\n",
       "</table>\n",
       "</div>"
      ],
      "text/plain": [
       "            GICS Category Symbol                  Name  \\\n",
       "8  Consumer Discretionary    TAJ  TAL LANKA HOTELS PLC   \n",
       "\n",
       "             Business_Summary  \n",
       "8  luxary hotels and resorts.  "
      ]
     },
     "execution_count": 15,
     "metadata": {},
     "output_type": "execute_result"
    }
   ],
   "source": [
    "stock_data.loc[stock_data['Symbol'] == 'TAJ']"
   ]
  },
  {
   "cell_type": "code",
   "execution_count": 16,
   "metadata": {},
   "outputs": [],
   "source": [
    "from langchain_community.vectorstores import FAISS\n",
    "vectors = embeddings.embed_documents(originals)\n",
    "'''Tuple[str, List[float]]'''\n",
    "\n",
    "stock_data_embeddings = [(originals[idx],vectors[idx]) for idx in range(len(vectors))]\n",
    "db = FAISS.from_embeddings(text_embeddings = stock_data_embeddings, embedding = embeddings, metadatas= stock_meta_data)\n",
    "db.save_local(\"../../vector_db/phase3_symbols\")\n"
   ]
  }
 ],
 "metadata": {
  "kernelspec": {
   "display_name": "tf_tr_recommender",
   "language": "python",
   "name": "python3"
  },
  "language_info": {
   "codemirror_mode": {
    "name": "ipython",
    "version": 3
   },
   "file_extension": ".py",
   "mimetype": "text/x-python",
   "name": "python",
   "nbconvert_exporter": "python",
   "pygments_lexer": "ipython3",
   "version": "3.9.18"
  }
 },
 "nbformat": 4,
 "nbformat_minor": 2
}
