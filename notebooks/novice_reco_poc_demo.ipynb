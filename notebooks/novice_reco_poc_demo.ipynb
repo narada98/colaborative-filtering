{
 "cells": [
  {
   "cell_type": "markdown",
   "metadata": {},
   "source": [
    "# Libraries"
   ]
  },
  {
   "cell_type": "code",
   "execution_count": 1,
   "metadata": {},
   "outputs": [
    {
     "name": "stderr",
     "output_type": "stream",
     "text": [
      "c:\\Users\\bpadmin\\anaconda3\\envs\\tf_tr_recommender\\lib\\site-packages\\tqdm\\auto.py:21: TqdmWarning: IProgress not found. Please update jupyter and ipywidgets. See https://ipywidgets.readthedocs.io/en/stable/user_install.html\n",
      "  from .autonotebook import tqdm as notebook_tqdm\n"
     ]
    }
   ],
   "source": [
    "import gradio as gr\n",
    "import pandas as pd\n",
    "import numpy as np\n",
    "import json\n",
    "import io \n",
    "import sys\n",
    "from PIL import Image\n",
    "from langchain_community.embeddings import HuggingFaceEmbeddings\n",
    "from langchain_community.vectorstores.faiss import FAISS"
   ]
  },
  {
   "cell_type": "markdown",
   "metadata": {},
   "source": [
    "# vector db creation"
   ]
  },
  {
   "cell_type": "code",
   "execution_count": 2,
   "metadata": {},
   "outputs": [],
   "source": [
    "# encoded_stock_data_path = '../data/sl20.xlsx'\n",
    "# # stock_data = pd.read_csv(encoded_stock_data_path)\n",
    "# stock_data = pd.read_excel(encoded_stock_data_path)\n",
    "# stock_data.head(2)\n",
    "# stock_data = stock_data.fillna('unknown')\n",
    "# stock_data['symbol'] = stock_data['symbol'].str.replace(r\"(\",\"\")\n",
    "# stock_data['symbol'] = stock_data['symbol'].str.replace(r\")\",\"\")\n",
    "# embeddings = HuggingFaceEmbeddings()\n",
    "# stock_meta_data = [{'symbol': stock_data.iloc[idx]['symbol'], 'name' : stock_data.iloc[idx]['name']} for idx in range(stock_data.shape[0])]\n",
    "# stock_meta_data\n",
    "# originals = [ stock_data.iloc[idx]['name'] + ' ' + stock_data.iloc[idx]['buisnesssummary'] for idx in range(stock_data.shape[0])]\n",
    "# originals[:5]\n",
    "# from langchain_community.vectorstores import FAISS\n",
    "# vectors = embeddings.embed_documents(originals)\n",
    "# '''Tuple[str, List[float]]'''\n",
    "\n",
    "# stock_data_embeddings = [(originals[idx],vectors[idx]) for idx in range(len(vectors))]\n",
    "# db = FAISS.from_embeddings(text_embeddings = stock_data_embeddings, embedding = embeddings, metadatas= stock_meta_data)\n",
    "# db.save_local(\"../vector_db/faiss_sl20_index\")\n"
   ]
  },
  {
   "cell_type": "markdown",
   "metadata": {},
   "source": [
    "# Recommendation generation"
   ]
  },
  {
   "cell_type": "code",
   "execution_count": 3,
   "metadata": {},
   "outputs": [],
   "source": [
    "embeddings = HuggingFaceEmbeddings()"
   ]
  },
  {
   "cell_type": "code",
   "execution_count": 4,
   "metadata": {},
   "outputs": [],
   "source": [
    "new_db = FAISS.load_local(\"../vector_db/faiss_sl20_index\", embeddings)"
   ]
  },
  {
   "cell_type": "code",
   "execution_count": 5,
   "metadata": {},
   "outputs": [],
   "source": [
    "def get_recommendations(query, top_k):\n",
    "  relevant_stocks = new_db.similarity_search_with_relevance_scores(query= query, k = top_k)\n",
    "  recommendations = [(relevant_stocks[idx][0].metadata.get('symbol'), relevant_stocks[idx][0].metadata.get('name')) for idx in range(len(relevant_stocks))]\n",
    "  for idx, data in enumerate(recommendations):\n",
    "    print('{}. {} : {}'.format(idx+1, data[0], data[1]))\n"
   ]
  },
  {
   "cell_type": "code",
   "execution_count": 6,
   "metadata": {},
   "outputs": [
    {
     "name": "stdout",
     "output_type": "stream",
     "text": [
      "1. JKH : JOHN KEELLS HOLDINGS PLC\n",
      "2. LOLC : L O L C HOLDINGS PLC\n",
      "3. LIOC : LANKA IOC PLC\n",
      "4. COMB : COMMERCIAL BANK OF CEYLON PLC\n",
      "5. NTB : NATIONS TRUST BANK PLC\n",
      "6. CIC : C I C HOLDINGS PLC\n",
      "7. SAMP : SAMPATH BANK PLC\n",
      "8. HAYL : HAYLEYS PLC\n",
      "9. HHL : HEMAS HOLDINGS PLC\n",
      "10. LOFC : LOLC FINANCE PLC\n"
     ]
    }
   ],
   "source": [
    "stock_pref = 'businesses in the domain of shipping and logistics'\n",
    "\n",
    "get_recommendations(stock_pref, top_k = 10)"
   ]
  },
  {
   "cell_type": "markdown",
   "metadata": {},
   "source": [
    "# Insight generation"
   ]
  },
  {
   "cell_type": "code",
   "execution_count": 7,
   "metadata": {},
   "outputs": [],
   "source": [
    "from datetime import datetime\n",
    "\n",
    "import plotly.graph_objects as go\n",
    "from plotly.subplots import make_subplots\n",
    "import plotly.express as px"
   ]
  },
  {
   "cell_type": "code",
   "execution_count": 8,
   "metadata": {},
   "outputs": [
    {
     "name": "stdout",
     "output_type": "stream",
     "text": [
      "WARNING *** OLE2 inconsistency: SSCS size is 0 but SSAT size is non-zero\n"
     ]
    }
   ],
   "source": [
    "data_path = '../data/SL20 Two years to Narada.xls'\n",
    "\n",
    "data = pd.read_excel(data_path, index_col= False)"
   ]
  },
  {
   "cell_type": "code",
   "execution_count": 9,
   "metadata": {},
   "outputs": [],
   "source": [
    "def split_(stock_name):\n",
    "    return stock_name.split('.')[0]"
   ]
  },
  {
   "cell_type": "code",
   "execution_count": 10,
   "metadata": {},
   "outputs": [],
   "source": [
    "data['SECURITYCODE'] = data['SECURITYCODE'].apply(lambda x : split_(x))"
   ]
  },
  {
   "cell_type": "code",
   "execution_count": 11,
   "metadata": {},
   "outputs": [],
   "source": [
    "data = data[['SECURITYCODE','OPENINGPRICE','HIGHPX', 'LOWPX', 'CLOSINGPRICE', 'TRADEDATE', 'UNIX_TS']].dropna(axis= 0, how = 'any')\n",
    "# data"
   ]
  },
  {
   "cell_type": "code",
   "execution_count": 12,
   "metadata": {},
   "outputs": [],
   "source": [
    "def plot_ohlc(data, title):\n",
    "    x_vals = data.TRADEDATE\n",
    "\n",
    "    fig = make_subplots(rows=1, cols=1, vertical_spacing=0.01 , specs=[[{'rowspan':1, 'type':'Candlestick'}]],shared_xaxes=True)\n",
    "    ohlc_obj = go.Candlestick(x=x_vals, open = data.OPENINGPRICE, high=data.HIGHPX, low=data.LOWPX, close=data.CLOSINGPRICE, name= title)\n",
    "    fig.add_trace(ohlc_obj, row = 1, col = 1)\n",
    "    fig.update_layout(title = title)\n",
    "    fig.show(config={\n",
    "        'modeBarButtonsToRemove': ['zoom', 'pan']\n",
    "    })"
   ]
  },
  {
   "cell_type": "code",
   "execution_count": 31,
   "metadata": {},
   "outputs": [],
   "source": [
    "from turtle import bgcolor\n",
    "from matplotlib.axis import XAxis\n",
    "\n",
    "\n",
    "def plot_ohlc_w_des(data, titile, des):\n",
    "    x_vals = data.TRADEDATE\n",
    "\n",
    "    fig = make_subplots(rows=1, cols=2, vertical_spacing=0.01, column_widths=[0.15, 0.85], subplot_titles=[\"\", \"Chart\"]) #,shared_xaxes=True\n",
    "    ohlc_obj = go.Candlestick(x=x_vals, open = data.OPENINGPRICE, high=data.HIGHPX, low=data.LOWPX, close=data.CLOSINGPRICE, name= 'OHLC')\n",
    "    fig.add_trace(ohlc_obj, row = 1, col = 2)\n",
    "    fig.add_trace(go.Scatter(x=[], y=[]), row=1, col=1)\n",
    "\n",
    "    fig.add_annotation(x=10, y=10, xref=\"paper\", yref=\"paper\",\n",
    "                   text=des, showarrow=False,\n",
    "                   align = 'left',\n",
    "                   font=dict(size=10, color=\"black\"),\n",
    "                   row=1, col=1)\n",
    "\n",
    "    fig.update_layout(xaxis=dict(visible=False), yaxis=dict(visible=False))\n",
    "    fig.update_yaxes(showgrid=False, zeroline=False, showticklabels=False, row=1, col=1)\n",
    "    fig.update_annotations(selector=dict(row=1, col=1), paper_bgcolor='rgba(0,0,0,0)',plot_bgcolor='rgba(0,0,0,0)')\n",
    "    fig.update_layout(height=500, width=1500, title_text=titile)\n",
    "\n",
    "    return fig"
   ]
  },
  {
   "cell_type": "markdown",
   "metadata": {},
   "source": [
    "## OHLC candles"
   ]
  },
  {
   "cell_type": "markdown",
   "metadata": {},
   "source": [
    "## Volatility calculations"
   ]
  },
  {
   "cell_type": "code",
   "execution_count": 14,
   "metadata": {},
   "outputs": [],
   "source": [
    "def get_log_returns_v2(df ,close_col , horizon):\n",
    "  data1 = df[close_col][horizon:].to_numpy()\n",
    "  data2 = df[close_col][:-horizon].to_numpy()\n",
    "  df = df.reset_index(drop = True)\n",
    "  df.loc[horizon:, 'returns'] = data1/data2\n",
    "  df['log_returns'] = np.log(df['returns'])\n",
    "  df = df.dropna(axis = 0, how = 'any').reset_index(drop = True)\n",
    "  return df"
   ]
  },
  {
   "cell_type": "code",
   "execution_count": 15,
   "metadata": {},
   "outputs": [],
   "source": [
    "def get_std_volatility(df, close_col = 'CLOSINGPRICE', horizon = 5):\n",
    "\n",
    "    df_out = get_log_returns_v2(df, 'CLOSINGPRICE', 5)\n",
    "    return_mean = df_out.log_returns.mean()\n",
    "    return_std = df_out.log_returns.std()\n",
    "\n",
    "    return return_mean, return_std"
   ]
  },
  {
   "cell_type": "markdown",
   "metadata": {},
   "source": [
    "### Garman Klass volatility\n",
    "![image.png](attachment:image.png)"
   ]
  },
  {
   "cell_type": "code",
   "execution_count": 16,
   "metadata": {},
   "outputs": [],
   "source": [
    "def GKHV(o,h,l,c):\n",
    "\n",
    "    volatility = (1/2)*((np.log(h/l))**2) + (2*(np.log(2))-1)*((np.log(c/o))**2)\n",
    "\n",
    "    return volatility"
   ]
  },
  {
   "cell_type": "markdown",
   "metadata": {},
   "source": [
    "### Rogers and Satchell\n",
    "\n",
    "![image.png](attachment:image.png)"
   ]
  },
  {
   "cell_type": "code",
   "execution_count": 17,
   "metadata": {},
   "outputs": [],
   "source": [
    "def RS(o,h,l,c,prev_c):\n",
    "\n",
    "    u = np.log(h/o)\n",
    "    c = np.log(c/o)\n",
    "    d = np.log(l/o)\n",
    "\n",
    "\n",
    "    volatility = u*(u-c) + d*(d-c)\n",
    "\n",
    "    return volatility\n"
   ]
  },
  {
   "cell_type": "markdown",
   "metadata": {},
   "source": [
    "### Yand and Zhang\n",
    "![image.png](attachment:image.png)"
   ]
  },
  {
   "cell_type": "code",
   "execution_count": 18,
   "metadata": {},
   "outputs": [],
   "source": [
    "symbol_volatilities = pd.DataFrame()\n",
    "v_dict = {}\n",
    "symbols = data\n",
    "for symbol in symbols:\n",
    "    # print(symbol)\n",
    "    v_dict['symbol'] = symbol\n",
    "\n",
    "    symbol_df = data.loc[data.SECURITYCODE == symbol].sort_values(by = 'UNIX_TS').reset_index(drop = True)\n",
    "    \n",
    "    symbol_df['gkhv'] = symbol_df.apply(lambda row: GKHV(row['OPENINGPRICE'],row['HIGHPX'],row['LOWPX'],row['CLOSINGPRICE']), axis = 1)\n",
    "    gkhv = np.sqrt(symbol_df.gkhv.mean())\n",
    "    v_dict['gkhv'] = gkhv\n",
    "\n",
    "    symbol_df['prev_c'] = symbol_df['CLOSINGPRICE'].shift(1)\n",
    "    symbol_df['rs'] = symbol_df.apply(lambda row: RS(row['OPENINGPRICE'],row['HIGHPX'],row['LOWPX'],row['CLOSINGPRICE'], row['prev_c']), axis = 1)\n",
    "    rs = np.sqrt(symbol_df.rs.mean())\n",
    "    v_dict['rs'] = rs\n",
    "\n",
    "    symbol_df['norm_o'] = symbol_df['OPENINGPRICE']/symbol_df['CLOSINGPRICE'].shift(1)\n",
    "    symbol_df['norm_c'] = symbol_df['CLOSINGPRICE']/symbol_df['OPENINGPRICE']\n",
    "    k = (0.34/(1.34 + ((len(symbol_df)+1)/(len(symbol_df)-1))))\n",
    "    yangzhang = np.sqrt((symbol_df['norm_o'].std()**2) + (k*symbol_df['norm_c'].std()**2) + (1-k)*symbol_df['rs'].mean())\n",
    "    v_dict['yangzhang'] = yangzhang\n",
    "\n",
    "    symbol_volatilities = pd.concat([symbol_volatilities, pd.DataFrame([v_dict])], ignore_index = True)"
   ]
  },
  {
   "cell_type": "markdown",
   "metadata": {},
   "source": [
    "### get_volatlity_insights"
   ]
  },
  {
   "cell_type": "code",
   "execution_count": 19,
   "metadata": {},
   "outputs": [],
   "source": [
    "def get_volatility_insights(symbol_df):\n",
    "\n",
    "    symbol_df['gkhv'] = symbol_df.apply(lambda row: GKHV(row['OPENINGPRICE'],row['HIGHPX'],row['LOWPX'],row['CLOSINGPRICE']), axis = 1)\n",
    "    gkhv = (np.sqrt(symbol_df.gkhv.mean()))*100\n",
    "\n",
    "    symbol_df['prev_c'] = symbol_df['CLOSINGPRICE'].shift(1)\n",
    "    symbol_df['rs'] = symbol_df.apply(lambda row: RS(row['OPENINGPRICE'],row['HIGHPX'],row['LOWPX'],row['CLOSINGPRICE'], row['prev_c']), axis = 1)\n",
    "    rs = (np.sqrt(symbol_df.rs.mean()))*100\n",
    "\n",
    "    symbol_df['norm_o'] = symbol_df['OPENINGPRICE']/symbol_df['CLOSINGPRICE'].shift(1)\n",
    "    symbol_df['norm_c'] = symbol_df['CLOSINGPRICE']/symbol_df['OPENINGPRICE']\n",
    "    k = (0.34/(1.34 + ((len(symbol_df)+1)/(len(symbol_df)-1))))\n",
    "    \n",
    "    yangzhang = np.sqrt((symbol_df['norm_o'].std()**2) + (k*symbol_df['norm_c'].std()**2) + (1-k)*symbol_df['rs'].mean())*100\n",
    "    \n",
    "    return gkhv, rs, yangzhang"
   ]
  },
  {
   "cell_type": "markdown",
   "metadata": {},
   "source": [
    "## Drowdown"
   ]
  },
  {
   "cell_type": "code",
   "execution_count": 20,
   "metadata": {},
   "outputs": [],
   "source": [
    "# returns percentage\n",
    "def max_drowdown(symb_df,close):\n",
    "    max_prs = close.rolling(window = len(symb_df), min_periods = 1).max()\n",
    "    dd = (close/max_prs) - 1\n",
    "    max_dd = dd.rolling(window = len(dd), min_periods=1).min()\n",
    "    return max_dd.min()*100\n"
   ]
  },
  {
   "cell_type": "markdown",
   "metadata": {},
   "source": [
    "## Returns"
   ]
  },
  {
   "cell_type": "code",
   "execution_count": 21,
   "metadata": {},
   "outputs": [],
   "source": [
    "def find_act_fday(symbol_df ,possible_dates):\n",
    "\n",
    "    for pos_date in possible_dates:\n",
    "    # print(pos_date)\n",
    "        if pos_date in symbol_df.TRADEDATE.values:\n",
    "            break\n",
    "    return pos_date"
   ]
  },
  {
   "cell_type": "markdown",
   "metadata": {},
   "source": [
    "### get_yr_2_date"
   ]
  },
  {
   "cell_type": "code",
   "execution_count": 36,
   "metadata": {},
   "outputs": [],
   "source": [
    "#returns the percentage value\n",
    "def get_yr_2_date(symbol_df):\n",
    "    fday = pd.Timestamp(datetime((pd.Timestamp.today().year),1,1).date())\n",
    "    possible_dates = pd.bdate_range(fday, fday+pd.offsets.BusinessDay(n=5))\n",
    "\n",
    "    act_fday = find_act_fday(symbol_df,possible_dates)\n",
    "    \n",
    "    fday_value = symbol_df.loc[symbol_df.TRADEDATE == act_fday].CLOSINGPRICE.iloc[0]\n",
    "    today_value = symbol_df.iloc[-1].CLOSINGPRICE\n",
    "\n",
    "    yr_2_dt_return = (today_value - fday_value)/fday_value\n",
    "\n",
    "    yr_2_date_df = symbol_df[symbol_df.TRADEDATE >= act_fday].sort_values(by = 'UNIX_TS')\n",
    "    gkhv, rs, yangzhang = get_volatility_insights(yr_2_date_df)\n",
    "\n",
    "    max_dd = max_drowdown(yr_2_date_df, yr_2_date_df['CLOSINGPRICE'])\n",
    "\n",
    "    # return yr_2_dt_return*100, max_dd, gkhv, rs, yangzhang\n",
    "    return round(yr_2_dt_return*100, 2), round(max_dd, 2) , round(gkhv, 2), round(rs, 2), round(yangzhang, 2)"
   ]
  },
  {
   "cell_type": "markdown",
   "metadata": {},
   "source": [
    "### get_yr"
   ]
  },
  {
   "cell_type": "code",
   "execution_count": 35,
   "metadata": {},
   "outputs": [],
   "source": [
    "# returns the percentage value\n",
    "def get_yr(symbol_df):\n",
    "\n",
    "    fday = symbol_df.TRADEDATE.iloc[-1] - pd.DateOffset(years=1)\n",
    "    possible_dates = pd.bdate_range(fday, fday+pd.offsets.BusinessDay(n=5))\n",
    "\n",
    "    act_fday = find_act_fday(symbol_df,possible_dates)\n",
    "    \n",
    "    fday_value = symbol_df.loc[symbol_df.TRADEDATE == act_fday].CLOSINGPRICE.iloc[0]\n",
    "    today_value = symbol_df.iloc[-1].CLOSINGPRICE\n",
    "\n",
    "    yr_return = (today_value - fday_value)/fday_value\n",
    "\n",
    "    yr_df = symbol_df[symbol_df.TRADEDATE >= act_fday].sort_values(by = 'UNIX_TS')\n",
    "    gkhv, rs, yangzhang = get_volatility_insights(yr_df)\n",
    "\n",
    "    max_dd = max_drowdown(yr_df, yr_df['CLOSINGPRICE'])\n",
    "\n",
    "    # return yr_return*100, max_dd, gkhv, rs, yangzhang\n",
    "    return round(yr_return*100, 2), round(max_dd, 2) , round(gkhv, 2), round(rs, 2), round(yangzhang, 2)"
   ]
  },
  {
   "cell_type": "markdown",
   "metadata": {},
   "source": [
    "### get_mn"
   ]
  },
  {
   "cell_type": "code",
   "execution_count": 24,
   "metadata": {},
   "outputs": [],
   "source": [
    "# returns the percentage value\n",
    "def get_mn(symbol_df):\n",
    "\n",
    "    fday = symbol_df.TRADEDATE.iloc[-1] - pd.DateOffset(months=1)\n",
    "    possible_dates = pd.bdate_range(fday, fday+pd.offsets.BusinessDay(n=5))\n",
    "\n",
    "    act_fday = find_act_fday(symbol_df,possible_dates)\n",
    "    \n",
    "    fday_value = symbol_df.loc[symbol_df.TRADEDATE == act_fday].CLOSINGPRICE.iloc[0]\n",
    "    today_value = symbol_df.iloc[-1].CLOSINGPRICE\n",
    "\n",
    "    mn_return = (today_value - fday_value)/fday_value\n",
    "\n",
    "    mn_df = symbol_df[symbol_df.TRADEDATE >= act_fday].sort_values(by = 'UNIX_TS')\n",
    "    gkhv, rs, yangzhang = get_volatility_insights(mn_df)\n",
    "\n",
    "    max_dd = max_drowdown(mn_df, mn_df['CLOSINGPRICE'])\n",
    "\n",
    "    return round(mn_return*100, 2), round(max_dd, 2) , round(gkhv, 2), round(rs, 2), round(yangzhang, 2)"
   ]
  },
  {
   "cell_type": "code",
   "execution_count": 25,
   "metadata": {},
   "outputs": [],
   "source": [
    "def get_insights(symbol):\n",
    "    insight_dict = {'year_to_date':{}, 'last_year':{}, 'last_month' : {}}\n",
    "    symbol_df = data.loc[data.SECURITYCODE == symbol].sort_values(by = 'UNIX_TS')\n",
    "\n",
    "    insight_dict['year_to_date']['yr_2_dt_return'], insight_dict['year_to_date']['yr_2_dt_mx_dd'], insight_dict['year_to_date']['gkhv'], insight_dict['year_to_date']['rs'], insight_dict['year_to_date']['yangzhang'] = get_yr_2_date(symbol_df)\n",
    "    insight_dict['last_year']['yr_2_dt_return'], insight_dict['last_year']['yr_2_dt_mx_dd'], insight_dict['last_year']['gkhv'], insight_dict['last_year']['rs'], insight_dict['last_year']['yangzhang'] = get_yr(symbol_df)\n",
    "    insight_dict['last_month']['yr_2_dt_return'], insight_dict['last_month']['yr_2_dt_mx_dd'], insight_dict['last_month']['gkhv'], insight_dict['last_month']['rs'], insight_dict['last_month']['yangzhang'] = get_mn(symbol_df)\n",
    "\n",
    "    return insight_dict"
   ]
  },
  {
   "cell_type": "code",
   "execution_count": 26,
   "metadata": {},
   "outputs": [],
   "source": [
    "def get_insights_html(symbol):\n",
    "    insight_dict = {'year_to_date':{}, 'last_year':{}, 'last_month' : {}}\n",
    "    symbol_df = data.loc[data.SECURITYCODE == symbol].sort_values(by = 'UNIX_TS')\n",
    "\n",
    "    y2d = get_yr_2_date(symbol_df)\n",
    "    yr = get_yr(symbol_df)\n",
    "    mn = get_mn(symbol_df)\n",
    "\n",
    "    desc = 'year to date : <br>'\\\n",
    "    '   return : {}%<br>'\\\n",
    "    '   max drow down : {}%<br>'\\\n",
    "    '   gkhv : {}%<br>'\\\n",
    "    '   rs : {}%<br>'\\\n",
    "    '   yangzhang : {}%<br>'\\\n",
    "    ' <br>'\\\n",
    "    'last year : <br>'\\\n",
    "    '   return : {}%<br>'\\\n",
    "    '   max drow down : {}%<br>'\\\n",
    "    '   gkhv : {}%<br>'\\\n",
    "    '   rs : {}%<br>'\\\n",
    "    '   yangzhang : {}%<br>'\\\n",
    "    ' <br>'\\\n",
    "    'last month : <br>'\\\n",
    "    '   return : {}%<br>'\\\n",
    "    '   max drow down : {}%<br>'\\\n",
    "    '   gkhv : {}%<br>'\\\n",
    "    '   rs : {}%<br>'\\\n",
    "    '   yangzhang : {}%<br>'.format(y2d[0],y2d[1],y2d[2],y2d[3],y2d[4],\n",
    "                        yr[0],yr[1],yr[2],yr[3],yr[4],\n",
    "                        mn[0],mn[1],mn[2],mn[3],mn[4])\n",
    "    return desc"
   ]
  },
  {
   "cell_type": "markdown",
   "metadata": {},
   "source": [
    "# Combined Recommender"
   ]
  },
  {
   "cell_type": "code",
   "execution_count": 27,
   "metadata": {},
   "outputs": [
    {
     "data": {
      "text/html": [
       "<div>\n",
       "<style scoped>\n",
       "    .dataframe tbody tr th:only-of-type {\n",
       "        vertical-align: middle;\n",
       "    }\n",
       "\n",
       "    .dataframe tbody tr th {\n",
       "        vertical-align: top;\n",
       "    }\n",
       "\n",
       "    .dataframe thead th {\n",
       "        text-align: right;\n",
       "    }\n",
       "</style>\n",
       "<table border=\"1\" class=\"dataframe\">\n",
       "  <thead>\n",
       "    <tr style=\"text-align: right;\">\n",
       "      <th></th>\n",
       "      <th>SECURITYCODE</th>\n",
       "      <th>OPENINGPRICE</th>\n",
       "      <th>HIGHPX</th>\n",
       "      <th>LOWPX</th>\n",
       "      <th>CLOSINGPRICE</th>\n",
       "      <th>TRADEDATE</th>\n",
       "      <th>UNIX_TS</th>\n",
       "    </tr>\n",
       "  </thead>\n",
       "  <tbody>\n",
       "    <tr>\n",
       "      <th>1</th>\n",
       "      <td>VONE</td>\n",
       "      <td>38.5</td>\n",
       "      <td>39.2</td>\n",
       "      <td>38.4</td>\n",
       "      <td>38.9</td>\n",
       "      <td>2024-02-07</td>\n",
       "      <td>1707264000</td>\n",
       "    </tr>\n",
       "    <tr>\n",
       "      <th>2</th>\n",
       "      <td>NDB</td>\n",
       "      <td>64.9</td>\n",
       "      <td>64.9</td>\n",
       "      <td>63.9</td>\n",
       "      <td>63.9</td>\n",
       "      <td>2024-02-07</td>\n",
       "      <td>1707264000</td>\n",
       "    </tr>\n",
       "  </tbody>\n",
       "</table>\n",
       "</div>"
      ],
      "text/plain": [
       "  SECURITYCODE  OPENINGPRICE  HIGHPX  LOWPX  CLOSINGPRICE  TRADEDATE  \\\n",
       "1         VONE          38.5    39.2   38.4          38.9 2024-02-07   \n",
       "2          NDB          64.9    64.9   63.9          63.9 2024-02-07   \n",
       "\n",
       "      UNIX_TS  \n",
       "1  1707264000  \n",
       "2  1707264000  "
      ]
     },
     "execution_count": 27,
     "metadata": {},
     "output_type": "execute_result"
    }
   ],
   "source": [
    "price_data = data.copy()\n",
    "price_data.head(2)"
   ]
  },
  {
   "cell_type": "code",
   "execution_count": 34,
   "metadata": {},
   "outputs": [
    {
     "name": "stdout",
     "output_type": "stream",
     "text": [
      "Running on local URL:  http://127.0.0.1:7864\n",
      "Running on public URL: https://ca18d010ac9fa58f61.gradio.live\n",
      "\n",
      "This share link expires in 72 hours. For free permanent hosting and GPU upgrades, run `gradio deploy` from Terminal to deploy to Spaces (https://huggingface.co/spaces)\n"
     ]
    },
    {
     "data": {
      "text/html": [
       "<div><iframe src=\"https://ca18d010ac9fa58f61.gradio.live\" width=\"100%\" height=\"500\" allow=\"autoplay; camera; microphone; clipboard-read; clipboard-write;\" frameborder=\"0\" allowfullscreen></iframe></div>"
      ],
      "text/plain": [
       "<IPython.core.display.HTML object>"
      ]
     },
     "metadata": {},
     "output_type": "display_data"
    }
   ],
   "source": [
    "def quey_generator(domains):\n",
    "    query = 'business that belong in the domains of '+','.join(domains)\n",
    "    return query\n",
    "\n",
    "def get_recommendations_gradio(domains, top_k = 5):\n",
    "  query = quey_generator(domains)\n",
    "  relevant_stocks = new_db.similarity_search_with_relevance_scores(query= query, k = top_k)\n",
    "  recommendations = [(relevant_stocks[idx][0].metadata.get('symbol'), relevant_stocks[idx][0].metadata.get('name')) for idx in range(len(relevant_stocks))]\n",
    "\n",
    "  recommended_symbols = []\n",
    "  reco_images = []\n",
    "  for idx, data in enumerate(recommendations):\n",
    "    recommended_symbols.append(data[0])\n",
    "    symbol_df = price_data[price_data.SECURITYCODE == data[0]].sort_values(by = 'UNIX_TS').reset_index(drop = True)\n",
    "    reco_img = plot_ohlc_w_des(symbol_df, '{} : {}'.format(data[0], data[1]) ,get_insights_html(data[0]))\n",
    "    reco_images.append(reco_img)\n",
    "  return reco_images\n",
    "\n",
    "with gr.Blocks() as demo:\n",
    "    inputs = gr.Dropdown(\n",
    "        [\"finance\", \"transport\", \"technology\", \"agriculture\"],\n",
    "        multiselect=True,\n",
    "        label=\"Domains\",\n",
    "        allow_custom_value=True,\n",
    "        scale=5\n",
    "    )\n",
    "    rec1, rec2, rec3, rec4, rec5 = [gr.Plot(), gr.Plot(),gr.Plot(),gr.Plot(),gr.Plot()]\n",
    "\n",
    "    inputs.change(get_recommendations_gradio, inputs=inputs, outputs=[rec1, rec2, rec3, rec4, rec5])\n",
    "    demo.load(get_recommendations_gradio, inputs=[inputs], outputs=[rec1, rec2, rec3, rec4, rec5])\n",
    "    demo.launch(share = True)"
   ]
  },
  {
   "cell_type": "code",
   "execution_count": 29,
   "metadata": {},
   "outputs": [
    {
     "ename": "SystemExit",
     "evalue": "",
     "output_type": "error",
     "traceback": [
      "An exception has occurred, use %tb to see the full traceback.\n",
      "\u001b[1;31mSystemExit\u001b[0m\n"
     ]
    },
    {
     "name": "stderr",
     "output_type": "stream",
     "text": [
      "c:\\Users\\bpadmin\\anaconda3\\envs\\tf_tr_recommender\\lib\\site-packages\\IPython\\core\\interactiveshell.py:3513: UserWarning: To exit: use 'exit', 'quit', or Ctrl-D.\n",
      "  warn(\"To exit: use 'exit', 'quit', or Ctrl-D.\", stacklevel=1)\n"
     ]
    }
   ],
   "source": [
    "sys.exit()"
   ]
  },
  {
   "cell_type": "markdown",
   "metadata": {},
   "source": [
    "# Sandbox"
   ]
  },
  {
   "cell_type": "code",
   "execution_count": null,
   "metadata": {},
   "outputs": [],
   "source": [
    "def plotly_fig2array(fig):\n",
    "    #convert Plotly fig to  an array\n",
    "    fig_bytes = fig.to_image(format=\"png\")\n",
    "    buf = io.BytesIO(fig_bytes)\n",
    "    img = Image.open(buf)\n",
    "    return np.asarray(img)\n",
    "\n",
    "def quey_generator(domains):\n",
    "    query = 'business that belong in the domains of '+','.join(domains)\n",
    "    return query\n",
    "\n",
    "def get_recommendations_gradio(domains, top_k = 5):\n",
    "  query = quey_generator(domains)\n",
    "  relevant_stocks = new_db.similarity_search_with_relevance_scores(query= query, k = top_k)\n",
    "  recommendations = [(relevant_stocks[idx][0].metadata.get('symbol'), relevant_stocks[idx][0].metadata.get('name')) for idx in range(len(relevant_stocks))]\n",
    "\n",
    "  recommended_symbols = []\n",
    "  reco_images = []\n",
    "  for idx, data in enumerate(recommendations):\n",
    "    recommended_symbols.append(data[0])\n",
    "    symbol_df = price_data[price_data.SECURITYCODE == data[0]].sort_values(by = 'UNIX_TS').reset_index(drop = True)\n",
    "    reco_img = plot_ohlc_w_des(symbol_df, data[0] ,get_insights_html(data[0]))\n",
    "    # reco_images.append(plotly_fig2array(reco_img))\n",
    "    reco_images.append(reco_img)\n",
    "  return reco_images\n",
    "\n",
    "\n",
    "demo = gr.Interface(\n",
    "    fn=get_recommendations_gradio,\n",
    "    inputs=gr.Dropdown(\n",
    "        [\"finance\", \"transport\", \"technology\", \"agriculture\"],\n",
    "        multiselect=True,\n",
    "        label=\"Domains\",\n",
    "        allow_custom_value=True,\n",
    "        scale=5\n",
    "    ),\n",
    "    outputs=[gr.Plot(min_width= 1000),gr.Plot(min_width= 1000),gr.Plot(min_width= 1000),gr.Plot(min_width= 1000),gr.Plot(min_width= 1000)],  #gr.Textbox(label=\"Description\"), gr.Label(\"Recommendations\"), \n",
    ")\n",
    "\n",
    "# Launch the interface\n",
    "# demo.launch(share=True)"
   ]
  },
  {
   "cell_type": "code",
   "execution_count": null,
   "metadata": {},
   "outputs": [],
   "source": [
    "test_plot = get_recommendations_gradio(['financial'])[0]"
   ]
  },
  {
   "cell_type": "code",
   "execution_count": null,
   "metadata": {},
   "outputs": [
    {
     "name": "stdout",
     "output_type": "stream",
     "text": [
      "Running on local URL:  http://127.0.0.1:7862\n",
      "\n",
      "To create a public link, set `share=True` in `launch()`.\n"
     ]
    },
    {
     "data": {
      "text/html": [
       "<div><iframe src=\"http://127.0.0.1:7862/\" width=\"100%\" height=\"500\" allow=\"autoplay; camera; microphone; clipboard-read; clipboard-write;\" frameborder=\"0\" allowfullscreen></iframe></div>"
      ],
      "text/plain": [
       "<IPython.core.display.HTML object>"
      ]
     },
     "metadata": {},
     "output_type": "display_data"
    },
    {
     "data": {
      "text/plain": []
     },
     "execution_count": 39,
     "metadata": {},
     "output_type": "execute_result"
    }
   ],
   "source": [
    "with gr.Blocks() as demo:\n",
    "    gr.Plot(value=test_plot)\n",
    "\n",
    "demo.launch()"
   ]
  },
  {
   "cell_type": "code",
   "execution_count": null,
   "metadata": {},
   "outputs": [],
   "source": [
    "import plotly.io as pio\n",
    "pio.write_image(test_plot, 'test_plot_save', format='png')\n",
    "\n",
    "# test_plot.write_image('test_plot_save')"
   ]
  },
  {
   "cell_type": "code",
   "execution_count": null,
   "metadata": {},
   "outputs": [],
   "source": [
    "# data[data.SECURITYCODE == 'VONE'].sort_values(by = 'UNIX_TS').reset_index(drop = True)"
   ]
  },
  {
   "cell_type": "code",
   "execution_count": null,
   "metadata": {},
   "outputs": [],
   "source": [
    "def get_recommendations(query, top_k, price_data):\n",
    "  relevant_stocks = new_db.similarity_search_with_relevance_scores(query= query, k = top_k)\n",
    "  recommendations = [(relevant_stocks[idx][0].metadata.get('symbol'), relevant_stocks[idx][0].metadata.get('name')) for idx in range(len(relevant_stocks))]\n",
    "  for idx, data in enumerate(recommendations):\n",
    "    symbol_df = price_data[price_data.SECURITYCODE == data[0]].sort_values(by = 'UNIX_TS').reset_index(drop = True)\n",
    "    print('{}. {} : {}'.format(idx+1, data[0], data[1]))\n",
    "    print()\n",
    "    print('Insights :')\n",
    "    # for key, value in get_insights(data[0]).items():\n",
    "    #   print(key + ': ' + str(value))\n",
    "  \n",
    "    print(json.dumps(get_insights(data[0]), indent=4))\n",
    "    print()\n",
    "    plot_ohlc(symbol_df, data[0])\n",
    "\n"
   ]
  },
  {
   "cell_type": "code",
   "execution_count": null,
   "metadata": {},
   "outputs": [],
   "source": [
    "def get_recommendations_imgs(query, top_k, price_data):\n",
    "  relevant_stocks = new_db.similarity_search_with_relevance_scores(query= query, k = top_k)\n",
    "  recommendations = [(relevant_stocks[idx][0].metadata.get('symbol'), relevant_stocks[idx][0].metadata.get('name')) for idx in range(len(relevant_stocks))]\n",
    "  reco_images = []\n",
    "\n",
    "  for idx, data in enumerate(recommendations):\n",
    "    symbol_df = price_data[price_data.SECURITYCODE == data[0]].sort_values(by = 'UNIX_TS').reset_index(drop = True)\n",
    "    insights_json = json.dumps(get_insights(data[0]), indent=4)\n",
    "    print('{}. {} : {}'.format(idx+1, data[0], data[1]))\n",
    "\n",
    "    reco_img = plot_ohlc_w_des(symbol_df, data[0] ,get_insights_html(data[0]))\n",
    "    reco_images.appendz(reco_images)\n",
    "\n",
    "  return reco_images\n",
    "\n"
   ]
  },
  {
   "cell_type": "code",
   "execution_count": null,
   "metadata": {},
   "outputs": [],
   "source": [
    "stock_pref = 'businesses in the domain of shipping and logistics'\n",
    "\n",
    "get_recommendations_imgs(stock_pref, top_k = 5, price_data = data)\n"
   ]
  },
  {
   "cell_type": "code",
   "execution_count": null,
   "metadata": {},
   "outputs": [],
   "source": [
    "def quey_generator(domains):\n",
    "    query = 'business that belong in the domains of '+','.join(domains)\n",
    "    return query\n",
    "\n",
    "def get_recommendations_gradio(domains, top_k = 5):\n",
    "  query = quey_generator(domains)\n",
    "  relevant_stocks = new_db.similarity_search_with_relevance_scores(query= query, k = top_k)\n",
    "  recommendations = [(relevant_stocks[idx][0].metadata.get('symbol'), relevant_stocks[idx][0].metadata.get('name')) for idx in range(len(relevant_stocks))]\n",
    "\n",
    "  reco_list = []\n",
    "  recommended_symbols = []\n",
    "  for idx, data in enumerate(recommendations):\n",
    "    recommended_symbols.append(data[0])\n",
    "    reco_list.append('{}. {} : {}'.format(idx+1, data[0], data[1]))\n",
    "    \n",
    "  # return_str = '\\n'.join(reco_list)\n",
    "  radio_bts = [(get_insights_html(symbol), symbol) for symbol in recommended_symbols]\n",
    "\n",
    "  html_recos = '\\n'.join(reco_list)\n",
    "  \n",
    "  # print(radio_bts)\n",
    "  return radio_bts"
   ]
  },
  {
   "cell_type": "code",
   "execution_count": null,
   "metadata": {},
   "outputs": [
    {
     "name": "stdout",
     "output_type": "stream",
     "text": [
      "Running on local URL:  http://127.0.0.1:7861\n",
      "\n",
      "Could not create share link. Please check your internet connection or our status page: https://status.gradio.app.\n"
     ]
    },
    {
     "data": {
      "text/html": [
       "<div><iframe src=\"http://127.0.0.1:7861/\" width=\"100%\" height=\"500\" allow=\"autoplay; camera; microphone; clipboard-read; clipboard-write;\" frameborder=\"0\" allowfullscreen></iframe></div>"
      ],
      "text/plain": [
       "<IPython.core.display.HTML object>"
      ]
     },
     "metadata": {},
     "output_type": "display_data"
    },
    {
     "data": {
      "text/plain": []
     },
     "execution_count": 41,
     "metadata": {},
     "output_type": "execute_result"
    }
   ],
   "source": [
    "import gradio as gr\n",
    "\n",
    "# Define the query generator function\n",
    "def query_generator(domains):\n",
    "    query = 'businesses that belong in the domains of ' + ', '.join(domains)\n",
    "    return query\n",
    "\n",
    "# Define the function to get recommendations\n",
    "def get_recommendations_gradio(domains, top_k=5):\n",
    "    # Generate query based on selected domains\n",
    "    query = query_generator(domains)\n",
    "    \n",
    "    # Get relevant stocks based on the query\n",
    "    relevant_stocks = new_db.similarity_search_with_relevance_scores(query=query, k=top_k)\n",
    "    \n",
    "    # Extract recommendations (symbols and names)\n",
    "    recommendations = [(relevant_stocks[idx][0].metadata.get('symbol'), relevant_stocks[idx][0].metadata.get('name')) for idx in range(len(relevant_stocks))]\n",
    "\n",
    "    reco_list = []\n",
    "    recommended_symbols = []\n",
    "    for idx, data in enumerate(recommendations):\n",
    "        recommended_symbols.append(data[0])\n",
    "        reco_list.append('{}. {} : {}'.format(idx + 1, data[0], data[1]))\n",
    "\n",
    "    # print(recommended_symbols)\n",
    "    # Create radio buttons along with associated symbols and insights\n",
    "    return_radio_bts = [(get_insights_html(symbol), symbol) for symbol in recommended_symbols]\n",
    "    print(return_radio_bts)\n",
    "    # Add description below the plot\n",
    "    description = \"This plot shows recommendations based on selected domains.\"\n",
    "    \n",
    "    return return_radio_bts #description, reco_list, \n",
    "\n",
    "# Create Gradio interface\n",
    "demo = gr.Interface(\n",
    "    fn=get_recommendations_gradio,\n",
    "    inputs=gr.Dropdown(\n",
    "        [\"finance\", \"transport\", \"technology\", \"agriculture\"],\n",
    "        multiselect=True,\n",
    "        label=\"Domains\",\n",
    "        allow_custom_value=True,\n",
    "        scale=5\n",
    "    ),\n",
    "    outputs=gr.Radio(),  #gr.Textbox(label=\"Description\"), gr.Label(\"Recommendations\"), \n",
    ")\n",
    "\n",
    "# Launch the interface\n",
    "demo.launch(share=True)\n"
   ]
  }
 ],
 "metadata": {
  "kernelspec": {
   "display_name": "tf_tr_recommender",
   "language": "python",
   "name": "python3"
  },
  "language_info": {
   "codemirror_mode": {
    "name": "ipython",
    "version": 3
   },
   "file_extension": ".py",
   "mimetype": "text/x-python",
   "name": "python",
   "nbconvert_exporter": "python",
   "pygments_lexer": "ipython3",
   "version": "0.0.0"
  }
 },
 "nbformat": 4,
 "nbformat_minor": 2
}
